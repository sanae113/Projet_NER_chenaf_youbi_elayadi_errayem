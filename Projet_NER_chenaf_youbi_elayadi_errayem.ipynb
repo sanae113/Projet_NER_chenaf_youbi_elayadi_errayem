{
  "nbformat": 4,
  "nbformat_minor": 0,
  "metadata": {
    "colab": {
      "provenance": []
    },
    "kernelspec": {
      "name": "python3",
      "display_name": "Python 3"
    },
    "language_info": {
      "name": "python"
    },
    "widgets": {
      "application/vnd.jupyter.widget-state+json": {
        "d6b6cba8cec048d5aed2858801539fac": {
          "model_module": "@jupyter-widgets/controls",
          "model_name": "HBoxModel",
          "model_module_version": "1.5.0",
          "state": {
            "_dom_classes": [],
            "_model_module": "@jupyter-widgets/controls",
            "_model_module_version": "1.5.0",
            "_model_name": "HBoxModel",
            "_view_count": null,
            "_view_module": "@jupyter-widgets/controls",
            "_view_module_version": "1.5.0",
            "_view_name": "HBoxView",
            "box_style": "",
            "children": [
              "IPY_MODEL_626deae48a2d49e0b6d99dfde4a09cce",
              "IPY_MODEL_ce4189aeb5d843b69cf85db700021e7c",
              "IPY_MODEL_2c703116ba9c442aa7f50c7a7264578d"
            ],
            "layout": "IPY_MODEL_60810af80b674bef82de960587941f5f"
          }
        },
        "626deae48a2d49e0b6d99dfde4a09cce": {
          "model_module": "@jupyter-widgets/controls",
          "model_name": "HTMLModel",
          "model_module_version": "1.5.0",
          "state": {
            "_dom_classes": [],
            "_model_module": "@jupyter-widgets/controls",
            "_model_module_version": "1.5.0",
            "_model_name": "HTMLModel",
            "_view_count": null,
            "_view_module": "@jupyter-widgets/controls",
            "_view_module_version": "1.5.0",
            "_view_name": "HTMLView",
            "description": "",
            "description_tooltip": null,
            "layout": "IPY_MODEL_ca59a59bc53a4f599fe3efcd692cf0a5",
            "placeholder": "​",
            "style": "IPY_MODEL_3e77c05366d240febbaa5acdca7ac115",
            "value": "tokenizer_config.json: 100%"
          }
        },
        "ce4189aeb5d843b69cf85db700021e7c": {
          "model_module": "@jupyter-widgets/controls",
          "model_name": "FloatProgressModel",
          "model_module_version": "1.5.0",
          "state": {
            "_dom_classes": [],
            "_model_module": "@jupyter-widgets/controls",
            "_model_module_version": "1.5.0",
            "_model_name": "FloatProgressModel",
            "_view_count": null,
            "_view_module": "@jupyter-widgets/controls",
            "_view_module_version": "1.5.0",
            "_view_name": "ProgressView",
            "bar_style": "success",
            "description": "",
            "description_tooltip": null,
            "layout": "IPY_MODEL_7064824eaf414d298d539aaabc107be3",
            "max": 49,
            "min": 0,
            "orientation": "horizontal",
            "style": "IPY_MODEL_01b4d7ab86594418a3507c4ce0b45446",
            "value": 49
          }
        },
        "2c703116ba9c442aa7f50c7a7264578d": {
          "model_module": "@jupyter-widgets/controls",
          "model_name": "HTMLModel",
          "model_module_version": "1.5.0",
          "state": {
            "_dom_classes": [],
            "_model_module": "@jupyter-widgets/controls",
            "_model_module_version": "1.5.0",
            "_model_name": "HTMLModel",
            "_view_count": null,
            "_view_module": "@jupyter-widgets/controls",
            "_view_module_version": "1.5.0",
            "_view_name": "HTMLView",
            "description": "",
            "description_tooltip": null,
            "layout": "IPY_MODEL_bada296268d34b00bfabb0039aed32d8",
            "placeholder": "​",
            "style": "IPY_MODEL_88e680532466409d9ae1e2168f1914fd",
            "value": " 49.0/49.0 [00:00&lt;00:00, 2.49kB/s]"
          }
        },
        "60810af80b674bef82de960587941f5f": {
          "model_module": "@jupyter-widgets/base",
          "model_name": "LayoutModel",
          "model_module_version": "1.2.0",
          "state": {
            "_model_module": "@jupyter-widgets/base",
            "_model_module_version": "1.2.0",
            "_model_name": "LayoutModel",
            "_view_count": null,
            "_view_module": "@jupyter-widgets/base",
            "_view_module_version": "1.2.0",
            "_view_name": "LayoutView",
            "align_content": null,
            "align_items": null,
            "align_self": null,
            "border": null,
            "bottom": null,
            "display": null,
            "flex": null,
            "flex_flow": null,
            "grid_area": null,
            "grid_auto_columns": null,
            "grid_auto_flow": null,
            "grid_auto_rows": null,
            "grid_column": null,
            "grid_gap": null,
            "grid_row": null,
            "grid_template_areas": null,
            "grid_template_columns": null,
            "grid_template_rows": null,
            "height": null,
            "justify_content": null,
            "justify_items": null,
            "left": null,
            "margin": null,
            "max_height": null,
            "max_width": null,
            "min_height": null,
            "min_width": null,
            "object_fit": null,
            "object_position": null,
            "order": null,
            "overflow": null,
            "overflow_x": null,
            "overflow_y": null,
            "padding": null,
            "right": null,
            "top": null,
            "visibility": null,
            "width": null
          }
        },
        "ca59a59bc53a4f599fe3efcd692cf0a5": {
          "model_module": "@jupyter-widgets/base",
          "model_name": "LayoutModel",
          "model_module_version": "1.2.0",
          "state": {
            "_model_module": "@jupyter-widgets/base",
            "_model_module_version": "1.2.0",
            "_model_name": "LayoutModel",
            "_view_count": null,
            "_view_module": "@jupyter-widgets/base",
            "_view_module_version": "1.2.0",
            "_view_name": "LayoutView",
            "align_content": null,
            "align_items": null,
            "align_self": null,
            "border": null,
            "bottom": null,
            "display": null,
            "flex": null,
            "flex_flow": null,
            "grid_area": null,
            "grid_auto_columns": null,
            "grid_auto_flow": null,
            "grid_auto_rows": null,
            "grid_column": null,
            "grid_gap": null,
            "grid_row": null,
            "grid_template_areas": null,
            "grid_template_columns": null,
            "grid_template_rows": null,
            "height": null,
            "justify_content": null,
            "justify_items": null,
            "left": null,
            "margin": null,
            "max_height": null,
            "max_width": null,
            "min_height": null,
            "min_width": null,
            "object_fit": null,
            "object_position": null,
            "order": null,
            "overflow": null,
            "overflow_x": null,
            "overflow_y": null,
            "padding": null,
            "right": null,
            "top": null,
            "visibility": null,
            "width": null
          }
        },
        "3e77c05366d240febbaa5acdca7ac115": {
          "model_module": "@jupyter-widgets/controls",
          "model_name": "DescriptionStyleModel",
          "model_module_version": "1.5.0",
          "state": {
            "_model_module": "@jupyter-widgets/controls",
            "_model_module_version": "1.5.0",
            "_model_name": "DescriptionStyleModel",
            "_view_count": null,
            "_view_module": "@jupyter-widgets/base",
            "_view_module_version": "1.2.0",
            "_view_name": "StyleView",
            "description_width": ""
          }
        },
        "7064824eaf414d298d539aaabc107be3": {
          "model_module": "@jupyter-widgets/base",
          "model_name": "LayoutModel",
          "model_module_version": "1.2.0",
          "state": {
            "_model_module": "@jupyter-widgets/base",
            "_model_module_version": "1.2.0",
            "_model_name": "LayoutModel",
            "_view_count": null,
            "_view_module": "@jupyter-widgets/base",
            "_view_module_version": "1.2.0",
            "_view_name": "LayoutView",
            "align_content": null,
            "align_items": null,
            "align_self": null,
            "border": null,
            "bottom": null,
            "display": null,
            "flex": null,
            "flex_flow": null,
            "grid_area": null,
            "grid_auto_columns": null,
            "grid_auto_flow": null,
            "grid_auto_rows": null,
            "grid_column": null,
            "grid_gap": null,
            "grid_row": null,
            "grid_template_areas": null,
            "grid_template_columns": null,
            "grid_template_rows": null,
            "height": null,
            "justify_content": null,
            "justify_items": null,
            "left": null,
            "margin": null,
            "max_height": null,
            "max_width": null,
            "min_height": null,
            "min_width": null,
            "object_fit": null,
            "object_position": null,
            "order": null,
            "overflow": null,
            "overflow_x": null,
            "overflow_y": null,
            "padding": null,
            "right": null,
            "top": null,
            "visibility": null,
            "width": null
          }
        },
        "01b4d7ab86594418a3507c4ce0b45446": {
          "model_module": "@jupyter-widgets/controls",
          "model_name": "ProgressStyleModel",
          "model_module_version": "1.5.0",
          "state": {
            "_model_module": "@jupyter-widgets/controls",
            "_model_module_version": "1.5.0",
            "_model_name": "ProgressStyleModel",
            "_view_count": null,
            "_view_module": "@jupyter-widgets/base",
            "_view_module_version": "1.2.0",
            "_view_name": "StyleView",
            "bar_color": null,
            "description_width": ""
          }
        },
        "bada296268d34b00bfabb0039aed32d8": {
          "model_module": "@jupyter-widgets/base",
          "model_name": "LayoutModel",
          "model_module_version": "1.2.0",
          "state": {
            "_model_module": "@jupyter-widgets/base",
            "_model_module_version": "1.2.0",
            "_model_name": "LayoutModel",
            "_view_count": null,
            "_view_module": "@jupyter-widgets/base",
            "_view_module_version": "1.2.0",
            "_view_name": "LayoutView",
            "align_content": null,
            "align_items": null,
            "align_self": null,
            "border": null,
            "bottom": null,
            "display": null,
            "flex": null,
            "flex_flow": null,
            "grid_area": null,
            "grid_auto_columns": null,
            "grid_auto_flow": null,
            "grid_auto_rows": null,
            "grid_column": null,
            "grid_gap": null,
            "grid_row": null,
            "grid_template_areas": null,
            "grid_template_columns": null,
            "grid_template_rows": null,
            "height": null,
            "justify_content": null,
            "justify_items": null,
            "left": null,
            "margin": null,
            "max_height": null,
            "max_width": null,
            "min_height": null,
            "min_width": null,
            "object_fit": null,
            "object_position": null,
            "order": null,
            "overflow": null,
            "overflow_x": null,
            "overflow_y": null,
            "padding": null,
            "right": null,
            "top": null,
            "visibility": null,
            "width": null
          }
        },
        "88e680532466409d9ae1e2168f1914fd": {
          "model_module": "@jupyter-widgets/controls",
          "model_name": "DescriptionStyleModel",
          "model_module_version": "1.5.0",
          "state": {
            "_model_module": "@jupyter-widgets/controls",
            "_model_module_version": "1.5.0",
            "_model_name": "DescriptionStyleModel",
            "_view_count": null,
            "_view_module": "@jupyter-widgets/base",
            "_view_module_version": "1.2.0",
            "_view_name": "StyleView",
            "description_width": ""
          }
        },
        "ceb39b5bbfe5401a9abcff8aec0c5480": {
          "model_module": "@jupyter-widgets/controls",
          "model_name": "HBoxModel",
          "model_module_version": "1.5.0",
          "state": {
            "_dom_classes": [],
            "_model_module": "@jupyter-widgets/controls",
            "_model_module_version": "1.5.0",
            "_model_name": "HBoxModel",
            "_view_count": null,
            "_view_module": "@jupyter-widgets/controls",
            "_view_module_version": "1.5.0",
            "_view_name": "HBoxView",
            "box_style": "",
            "children": [
              "IPY_MODEL_80096da9c5544410b645063c8ec30edc",
              "IPY_MODEL_f9317e3dd82b4e109950ab6fbb1dde91",
              "IPY_MODEL_1fbf54f8b23b4341a0a44f3d31e63c25"
            ],
            "layout": "IPY_MODEL_0108a278d4054b7d891e6f1e9da31d4a"
          }
        },
        "80096da9c5544410b645063c8ec30edc": {
          "model_module": "@jupyter-widgets/controls",
          "model_name": "HTMLModel",
          "model_module_version": "1.5.0",
          "state": {
            "_dom_classes": [],
            "_model_module": "@jupyter-widgets/controls",
            "_model_module_version": "1.5.0",
            "_model_name": "HTMLModel",
            "_view_count": null,
            "_view_module": "@jupyter-widgets/controls",
            "_view_module_version": "1.5.0",
            "_view_name": "HTMLView",
            "description": "",
            "description_tooltip": null,
            "layout": "IPY_MODEL_dacb324a376947a2a8f4fe6128c28271",
            "placeholder": "​",
            "style": "IPY_MODEL_06f1bcd1d7ba452ca50e38c475db826f",
            "value": "config.json: 100%"
          }
        },
        "f9317e3dd82b4e109950ab6fbb1dde91": {
          "model_module": "@jupyter-widgets/controls",
          "model_name": "FloatProgressModel",
          "model_module_version": "1.5.0",
          "state": {
            "_dom_classes": [],
            "_model_module": "@jupyter-widgets/controls",
            "_model_module_version": "1.5.0",
            "_model_name": "FloatProgressModel",
            "_view_count": null,
            "_view_module": "@jupyter-widgets/controls",
            "_view_module_version": "1.5.0",
            "_view_name": "ProgressView",
            "bar_style": "success",
            "description": "",
            "description_tooltip": null,
            "layout": "IPY_MODEL_fceca4e9cfa94f899a86ea36eada1116",
            "max": 570,
            "min": 0,
            "orientation": "horizontal",
            "style": "IPY_MODEL_42b5cf9356644899847708daea0b9e13",
            "value": 570
          }
        },
        "1fbf54f8b23b4341a0a44f3d31e63c25": {
          "model_module": "@jupyter-widgets/controls",
          "model_name": "HTMLModel",
          "model_module_version": "1.5.0",
          "state": {
            "_dom_classes": [],
            "_model_module": "@jupyter-widgets/controls",
            "_model_module_version": "1.5.0",
            "_model_name": "HTMLModel",
            "_view_count": null,
            "_view_module": "@jupyter-widgets/controls",
            "_view_module_version": "1.5.0",
            "_view_name": "HTMLView",
            "description": "",
            "description_tooltip": null,
            "layout": "IPY_MODEL_13aeccbb4a584ae9b4101d98a7aa69aa",
            "placeholder": "​",
            "style": "IPY_MODEL_f0c4cff65259405bb6c619880d464d7d",
            "value": " 570/570 [00:00&lt;00:00, 30.9kB/s]"
          }
        },
        "0108a278d4054b7d891e6f1e9da31d4a": {
          "model_module": "@jupyter-widgets/base",
          "model_name": "LayoutModel",
          "model_module_version": "1.2.0",
          "state": {
            "_model_module": "@jupyter-widgets/base",
            "_model_module_version": "1.2.0",
            "_model_name": "LayoutModel",
            "_view_count": null,
            "_view_module": "@jupyter-widgets/base",
            "_view_module_version": "1.2.0",
            "_view_name": "LayoutView",
            "align_content": null,
            "align_items": null,
            "align_self": null,
            "border": null,
            "bottom": null,
            "display": null,
            "flex": null,
            "flex_flow": null,
            "grid_area": null,
            "grid_auto_columns": null,
            "grid_auto_flow": null,
            "grid_auto_rows": null,
            "grid_column": null,
            "grid_gap": null,
            "grid_row": null,
            "grid_template_areas": null,
            "grid_template_columns": null,
            "grid_template_rows": null,
            "height": null,
            "justify_content": null,
            "justify_items": null,
            "left": null,
            "margin": null,
            "max_height": null,
            "max_width": null,
            "min_height": null,
            "min_width": null,
            "object_fit": null,
            "object_position": null,
            "order": null,
            "overflow": null,
            "overflow_x": null,
            "overflow_y": null,
            "padding": null,
            "right": null,
            "top": null,
            "visibility": null,
            "width": null
          }
        },
        "dacb324a376947a2a8f4fe6128c28271": {
          "model_module": "@jupyter-widgets/base",
          "model_name": "LayoutModel",
          "model_module_version": "1.2.0",
          "state": {
            "_model_module": "@jupyter-widgets/base",
            "_model_module_version": "1.2.0",
            "_model_name": "LayoutModel",
            "_view_count": null,
            "_view_module": "@jupyter-widgets/base",
            "_view_module_version": "1.2.0",
            "_view_name": "LayoutView",
            "align_content": null,
            "align_items": null,
            "align_self": null,
            "border": null,
            "bottom": null,
            "display": null,
            "flex": null,
            "flex_flow": null,
            "grid_area": null,
            "grid_auto_columns": null,
            "grid_auto_flow": null,
            "grid_auto_rows": null,
            "grid_column": null,
            "grid_gap": null,
            "grid_row": null,
            "grid_template_areas": null,
            "grid_template_columns": null,
            "grid_template_rows": null,
            "height": null,
            "justify_content": null,
            "justify_items": null,
            "left": null,
            "margin": null,
            "max_height": null,
            "max_width": null,
            "min_height": null,
            "min_width": null,
            "object_fit": null,
            "object_position": null,
            "order": null,
            "overflow": null,
            "overflow_x": null,
            "overflow_y": null,
            "padding": null,
            "right": null,
            "top": null,
            "visibility": null,
            "width": null
          }
        },
        "06f1bcd1d7ba452ca50e38c475db826f": {
          "model_module": "@jupyter-widgets/controls",
          "model_name": "DescriptionStyleModel",
          "model_module_version": "1.5.0",
          "state": {
            "_model_module": "@jupyter-widgets/controls",
            "_model_module_version": "1.5.0",
            "_model_name": "DescriptionStyleModel",
            "_view_count": null,
            "_view_module": "@jupyter-widgets/base",
            "_view_module_version": "1.2.0",
            "_view_name": "StyleView",
            "description_width": ""
          }
        },
        "fceca4e9cfa94f899a86ea36eada1116": {
          "model_module": "@jupyter-widgets/base",
          "model_name": "LayoutModel",
          "model_module_version": "1.2.0",
          "state": {
            "_model_module": "@jupyter-widgets/base",
            "_model_module_version": "1.2.0",
            "_model_name": "LayoutModel",
            "_view_count": null,
            "_view_module": "@jupyter-widgets/base",
            "_view_module_version": "1.2.0",
            "_view_name": "LayoutView",
            "align_content": null,
            "align_items": null,
            "align_self": null,
            "border": null,
            "bottom": null,
            "display": null,
            "flex": null,
            "flex_flow": null,
            "grid_area": null,
            "grid_auto_columns": null,
            "grid_auto_flow": null,
            "grid_auto_rows": null,
            "grid_column": null,
            "grid_gap": null,
            "grid_row": null,
            "grid_template_areas": null,
            "grid_template_columns": null,
            "grid_template_rows": null,
            "height": null,
            "justify_content": null,
            "justify_items": null,
            "left": null,
            "margin": null,
            "max_height": null,
            "max_width": null,
            "min_height": null,
            "min_width": null,
            "object_fit": null,
            "object_position": null,
            "order": null,
            "overflow": null,
            "overflow_x": null,
            "overflow_y": null,
            "padding": null,
            "right": null,
            "top": null,
            "visibility": null,
            "width": null
          }
        },
        "42b5cf9356644899847708daea0b9e13": {
          "model_module": "@jupyter-widgets/controls",
          "model_name": "ProgressStyleModel",
          "model_module_version": "1.5.0",
          "state": {
            "_model_module": "@jupyter-widgets/controls",
            "_model_module_version": "1.5.0",
            "_model_name": "ProgressStyleModel",
            "_view_count": null,
            "_view_module": "@jupyter-widgets/base",
            "_view_module_version": "1.2.0",
            "_view_name": "StyleView",
            "bar_color": null,
            "description_width": ""
          }
        },
        "13aeccbb4a584ae9b4101d98a7aa69aa": {
          "model_module": "@jupyter-widgets/base",
          "model_name": "LayoutModel",
          "model_module_version": "1.2.0",
          "state": {
            "_model_module": "@jupyter-widgets/base",
            "_model_module_version": "1.2.0",
            "_model_name": "LayoutModel",
            "_view_count": null,
            "_view_module": "@jupyter-widgets/base",
            "_view_module_version": "1.2.0",
            "_view_name": "LayoutView",
            "align_content": null,
            "align_items": null,
            "align_self": null,
            "border": null,
            "bottom": null,
            "display": null,
            "flex": null,
            "flex_flow": null,
            "grid_area": null,
            "grid_auto_columns": null,
            "grid_auto_flow": null,
            "grid_auto_rows": null,
            "grid_column": null,
            "grid_gap": null,
            "grid_row": null,
            "grid_template_areas": null,
            "grid_template_columns": null,
            "grid_template_rows": null,
            "height": null,
            "justify_content": null,
            "justify_items": null,
            "left": null,
            "margin": null,
            "max_height": null,
            "max_width": null,
            "min_height": null,
            "min_width": null,
            "object_fit": null,
            "object_position": null,
            "order": null,
            "overflow": null,
            "overflow_x": null,
            "overflow_y": null,
            "padding": null,
            "right": null,
            "top": null,
            "visibility": null,
            "width": null
          }
        },
        "f0c4cff65259405bb6c619880d464d7d": {
          "model_module": "@jupyter-widgets/controls",
          "model_name": "DescriptionStyleModel",
          "model_module_version": "1.5.0",
          "state": {
            "_model_module": "@jupyter-widgets/controls",
            "_model_module_version": "1.5.0",
            "_model_name": "DescriptionStyleModel",
            "_view_count": null,
            "_view_module": "@jupyter-widgets/base",
            "_view_module_version": "1.2.0",
            "_view_name": "StyleView",
            "description_width": ""
          }
        },
        "8caecfb1f5384244a5e493ab90dc98a3": {
          "model_module": "@jupyter-widgets/controls",
          "model_name": "HBoxModel",
          "model_module_version": "1.5.0",
          "state": {
            "_dom_classes": [],
            "_model_module": "@jupyter-widgets/controls",
            "_model_module_version": "1.5.0",
            "_model_name": "HBoxModel",
            "_view_count": null,
            "_view_module": "@jupyter-widgets/controls",
            "_view_module_version": "1.5.0",
            "_view_name": "HBoxView",
            "box_style": "",
            "children": [
              "IPY_MODEL_ee05e1852fc64d9cacb6573d4e319b4f",
              "IPY_MODEL_6a58120350364c14aa7fb164a6f84d0b",
              "IPY_MODEL_35c1666b1117489b9540baf9b5fa57fb"
            ],
            "layout": "IPY_MODEL_506cab9babb04e2284527b9c2aab78d0"
          }
        },
        "ee05e1852fc64d9cacb6573d4e319b4f": {
          "model_module": "@jupyter-widgets/controls",
          "model_name": "HTMLModel",
          "model_module_version": "1.5.0",
          "state": {
            "_dom_classes": [],
            "_model_module": "@jupyter-widgets/controls",
            "_model_module_version": "1.5.0",
            "_model_name": "HTMLModel",
            "_view_count": null,
            "_view_module": "@jupyter-widgets/controls",
            "_view_module_version": "1.5.0",
            "_view_name": "HTMLView",
            "description": "",
            "description_tooltip": null,
            "layout": "IPY_MODEL_3bb52160a9664d8a8a432aea21e6a82c",
            "placeholder": "​",
            "style": "IPY_MODEL_6e02c7a338bd41f485b041ed1c846572",
            "value": "vocab.txt: 100%"
          }
        },
        "6a58120350364c14aa7fb164a6f84d0b": {
          "model_module": "@jupyter-widgets/controls",
          "model_name": "FloatProgressModel",
          "model_module_version": "1.5.0",
          "state": {
            "_dom_classes": [],
            "_model_module": "@jupyter-widgets/controls",
            "_model_module_version": "1.5.0",
            "_model_name": "FloatProgressModel",
            "_view_count": null,
            "_view_module": "@jupyter-widgets/controls",
            "_view_module_version": "1.5.0",
            "_view_name": "ProgressView",
            "bar_style": "success",
            "description": "",
            "description_tooltip": null,
            "layout": "IPY_MODEL_81ec990741c34cbd8c7e2a9074f0fb20",
            "max": 213450,
            "min": 0,
            "orientation": "horizontal",
            "style": "IPY_MODEL_aef70871e56c4e9c9ff37892589109a4",
            "value": 213450
          }
        },
        "35c1666b1117489b9540baf9b5fa57fb": {
          "model_module": "@jupyter-widgets/controls",
          "model_name": "HTMLModel",
          "model_module_version": "1.5.0",
          "state": {
            "_dom_classes": [],
            "_model_module": "@jupyter-widgets/controls",
            "_model_module_version": "1.5.0",
            "_model_name": "HTMLModel",
            "_view_count": null,
            "_view_module": "@jupyter-widgets/controls",
            "_view_module_version": "1.5.0",
            "_view_name": "HTMLView",
            "description": "",
            "description_tooltip": null,
            "layout": "IPY_MODEL_71bf623f3b6e432cb027cd3c37532522",
            "placeholder": "​",
            "style": "IPY_MODEL_81d8b9b1ee0f4cbd8d744402400d46b4",
            "value": " 213k/213k [00:00&lt;00:00, 7.33MB/s]"
          }
        },
        "506cab9babb04e2284527b9c2aab78d0": {
          "model_module": "@jupyter-widgets/base",
          "model_name": "LayoutModel",
          "model_module_version": "1.2.0",
          "state": {
            "_model_module": "@jupyter-widgets/base",
            "_model_module_version": "1.2.0",
            "_model_name": "LayoutModel",
            "_view_count": null,
            "_view_module": "@jupyter-widgets/base",
            "_view_module_version": "1.2.0",
            "_view_name": "LayoutView",
            "align_content": null,
            "align_items": null,
            "align_self": null,
            "border": null,
            "bottom": null,
            "display": null,
            "flex": null,
            "flex_flow": null,
            "grid_area": null,
            "grid_auto_columns": null,
            "grid_auto_flow": null,
            "grid_auto_rows": null,
            "grid_column": null,
            "grid_gap": null,
            "grid_row": null,
            "grid_template_areas": null,
            "grid_template_columns": null,
            "grid_template_rows": null,
            "height": null,
            "justify_content": null,
            "justify_items": null,
            "left": null,
            "margin": null,
            "max_height": null,
            "max_width": null,
            "min_height": null,
            "min_width": null,
            "object_fit": null,
            "object_position": null,
            "order": null,
            "overflow": null,
            "overflow_x": null,
            "overflow_y": null,
            "padding": null,
            "right": null,
            "top": null,
            "visibility": null,
            "width": null
          }
        },
        "3bb52160a9664d8a8a432aea21e6a82c": {
          "model_module": "@jupyter-widgets/base",
          "model_name": "LayoutModel",
          "model_module_version": "1.2.0",
          "state": {
            "_model_module": "@jupyter-widgets/base",
            "_model_module_version": "1.2.0",
            "_model_name": "LayoutModel",
            "_view_count": null,
            "_view_module": "@jupyter-widgets/base",
            "_view_module_version": "1.2.0",
            "_view_name": "LayoutView",
            "align_content": null,
            "align_items": null,
            "align_self": null,
            "border": null,
            "bottom": null,
            "display": null,
            "flex": null,
            "flex_flow": null,
            "grid_area": null,
            "grid_auto_columns": null,
            "grid_auto_flow": null,
            "grid_auto_rows": null,
            "grid_column": null,
            "grid_gap": null,
            "grid_row": null,
            "grid_template_areas": null,
            "grid_template_columns": null,
            "grid_template_rows": null,
            "height": null,
            "justify_content": null,
            "justify_items": null,
            "left": null,
            "margin": null,
            "max_height": null,
            "max_width": null,
            "min_height": null,
            "min_width": null,
            "object_fit": null,
            "object_position": null,
            "order": null,
            "overflow": null,
            "overflow_x": null,
            "overflow_y": null,
            "padding": null,
            "right": null,
            "top": null,
            "visibility": null,
            "width": null
          }
        },
        "6e02c7a338bd41f485b041ed1c846572": {
          "model_module": "@jupyter-widgets/controls",
          "model_name": "DescriptionStyleModel",
          "model_module_version": "1.5.0",
          "state": {
            "_model_module": "@jupyter-widgets/controls",
            "_model_module_version": "1.5.0",
            "_model_name": "DescriptionStyleModel",
            "_view_count": null,
            "_view_module": "@jupyter-widgets/base",
            "_view_module_version": "1.2.0",
            "_view_name": "StyleView",
            "description_width": ""
          }
        },
        "81ec990741c34cbd8c7e2a9074f0fb20": {
          "model_module": "@jupyter-widgets/base",
          "model_name": "LayoutModel",
          "model_module_version": "1.2.0",
          "state": {
            "_model_module": "@jupyter-widgets/base",
            "_model_module_version": "1.2.0",
            "_model_name": "LayoutModel",
            "_view_count": null,
            "_view_module": "@jupyter-widgets/base",
            "_view_module_version": "1.2.0",
            "_view_name": "LayoutView",
            "align_content": null,
            "align_items": null,
            "align_self": null,
            "border": null,
            "bottom": null,
            "display": null,
            "flex": null,
            "flex_flow": null,
            "grid_area": null,
            "grid_auto_columns": null,
            "grid_auto_flow": null,
            "grid_auto_rows": null,
            "grid_column": null,
            "grid_gap": null,
            "grid_row": null,
            "grid_template_areas": null,
            "grid_template_columns": null,
            "grid_template_rows": null,
            "height": null,
            "justify_content": null,
            "justify_items": null,
            "left": null,
            "margin": null,
            "max_height": null,
            "max_width": null,
            "min_height": null,
            "min_width": null,
            "object_fit": null,
            "object_position": null,
            "order": null,
            "overflow": null,
            "overflow_x": null,
            "overflow_y": null,
            "padding": null,
            "right": null,
            "top": null,
            "visibility": null,
            "width": null
          }
        },
        "aef70871e56c4e9c9ff37892589109a4": {
          "model_module": "@jupyter-widgets/controls",
          "model_name": "ProgressStyleModel",
          "model_module_version": "1.5.0",
          "state": {
            "_model_module": "@jupyter-widgets/controls",
            "_model_module_version": "1.5.0",
            "_model_name": "ProgressStyleModel",
            "_view_count": null,
            "_view_module": "@jupyter-widgets/base",
            "_view_module_version": "1.2.0",
            "_view_name": "StyleView",
            "bar_color": null,
            "description_width": ""
          }
        },
        "71bf623f3b6e432cb027cd3c37532522": {
          "model_module": "@jupyter-widgets/base",
          "model_name": "LayoutModel",
          "model_module_version": "1.2.0",
          "state": {
            "_model_module": "@jupyter-widgets/base",
            "_model_module_version": "1.2.0",
            "_model_name": "LayoutModel",
            "_view_count": null,
            "_view_module": "@jupyter-widgets/base",
            "_view_module_version": "1.2.0",
            "_view_name": "LayoutView",
            "align_content": null,
            "align_items": null,
            "align_self": null,
            "border": null,
            "bottom": null,
            "display": null,
            "flex": null,
            "flex_flow": null,
            "grid_area": null,
            "grid_auto_columns": null,
            "grid_auto_flow": null,
            "grid_auto_rows": null,
            "grid_column": null,
            "grid_gap": null,
            "grid_row": null,
            "grid_template_areas": null,
            "grid_template_columns": null,
            "grid_template_rows": null,
            "height": null,
            "justify_content": null,
            "justify_items": null,
            "left": null,
            "margin": null,
            "max_height": null,
            "max_width": null,
            "min_height": null,
            "min_width": null,
            "object_fit": null,
            "object_position": null,
            "order": null,
            "overflow": null,
            "overflow_x": null,
            "overflow_y": null,
            "padding": null,
            "right": null,
            "top": null,
            "visibility": null,
            "width": null
          }
        },
        "81d8b9b1ee0f4cbd8d744402400d46b4": {
          "model_module": "@jupyter-widgets/controls",
          "model_name": "DescriptionStyleModel",
          "model_module_version": "1.5.0",
          "state": {
            "_model_module": "@jupyter-widgets/controls",
            "_model_module_version": "1.5.0",
            "_model_name": "DescriptionStyleModel",
            "_view_count": null,
            "_view_module": "@jupyter-widgets/base",
            "_view_module_version": "1.2.0",
            "_view_name": "StyleView",
            "description_width": ""
          }
        },
        "8c8ef2bb39244e26a2372e29b99b5926": {
          "model_module": "@jupyter-widgets/controls",
          "model_name": "HBoxModel",
          "model_module_version": "1.5.0",
          "state": {
            "_dom_classes": [],
            "_model_module": "@jupyter-widgets/controls",
            "_model_module_version": "1.5.0",
            "_model_name": "HBoxModel",
            "_view_count": null,
            "_view_module": "@jupyter-widgets/controls",
            "_view_module_version": "1.5.0",
            "_view_name": "HBoxView",
            "box_style": "",
            "children": [
              "IPY_MODEL_14c632ae27b74602aeeff25c84c34c52",
              "IPY_MODEL_df6d66df1a514b51bec3c27bb703de7f",
              "IPY_MODEL_3e87fc4803204c34899c222043ae8936"
            ],
            "layout": "IPY_MODEL_2680d4c986394aab8ddf4e53f4330f0c"
          }
        },
        "14c632ae27b74602aeeff25c84c34c52": {
          "model_module": "@jupyter-widgets/controls",
          "model_name": "HTMLModel",
          "model_module_version": "1.5.0",
          "state": {
            "_dom_classes": [],
            "_model_module": "@jupyter-widgets/controls",
            "_model_module_version": "1.5.0",
            "_model_name": "HTMLModel",
            "_view_count": null,
            "_view_module": "@jupyter-widgets/controls",
            "_view_module_version": "1.5.0",
            "_view_name": "HTMLView",
            "description": "",
            "description_tooltip": null,
            "layout": "IPY_MODEL_aeee7e312ca44bc0a003c4eab7ca1837",
            "placeholder": "​",
            "style": "IPY_MODEL_a4e62eb443cd490fa9fd4d72ac07cf04",
            "value": "tokenizer.json: 100%"
          }
        },
        "df6d66df1a514b51bec3c27bb703de7f": {
          "model_module": "@jupyter-widgets/controls",
          "model_name": "FloatProgressModel",
          "model_module_version": "1.5.0",
          "state": {
            "_dom_classes": [],
            "_model_module": "@jupyter-widgets/controls",
            "_model_module_version": "1.5.0",
            "_model_name": "FloatProgressModel",
            "_view_count": null,
            "_view_module": "@jupyter-widgets/controls",
            "_view_module_version": "1.5.0",
            "_view_name": "ProgressView",
            "bar_style": "success",
            "description": "",
            "description_tooltip": null,
            "layout": "IPY_MODEL_64aeb13fe3c548a192bde0641a2e17ed",
            "max": 435797,
            "min": 0,
            "orientation": "horizontal",
            "style": "IPY_MODEL_498615bdb4b3416d8c94be1006559acd",
            "value": 435797
          }
        },
        "3e87fc4803204c34899c222043ae8936": {
          "model_module": "@jupyter-widgets/controls",
          "model_name": "HTMLModel",
          "model_module_version": "1.5.0",
          "state": {
            "_dom_classes": [],
            "_model_module": "@jupyter-widgets/controls",
            "_model_module_version": "1.5.0",
            "_model_name": "HTMLModel",
            "_view_count": null,
            "_view_module": "@jupyter-widgets/controls",
            "_view_module_version": "1.5.0",
            "_view_name": "HTMLView",
            "description": "",
            "description_tooltip": null,
            "layout": "IPY_MODEL_671c484bebc349e3af25cffcc94b0fa5",
            "placeholder": "​",
            "style": "IPY_MODEL_dd239bed6b514780978457852b1f67a7",
            "value": " 436k/436k [00:00&lt;00:00, 20.5MB/s]"
          }
        },
        "2680d4c986394aab8ddf4e53f4330f0c": {
          "model_module": "@jupyter-widgets/base",
          "model_name": "LayoutModel",
          "model_module_version": "1.2.0",
          "state": {
            "_model_module": "@jupyter-widgets/base",
            "_model_module_version": "1.2.0",
            "_model_name": "LayoutModel",
            "_view_count": null,
            "_view_module": "@jupyter-widgets/base",
            "_view_module_version": "1.2.0",
            "_view_name": "LayoutView",
            "align_content": null,
            "align_items": null,
            "align_self": null,
            "border": null,
            "bottom": null,
            "display": null,
            "flex": null,
            "flex_flow": null,
            "grid_area": null,
            "grid_auto_columns": null,
            "grid_auto_flow": null,
            "grid_auto_rows": null,
            "grid_column": null,
            "grid_gap": null,
            "grid_row": null,
            "grid_template_areas": null,
            "grid_template_columns": null,
            "grid_template_rows": null,
            "height": null,
            "justify_content": null,
            "justify_items": null,
            "left": null,
            "margin": null,
            "max_height": null,
            "max_width": null,
            "min_height": null,
            "min_width": null,
            "object_fit": null,
            "object_position": null,
            "order": null,
            "overflow": null,
            "overflow_x": null,
            "overflow_y": null,
            "padding": null,
            "right": null,
            "top": null,
            "visibility": null,
            "width": null
          }
        },
        "aeee7e312ca44bc0a003c4eab7ca1837": {
          "model_module": "@jupyter-widgets/base",
          "model_name": "LayoutModel",
          "model_module_version": "1.2.0",
          "state": {
            "_model_module": "@jupyter-widgets/base",
            "_model_module_version": "1.2.0",
            "_model_name": "LayoutModel",
            "_view_count": null,
            "_view_module": "@jupyter-widgets/base",
            "_view_module_version": "1.2.0",
            "_view_name": "LayoutView",
            "align_content": null,
            "align_items": null,
            "align_self": null,
            "border": null,
            "bottom": null,
            "display": null,
            "flex": null,
            "flex_flow": null,
            "grid_area": null,
            "grid_auto_columns": null,
            "grid_auto_flow": null,
            "grid_auto_rows": null,
            "grid_column": null,
            "grid_gap": null,
            "grid_row": null,
            "grid_template_areas": null,
            "grid_template_columns": null,
            "grid_template_rows": null,
            "height": null,
            "justify_content": null,
            "justify_items": null,
            "left": null,
            "margin": null,
            "max_height": null,
            "max_width": null,
            "min_height": null,
            "min_width": null,
            "object_fit": null,
            "object_position": null,
            "order": null,
            "overflow": null,
            "overflow_x": null,
            "overflow_y": null,
            "padding": null,
            "right": null,
            "top": null,
            "visibility": null,
            "width": null
          }
        },
        "a4e62eb443cd490fa9fd4d72ac07cf04": {
          "model_module": "@jupyter-widgets/controls",
          "model_name": "DescriptionStyleModel",
          "model_module_version": "1.5.0",
          "state": {
            "_model_module": "@jupyter-widgets/controls",
            "_model_module_version": "1.5.0",
            "_model_name": "DescriptionStyleModel",
            "_view_count": null,
            "_view_module": "@jupyter-widgets/base",
            "_view_module_version": "1.2.0",
            "_view_name": "StyleView",
            "description_width": ""
          }
        },
        "64aeb13fe3c548a192bde0641a2e17ed": {
          "model_module": "@jupyter-widgets/base",
          "model_name": "LayoutModel",
          "model_module_version": "1.2.0",
          "state": {
            "_model_module": "@jupyter-widgets/base",
            "_model_module_version": "1.2.0",
            "_model_name": "LayoutModel",
            "_view_count": null,
            "_view_module": "@jupyter-widgets/base",
            "_view_module_version": "1.2.0",
            "_view_name": "LayoutView",
            "align_content": null,
            "align_items": null,
            "align_self": null,
            "border": null,
            "bottom": null,
            "display": null,
            "flex": null,
            "flex_flow": null,
            "grid_area": null,
            "grid_auto_columns": null,
            "grid_auto_flow": null,
            "grid_auto_rows": null,
            "grid_column": null,
            "grid_gap": null,
            "grid_row": null,
            "grid_template_areas": null,
            "grid_template_columns": null,
            "grid_template_rows": null,
            "height": null,
            "justify_content": null,
            "justify_items": null,
            "left": null,
            "margin": null,
            "max_height": null,
            "max_width": null,
            "min_height": null,
            "min_width": null,
            "object_fit": null,
            "object_position": null,
            "order": null,
            "overflow": null,
            "overflow_x": null,
            "overflow_y": null,
            "padding": null,
            "right": null,
            "top": null,
            "visibility": null,
            "width": null
          }
        },
        "498615bdb4b3416d8c94be1006559acd": {
          "model_module": "@jupyter-widgets/controls",
          "model_name": "ProgressStyleModel",
          "model_module_version": "1.5.0",
          "state": {
            "_model_module": "@jupyter-widgets/controls",
            "_model_module_version": "1.5.0",
            "_model_name": "ProgressStyleModel",
            "_view_count": null,
            "_view_module": "@jupyter-widgets/base",
            "_view_module_version": "1.2.0",
            "_view_name": "StyleView",
            "bar_color": null,
            "description_width": ""
          }
        },
        "671c484bebc349e3af25cffcc94b0fa5": {
          "model_module": "@jupyter-widgets/base",
          "model_name": "LayoutModel",
          "model_module_version": "1.2.0",
          "state": {
            "_model_module": "@jupyter-widgets/base",
            "_model_module_version": "1.2.0",
            "_model_name": "LayoutModel",
            "_view_count": null,
            "_view_module": "@jupyter-widgets/base",
            "_view_module_version": "1.2.0",
            "_view_name": "LayoutView",
            "align_content": null,
            "align_items": null,
            "align_self": null,
            "border": null,
            "bottom": null,
            "display": null,
            "flex": null,
            "flex_flow": null,
            "grid_area": null,
            "grid_auto_columns": null,
            "grid_auto_flow": null,
            "grid_auto_rows": null,
            "grid_column": null,
            "grid_gap": null,
            "grid_row": null,
            "grid_template_areas": null,
            "grid_template_columns": null,
            "grid_template_rows": null,
            "height": null,
            "justify_content": null,
            "justify_items": null,
            "left": null,
            "margin": null,
            "max_height": null,
            "max_width": null,
            "min_height": null,
            "min_width": null,
            "object_fit": null,
            "object_position": null,
            "order": null,
            "overflow": null,
            "overflow_x": null,
            "overflow_y": null,
            "padding": null,
            "right": null,
            "top": null,
            "visibility": null,
            "width": null
          }
        },
        "dd239bed6b514780978457852b1f67a7": {
          "model_module": "@jupyter-widgets/controls",
          "model_name": "DescriptionStyleModel",
          "model_module_version": "1.5.0",
          "state": {
            "_model_module": "@jupyter-widgets/controls",
            "_model_module_version": "1.5.0",
            "_model_name": "DescriptionStyleModel",
            "_view_count": null,
            "_view_module": "@jupyter-widgets/base",
            "_view_module_version": "1.2.0",
            "_view_name": "StyleView",
            "description_width": ""
          }
        },
        "8779b742f53b43f3b822eb9c8c4474bd": {
          "model_module": "@jupyter-widgets/controls",
          "model_name": "HBoxModel",
          "model_module_version": "1.5.0",
          "state": {
            "_dom_classes": [],
            "_model_module": "@jupyter-widgets/controls",
            "_model_module_version": "1.5.0",
            "_model_name": "HBoxModel",
            "_view_count": null,
            "_view_module": "@jupyter-widgets/controls",
            "_view_module_version": "1.5.0",
            "_view_name": "HBoxView",
            "box_style": "",
            "children": [
              "IPY_MODEL_a292ccffe1ed4d0ba47fb0503cbc31ed",
              "IPY_MODEL_f53ec23d964f4d20a9f5904f151bea2a",
              "IPY_MODEL_6f0d2f30cf594fa5ae1ad0ae32860364"
            ],
            "layout": "IPY_MODEL_1bb9c3443120456882af06f11414b5ab"
          }
        },
        "a292ccffe1ed4d0ba47fb0503cbc31ed": {
          "model_module": "@jupyter-widgets/controls",
          "model_name": "HTMLModel",
          "model_module_version": "1.5.0",
          "state": {
            "_dom_classes": [],
            "_model_module": "@jupyter-widgets/controls",
            "_model_module_version": "1.5.0",
            "_model_name": "HTMLModel",
            "_view_count": null,
            "_view_module": "@jupyter-widgets/controls",
            "_view_module_version": "1.5.0",
            "_view_name": "HTMLView",
            "description": "",
            "description_tooltip": null,
            "layout": "IPY_MODEL_4ab7c55f0d5149e8897fa442446f0d35",
            "placeholder": "​",
            "style": "IPY_MODEL_552002a3a8ae4cde86edd9d7f825cb6b",
            "value": "tokenizer_config.json: 100%"
          }
        },
        "f53ec23d964f4d20a9f5904f151bea2a": {
          "model_module": "@jupyter-widgets/controls",
          "model_name": "FloatProgressModel",
          "model_module_version": "1.5.0",
          "state": {
            "_dom_classes": [],
            "_model_module": "@jupyter-widgets/controls",
            "_model_module_version": "1.5.0",
            "_model_name": "FloatProgressModel",
            "_view_count": null,
            "_view_module": "@jupyter-widgets/controls",
            "_view_module_version": "1.5.0",
            "_view_name": "ProgressView",
            "bar_style": "success",
            "description": "",
            "description_tooltip": null,
            "layout": "IPY_MODEL_c25a8cce803c4235bab6adf60304aa30",
            "max": 48,
            "min": 0,
            "orientation": "horizontal",
            "style": "IPY_MODEL_2cf9bf985eaf40aaa82950621529966f",
            "value": 48
          }
        },
        "6f0d2f30cf594fa5ae1ad0ae32860364": {
          "model_module": "@jupyter-widgets/controls",
          "model_name": "HTMLModel",
          "model_module_version": "1.5.0",
          "state": {
            "_dom_classes": [],
            "_model_module": "@jupyter-widgets/controls",
            "_model_module_version": "1.5.0",
            "_model_name": "HTMLModel",
            "_view_count": null,
            "_view_module": "@jupyter-widgets/controls",
            "_view_module_version": "1.5.0",
            "_view_name": "HTMLView",
            "description": "",
            "description_tooltip": null,
            "layout": "IPY_MODEL_0238e08cf6cf40cfa449728cf79748fc",
            "placeholder": "​",
            "style": "IPY_MODEL_da4f4a8c20bc4a408ec37ab040208cfe",
            "value": " 48.0/48.0 [00:00&lt;00:00, 2.00kB/s]"
          }
        },
        "1bb9c3443120456882af06f11414b5ab": {
          "model_module": "@jupyter-widgets/base",
          "model_name": "LayoutModel",
          "model_module_version": "1.2.0",
          "state": {
            "_model_module": "@jupyter-widgets/base",
            "_model_module_version": "1.2.0",
            "_model_name": "LayoutModel",
            "_view_count": null,
            "_view_module": "@jupyter-widgets/base",
            "_view_module_version": "1.2.0",
            "_view_name": "LayoutView",
            "align_content": null,
            "align_items": null,
            "align_self": null,
            "border": null,
            "bottom": null,
            "display": null,
            "flex": null,
            "flex_flow": null,
            "grid_area": null,
            "grid_auto_columns": null,
            "grid_auto_flow": null,
            "grid_auto_rows": null,
            "grid_column": null,
            "grid_gap": null,
            "grid_row": null,
            "grid_template_areas": null,
            "grid_template_columns": null,
            "grid_template_rows": null,
            "height": null,
            "justify_content": null,
            "justify_items": null,
            "left": null,
            "margin": null,
            "max_height": null,
            "max_width": null,
            "min_height": null,
            "min_width": null,
            "object_fit": null,
            "object_position": null,
            "order": null,
            "overflow": null,
            "overflow_x": null,
            "overflow_y": null,
            "padding": null,
            "right": null,
            "top": null,
            "visibility": null,
            "width": null
          }
        },
        "4ab7c55f0d5149e8897fa442446f0d35": {
          "model_module": "@jupyter-widgets/base",
          "model_name": "LayoutModel",
          "model_module_version": "1.2.0",
          "state": {
            "_model_module": "@jupyter-widgets/base",
            "_model_module_version": "1.2.0",
            "_model_name": "LayoutModel",
            "_view_count": null,
            "_view_module": "@jupyter-widgets/base",
            "_view_module_version": "1.2.0",
            "_view_name": "LayoutView",
            "align_content": null,
            "align_items": null,
            "align_self": null,
            "border": null,
            "bottom": null,
            "display": null,
            "flex": null,
            "flex_flow": null,
            "grid_area": null,
            "grid_auto_columns": null,
            "grid_auto_flow": null,
            "grid_auto_rows": null,
            "grid_column": null,
            "grid_gap": null,
            "grid_row": null,
            "grid_template_areas": null,
            "grid_template_columns": null,
            "grid_template_rows": null,
            "height": null,
            "justify_content": null,
            "justify_items": null,
            "left": null,
            "margin": null,
            "max_height": null,
            "max_width": null,
            "min_height": null,
            "min_width": null,
            "object_fit": null,
            "object_position": null,
            "order": null,
            "overflow": null,
            "overflow_x": null,
            "overflow_y": null,
            "padding": null,
            "right": null,
            "top": null,
            "visibility": null,
            "width": null
          }
        },
        "552002a3a8ae4cde86edd9d7f825cb6b": {
          "model_module": "@jupyter-widgets/controls",
          "model_name": "DescriptionStyleModel",
          "model_module_version": "1.5.0",
          "state": {
            "_model_module": "@jupyter-widgets/controls",
            "_model_module_version": "1.5.0",
            "_model_name": "DescriptionStyleModel",
            "_view_count": null,
            "_view_module": "@jupyter-widgets/base",
            "_view_module_version": "1.2.0",
            "_view_name": "StyleView",
            "description_width": ""
          }
        },
        "c25a8cce803c4235bab6adf60304aa30": {
          "model_module": "@jupyter-widgets/base",
          "model_name": "LayoutModel",
          "model_module_version": "1.2.0",
          "state": {
            "_model_module": "@jupyter-widgets/base",
            "_model_module_version": "1.2.0",
            "_model_name": "LayoutModel",
            "_view_count": null,
            "_view_module": "@jupyter-widgets/base",
            "_view_module_version": "1.2.0",
            "_view_name": "LayoutView",
            "align_content": null,
            "align_items": null,
            "align_self": null,
            "border": null,
            "bottom": null,
            "display": null,
            "flex": null,
            "flex_flow": null,
            "grid_area": null,
            "grid_auto_columns": null,
            "grid_auto_flow": null,
            "grid_auto_rows": null,
            "grid_column": null,
            "grid_gap": null,
            "grid_row": null,
            "grid_template_areas": null,
            "grid_template_columns": null,
            "grid_template_rows": null,
            "height": null,
            "justify_content": null,
            "justify_items": null,
            "left": null,
            "margin": null,
            "max_height": null,
            "max_width": null,
            "min_height": null,
            "min_width": null,
            "object_fit": null,
            "object_position": null,
            "order": null,
            "overflow": null,
            "overflow_x": null,
            "overflow_y": null,
            "padding": null,
            "right": null,
            "top": null,
            "visibility": null,
            "width": null
          }
        },
        "2cf9bf985eaf40aaa82950621529966f": {
          "model_module": "@jupyter-widgets/controls",
          "model_name": "ProgressStyleModel",
          "model_module_version": "1.5.0",
          "state": {
            "_model_module": "@jupyter-widgets/controls",
            "_model_module_version": "1.5.0",
            "_model_name": "ProgressStyleModel",
            "_view_count": null,
            "_view_module": "@jupyter-widgets/base",
            "_view_module_version": "1.2.0",
            "_view_name": "StyleView",
            "bar_color": null,
            "description_width": ""
          }
        },
        "0238e08cf6cf40cfa449728cf79748fc": {
          "model_module": "@jupyter-widgets/base",
          "model_name": "LayoutModel",
          "model_module_version": "1.2.0",
          "state": {
            "_model_module": "@jupyter-widgets/base",
            "_model_module_version": "1.2.0",
            "_model_name": "LayoutModel",
            "_view_count": null,
            "_view_module": "@jupyter-widgets/base",
            "_view_module_version": "1.2.0",
            "_view_name": "LayoutView",
            "align_content": null,
            "align_items": null,
            "align_self": null,
            "border": null,
            "bottom": null,
            "display": null,
            "flex": null,
            "flex_flow": null,
            "grid_area": null,
            "grid_auto_columns": null,
            "grid_auto_flow": null,
            "grid_auto_rows": null,
            "grid_column": null,
            "grid_gap": null,
            "grid_row": null,
            "grid_template_areas": null,
            "grid_template_columns": null,
            "grid_template_rows": null,
            "height": null,
            "justify_content": null,
            "justify_items": null,
            "left": null,
            "margin": null,
            "max_height": null,
            "max_width": null,
            "min_height": null,
            "min_width": null,
            "object_fit": null,
            "object_position": null,
            "order": null,
            "overflow": null,
            "overflow_x": null,
            "overflow_y": null,
            "padding": null,
            "right": null,
            "top": null,
            "visibility": null,
            "width": null
          }
        },
        "da4f4a8c20bc4a408ec37ab040208cfe": {
          "model_module": "@jupyter-widgets/controls",
          "model_name": "DescriptionStyleModel",
          "model_module_version": "1.5.0",
          "state": {
            "_model_module": "@jupyter-widgets/controls",
            "_model_module_version": "1.5.0",
            "_model_name": "DescriptionStyleModel",
            "_view_count": null,
            "_view_module": "@jupyter-widgets/base",
            "_view_module_version": "1.2.0",
            "_view_name": "StyleView",
            "description_width": ""
          }
        },
        "e2b17f12fd0c4cce9b92ee7af3413d8b": {
          "model_module": "@jupyter-widgets/controls",
          "model_name": "HBoxModel",
          "model_module_version": "1.5.0",
          "state": {
            "_dom_classes": [],
            "_model_module": "@jupyter-widgets/controls",
            "_model_module_version": "1.5.0",
            "_model_name": "HBoxModel",
            "_view_count": null,
            "_view_module": "@jupyter-widgets/controls",
            "_view_module_version": "1.5.0",
            "_view_name": "HBoxView",
            "box_style": "",
            "children": [
              "IPY_MODEL_af564a96f4e048aa93b8c5a05091bd1e",
              "IPY_MODEL_a4987cc652274cee94a123c20abc1541",
              "IPY_MODEL_0b983301c6254efcbd014087a2000f5e"
            ],
            "layout": "IPY_MODEL_c5c25c45a2cd44a1ab8719de1b33a4de"
          }
        },
        "af564a96f4e048aa93b8c5a05091bd1e": {
          "model_module": "@jupyter-widgets/controls",
          "model_name": "HTMLModel",
          "model_module_version": "1.5.0",
          "state": {
            "_dom_classes": [],
            "_model_module": "@jupyter-widgets/controls",
            "_model_module_version": "1.5.0",
            "_model_name": "HTMLModel",
            "_view_count": null,
            "_view_module": "@jupyter-widgets/controls",
            "_view_module_version": "1.5.0",
            "_view_name": "HTMLView",
            "description": "",
            "description_tooltip": null,
            "layout": "IPY_MODEL_2bf5e8034d55468592cc84d67d427665",
            "placeholder": "​",
            "style": "IPY_MODEL_92cb8d62381f4aa08f0438a457ad5288",
            "value": "config.json: 100%"
          }
        },
        "a4987cc652274cee94a123c20abc1541": {
          "model_module": "@jupyter-widgets/controls",
          "model_name": "FloatProgressModel",
          "model_module_version": "1.5.0",
          "state": {
            "_dom_classes": [],
            "_model_module": "@jupyter-widgets/controls",
            "_model_module_version": "1.5.0",
            "_model_name": "FloatProgressModel",
            "_view_count": null,
            "_view_module": "@jupyter-widgets/controls",
            "_view_module_version": "1.5.0",
            "_view_name": "ProgressView",
            "bar_style": "success",
            "description": "",
            "description_tooltip": null,
            "layout": "IPY_MODEL_6fcda3b4ca964e24a17479d287216ec5",
            "max": 570,
            "min": 0,
            "orientation": "horizontal",
            "style": "IPY_MODEL_3c114709f3be4dc182a514ab5fcf0f85",
            "value": 570
          }
        },
        "0b983301c6254efcbd014087a2000f5e": {
          "model_module": "@jupyter-widgets/controls",
          "model_name": "HTMLModel",
          "model_module_version": "1.5.0",
          "state": {
            "_dom_classes": [],
            "_model_module": "@jupyter-widgets/controls",
            "_model_module_version": "1.5.0",
            "_model_name": "HTMLModel",
            "_view_count": null,
            "_view_module": "@jupyter-widgets/controls",
            "_view_module_version": "1.5.0",
            "_view_name": "HTMLView",
            "description": "",
            "description_tooltip": null,
            "layout": "IPY_MODEL_4c1c44d8cc7d4984a67662af75c49ddb",
            "placeholder": "​",
            "style": "IPY_MODEL_3c4988fb77694ab0bcb6bd72166f66e8",
            "value": " 570/570 [00:00&lt;00:00, 23.6kB/s]"
          }
        },
        "c5c25c45a2cd44a1ab8719de1b33a4de": {
          "model_module": "@jupyter-widgets/base",
          "model_name": "LayoutModel",
          "model_module_version": "1.2.0",
          "state": {
            "_model_module": "@jupyter-widgets/base",
            "_model_module_version": "1.2.0",
            "_model_name": "LayoutModel",
            "_view_count": null,
            "_view_module": "@jupyter-widgets/base",
            "_view_module_version": "1.2.0",
            "_view_name": "LayoutView",
            "align_content": null,
            "align_items": null,
            "align_self": null,
            "border": null,
            "bottom": null,
            "display": null,
            "flex": null,
            "flex_flow": null,
            "grid_area": null,
            "grid_auto_columns": null,
            "grid_auto_flow": null,
            "grid_auto_rows": null,
            "grid_column": null,
            "grid_gap": null,
            "grid_row": null,
            "grid_template_areas": null,
            "grid_template_columns": null,
            "grid_template_rows": null,
            "height": null,
            "justify_content": null,
            "justify_items": null,
            "left": null,
            "margin": null,
            "max_height": null,
            "max_width": null,
            "min_height": null,
            "min_width": null,
            "object_fit": null,
            "object_position": null,
            "order": null,
            "overflow": null,
            "overflow_x": null,
            "overflow_y": null,
            "padding": null,
            "right": null,
            "top": null,
            "visibility": null,
            "width": null
          }
        },
        "2bf5e8034d55468592cc84d67d427665": {
          "model_module": "@jupyter-widgets/base",
          "model_name": "LayoutModel",
          "model_module_version": "1.2.0",
          "state": {
            "_model_module": "@jupyter-widgets/base",
            "_model_module_version": "1.2.0",
            "_model_name": "LayoutModel",
            "_view_count": null,
            "_view_module": "@jupyter-widgets/base",
            "_view_module_version": "1.2.0",
            "_view_name": "LayoutView",
            "align_content": null,
            "align_items": null,
            "align_self": null,
            "border": null,
            "bottom": null,
            "display": null,
            "flex": null,
            "flex_flow": null,
            "grid_area": null,
            "grid_auto_columns": null,
            "grid_auto_flow": null,
            "grid_auto_rows": null,
            "grid_column": null,
            "grid_gap": null,
            "grid_row": null,
            "grid_template_areas": null,
            "grid_template_columns": null,
            "grid_template_rows": null,
            "height": null,
            "justify_content": null,
            "justify_items": null,
            "left": null,
            "margin": null,
            "max_height": null,
            "max_width": null,
            "min_height": null,
            "min_width": null,
            "object_fit": null,
            "object_position": null,
            "order": null,
            "overflow": null,
            "overflow_x": null,
            "overflow_y": null,
            "padding": null,
            "right": null,
            "top": null,
            "visibility": null,
            "width": null
          }
        },
        "92cb8d62381f4aa08f0438a457ad5288": {
          "model_module": "@jupyter-widgets/controls",
          "model_name": "DescriptionStyleModel",
          "model_module_version": "1.5.0",
          "state": {
            "_model_module": "@jupyter-widgets/controls",
            "_model_module_version": "1.5.0",
            "_model_name": "DescriptionStyleModel",
            "_view_count": null,
            "_view_module": "@jupyter-widgets/base",
            "_view_module_version": "1.2.0",
            "_view_name": "StyleView",
            "description_width": ""
          }
        },
        "6fcda3b4ca964e24a17479d287216ec5": {
          "model_module": "@jupyter-widgets/base",
          "model_name": "LayoutModel",
          "model_module_version": "1.2.0",
          "state": {
            "_model_module": "@jupyter-widgets/base",
            "_model_module_version": "1.2.0",
            "_model_name": "LayoutModel",
            "_view_count": null,
            "_view_module": "@jupyter-widgets/base",
            "_view_module_version": "1.2.0",
            "_view_name": "LayoutView",
            "align_content": null,
            "align_items": null,
            "align_self": null,
            "border": null,
            "bottom": null,
            "display": null,
            "flex": null,
            "flex_flow": null,
            "grid_area": null,
            "grid_auto_columns": null,
            "grid_auto_flow": null,
            "grid_auto_rows": null,
            "grid_column": null,
            "grid_gap": null,
            "grid_row": null,
            "grid_template_areas": null,
            "grid_template_columns": null,
            "grid_template_rows": null,
            "height": null,
            "justify_content": null,
            "justify_items": null,
            "left": null,
            "margin": null,
            "max_height": null,
            "max_width": null,
            "min_height": null,
            "min_width": null,
            "object_fit": null,
            "object_position": null,
            "order": null,
            "overflow": null,
            "overflow_x": null,
            "overflow_y": null,
            "padding": null,
            "right": null,
            "top": null,
            "visibility": null,
            "width": null
          }
        },
        "3c114709f3be4dc182a514ab5fcf0f85": {
          "model_module": "@jupyter-widgets/controls",
          "model_name": "ProgressStyleModel",
          "model_module_version": "1.5.0",
          "state": {
            "_model_module": "@jupyter-widgets/controls",
            "_model_module_version": "1.5.0",
            "_model_name": "ProgressStyleModel",
            "_view_count": null,
            "_view_module": "@jupyter-widgets/base",
            "_view_module_version": "1.2.0",
            "_view_name": "StyleView",
            "bar_color": null,
            "description_width": ""
          }
        },
        "4c1c44d8cc7d4984a67662af75c49ddb": {
          "model_module": "@jupyter-widgets/base",
          "model_name": "LayoutModel",
          "model_module_version": "1.2.0",
          "state": {
            "_model_module": "@jupyter-widgets/base",
            "_model_module_version": "1.2.0",
            "_model_name": "LayoutModel",
            "_view_count": null,
            "_view_module": "@jupyter-widgets/base",
            "_view_module_version": "1.2.0",
            "_view_name": "LayoutView",
            "align_content": null,
            "align_items": null,
            "align_self": null,
            "border": null,
            "bottom": null,
            "display": null,
            "flex": null,
            "flex_flow": null,
            "grid_area": null,
            "grid_auto_columns": null,
            "grid_auto_flow": null,
            "grid_auto_rows": null,
            "grid_column": null,
            "grid_gap": null,
            "grid_row": null,
            "grid_template_areas": null,
            "grid_template_columns": null,
            "grid_template_rows": null,
            "height": null,
            "justify_content": null,
            "justify_items": null,
            "left": null,
            "margin": null,
            "max_height": null,
            "max_width": null,
            "min_height": null,
            "min_width": null,
            "object_fit": null,
            "object_position": null,
            "order": null,
            "overflow": null,
            "overflow_x": null,
            "overflow_y": null,
            "padding": null,
            "right": null,
            "top": null,
            "visibility": null,
            "width": null
          }
        },
        "3c4988fb77694ab0bcb6bd72166f66e8": {
          "model_module": "@jupyter-widgets/controls",
          "model_name": "DescriptionStyleModel",
          "model_module_version": "1.5.0",
          "state": {
            "_model_module": "@jupyter-widgets/controls",
            "_model_module_version": "1.5.0",
            "_model_name": "DescriptionStyleModel",
            "_view_count": null,
            "_view_module": "@jupyter-widgets/base",
            "_view_module_version": "1.2.0",
            "_view_name": "StyleView",
            "description_width": ""
          }
        },
        "8c075f2c870442fc85576def09d9ae8c": {
          "model_module": "@jupyter-widgets/controls",
          "model_name": "HBoxModel",
          "model_module_version": "1.5.0",
          "state": {
            "_dom_classes": [],
            "_model_module": "@jupyter-widgets/controls",
            "_model_module_version": "1.5.0",
            "_model_name": "HBoxModel",
            "_view_count": null,
            "_view_module": "@jupyter-widgets/controls",
            "_view_module_version": "1.5.0",
            "_view_name": "HBoxView",
            "box_style": "",
            "children": [
              "IPY_MODEL_2e4708c9ba8344cb938477d9f6dfde8c",
              "IPY_MODEL_eee16f32215b44fbafa9cd7e5777db40",
              "IPY_MODEL_41eba3fa84444211ab277e8c850c7ceb"
            ],
            "layout": "IPY_MODEL_307ee5b1e25c4db982083d509861fd9f"
          }
        },
        "2e4708c9ba8344cb938477d9f6dfde8c": {
          "model_module": "@jupyter-widgets/controls",
          "model_name": "HTMLModel",
          "model_module_version": "1.5.0",
          "state": {
            "_dom_classes": [],
            "_model_module": "@jupyter-widgets/controls",
            "_model_module_version": "1.5.0",
            "_model_name": "HTMLModel",
            "_view_count": null,
            "_view_module": "@jupyter-widgets/controls",
            "_view_module_version": "1.5.0",
            "_view_name": "HTMLView",
            "description": "",
            "description_tooltip": null,
            "layout": "IPY_MODEL_8717bb84f5f849c3bc6d3bbdc23ec59c",
            "placeholder": "​",
            "style": "IPY_MODEL_2eb7cdb58c314ffe8d517b2d81a82df5",
            "value": "vocab.txt: 100%"
          }
        },
        "eee16f32215b44fbafa9cd7e5777db40": {
          "model_module": "@jupyter-widgets/controls",
          "model_name": "FloatProgressModel",
          "model_module_version": "1.5.0",
          "state": {
            "_dom_classes": [],
            "_model_module": "@jupyter-widgets/controls",
            "_model_module_version": "1.5.0",
            "_model_name": "FloatProgressModel",
            "_view_count": null,
            "_view_module": "@jupyter-widgets/controls",
            "_view_module_version": "1.5.0",
            "_view_name": "ProgressView",
            "bar_style": "success",
            "description": "",
            "description_tooltip": null,
            "layout": "IPY_MODEL_2f547d6360c747a2aa9d81b8f812363d",
            "max": 231508,
            "min": 0,
            "orientation": "horizontal",
            "style": "IPY_MODEL_b554986a7d2648d9a3a538e3882b7c65",
            "value": 231508
          }
        },
        "41eba3fa84444211ab277e8c850c7ceb": {
          "model_module": "@jupyter-widgets/controls",
          "model_name": "HTMLModel",
          "model_module_version": "1.5.0",
          "state": {
            "_dom_classes": [],
            "_model_module": "@jupyter-widgets/controls",
            "_model_module_version": "1.5.0",
            "_model_name": "HTMLModel",
            "_view_count": null,
            "_view_module": "@jupyter-widgets/controls",
            "_view_module_version": "1.5.0",
            "_view_name": "HTMLView",
            "description": "",
            "description_tooltip": null,
            "layout": "IPY_MODEL_975ff9da99c84c7189dedd8f1a894e8a",
            "placeholder": "​",
            "style": "IPY_MODEL_f342fbf6894b4b0999046b4d675a1559",
            "value": " 232k/232k [00:00&lt;00:00, 5.58MB/s]"
          }
        },
        "307ee5b1e25c4db982083d509861fd9f": {
          "model_module": "@jupyter-widgets/base",
          "model_name": "LayoutModel",
          "model_module_version": "1.2.0",
          "state": {
            "_model_module": "@jupyter-widgets/base",
            "_model_module_version": "1.2.0",
            "_model_name": "LayoutModel",
            "_view_count": null,
            "_view_module": "@jupyter-widgets/base",
            "_view_module_version": "1.2.0",
            "_view_name": "LayoutView",
            "align_content": null,
            "align_items": null,
            "align_self": null,
            "border": null,
            "bottom": null,
            "display": null,
            "flex": null,
            "flex_flow": null,
            "grid_area": null,
            "grid_auto_columns": null,
            "grid_auto_flow": null,
            "grid_auto_rows": null,
            "grid_column": null,
            "grid_gap": null,
            "grid_row": null,
            "grid_template_areas": null,
            "grid_template_columns": null,
            "grid_template_rows": null,
            "height": null,
            "justify_content": null,
            "justify_items": null,
            "left": null,
            "margin": null,
            "max_height": null,
            "max_width": null,
            "min_height": null,
            "min_width": null,
            "object_fit": null,
            "object_position": null,
            "order": null,
            "overflow": null,
            "overflow_x": null,
            "overflow_y": null,
            "padding": null,
            "right": null,
            "top": null,
            "visibility": null,
            "width": null
          }
        },
        "8717bb84f5f849c3bc6d3bbdc23ec59c": {
          "model_module": "@jupyter-widgets/base",
          "model_name": "LayoutModel",
          "model_module_version": "1.2.0",
          "state": {
            "_model_module": "@jupyter-widgets/base",
            "_model_module_version": "1.2.0",
            "_model_name": "LayoutModel",
            "_view_count": null,
            "_view_module": "@jupyter-widgets/base",
            "_view_module_version": "1.2.0",
            "_view_name": "LayoutView",
            "align_content": null,
            "align_items": null,
            "align_self": null,
            "border": null,
            "bottom": null,
            "display": null,
            "flex": null,
            "flex_flow": null,
            "grid_area": null,
            "grid_auto_columns": null,
            "grid_auto_flow": null,
            "grid_auto_rows": null,
            "grid_column": null,
            "grid_gap": null,
            "grid_row": null,
            "grid_template_areas": null,
            "grid_template_columns": null,
            "grid_template_rows": null,
            "height": null,
            "justify_content": null,
            "justify_items": null,
            "left": null,
            "margin": null,
            "max_height": null,
            "max_width": null,
            "min_height": null,
            "min_width": null,
            "object_fit": null,
            "object_position": null,
            "order": null,
            "overflow": null,
            "overflow_x": null,
            "overflow_y": null,
            "padding": null,
            "right": null,
            "top": null,
            "visibility": null,
            "width": null
          }
        },
        "2eb7cdb58c314ffe8d517b2d81a82df5": {
          "model_module": "@jupyter-widgets/controls",
          "model_name": "DescriptionStyleModel",
          "model_module_version": "1.5.0",
          "state": {
            "_model_module": "@jupyter-widgets/controls",
            "_model_module_version": "1.5.0",
            "_model_name": "DescriptionStyleModel",
            "_view_count": null,
            "_view_module": "@jupyter-widgets/base",
            "_view_module_version": "1.2.0",
            "_view_name": "StyleView",
            "description_width": ""
          }
        },
        "2f547d6360c747a2aa9d81b8f812363d": {
          "model_module": "@jupyter-widgets/base",
          "model_name": "LayoutModel",
          "model_module_version": "1.2.0",
          "state": {
            "_model_module": "@jupyter-widgets/base",
            "_model_module_version": "1.2.0",
            "_model_name": "LayoutModel",
            "_view_count": null,
            "_view_module": "@jupyter-widgets/base",
            "_view_module_version": "1.2.0",
            "_view_name": "LayoutView",
            "align_content": null,
            "align_items": null,
            "align_self": null,
            "border": null,
            "bottom": null,
            "display": null,
            "flex": null,
            "flex_flow": null,
            "grid_area": null,
            "grid_auto_columns": null,
            "grid_auto_flow": null,
            "grid_auto_rows": null,
            "grid_column": null,
            "grid_gap": null,
            "grid_row": null,
            "grid_template_areas": null,
            "grid_template_columns": null,
            "grid_template_rows": null,
            "height": null,
            "justify_content": null,
            "justify_items": null,
            "left": null,
            "margin": null,
            "max_height": null,
            "max_width": null,
            "min_height": null,
            "min_width": null,
            "object_fit": null,
            "object_position": null,
            "order": null,
            "overflow": null,
            "overflow_x": null,
            "overflow_y": null,
            "padding": null,
            "right": null,
            "top": null,
            "visibility": null,
            "width": null
          }
        },
        "b554986a7d2648d9a3a538e3882b7c65": {
          "model_module": "@jupyter-widgets/controls",
          "model_name": "ProgressStyleModel",
          "model_module_version": "1.5.0",
          "state": {
            "_model_module": "@jupyter-widgets/controls",
            "_model_module_version": "1.5.0",
            "_model_name": "ProgressStyleModel",
            "_view_count": null,
            "_view_module": "@jupyter-widgets/base",
            "_view_module_version": "1.2.0",
            "_view_name": "StyleView",
            "bar_color": null,
            "description_width": ""
          }
        },
        "975ff9da99c84c7189dedd8f1a894e8a": {
          "model_module": "@jupyter-widgets/base",
          "model_name": "LayoutModel",
          "model_module_version": "1.2.0",
          "state": {
            "_model_module": "@jupyter-widgets/base",
            "_model_module_version": "1.2.0",
            "_model_name": "LayoutModel",
            "_view_count": null,
            "_view_module": "@jupyter-widgets/base",
            "_view_module_version": "1.2.0",
            "_view_name": "LayoutView",
            "align_content": null,
            "align_items": null,
            "align_self": null,
            "border": null,
            "bottom": null,
            "display": null,
            "flex": null,
            "flex_flow": null,
            "grid_area": null,
            "grid_auto_columns": null,
            "grid_auto_flow": null,
            "grid_auto_rows": null,
            "grid_column": null,
            "grid_gap": null,
            "grid_row": null,
            "grid_template_areas": null,
            "grid_template_columns": null,
            "grid_template_rows": null,
            "height": null,
            "justify_content": null,
            "justify_items": null,
            "left": null,
            "margin": null,
            "max_height": null,
            "max_width": null,
            "min_height": null,
            "min_width": null,
            "object_fit": null,
            "object_position": null,
            "order": null,
            "overflow": null,
            "overflow_x": null,
            "overflow_y": null,
            "padding": null,
            "right": null,
            "top": null,
            "visibility": null,
            "width": null
          }
        },
        "f342fbf6894b4b0999046b4d675a1559": {
          "model_module": "@jupyter-widgets/controls",
          "model_name": "DescriptionStyleModel",
          "model_module_version": "1.5.0",
          "state": {
            "_model_module": "@jupyter-widgets/controls",
            "_model_module_version": "1.5.0",
            "_model_name": "DescriptionStyleModel",
            "_view_count": null,
            "_view_module": "@jupyter-widgets/base",
            "_view_module_version": "1.2.0",
            "_view_name": "StyleView",
            "description_width": ""
          }
        },
        "03023085748a4e5a86a73e93c450eb13": {
          "model_module": "@jupyter-widgets/controls",
          "model_name": "HBoxModel",
          "model_module_version": "1.5.0",
          "state": {
            "_dom_classes": [],
            "_model_module": "@jupyter-widgets/controls",
            "_model_module_version": "1.5.0",
            "_model_name": "HBoxModel",
            "_view_count": null,
            "_view_module": "@jupyter-widgets/controls",
            "_view_module_version": "1.5.0",
            "_view_name": "HBoxView",
            "box_style": "",
            "children": [
              "IPY_MODEL_4c725ed8c9dd4d80b205f81b0ea64493",
              "IPY_MODEL_ae23bbf274b543a5a90382ceac8fbcae",
              "IPY_MODEL_895e140cdcf4435a9a6e9edce865af98"
            ],
            "layout": "IPY_MODEL_68ec754ed170496186001e38455e89da"
          }
        },
        "4c725ed8c9dd4d80b205f81b0ea64493": {
          "model_module": "@jupyter-widgets/controls",
          "model_name": "HTMLModel",
          "model_module_version": "1.5.0",
          "state": {
            "_dom_classes": [],
            "_model_module": "@jupyter-widgets/controls",
            "_model_module_version": "1.5.0",
            "_model_name": "HTMLModel",
            "_view_count": null,
            "_view_module": "@jupyter-widgets/controls",
            "_view_module_version": "1.5.0",
            "_view_name": "HTMLView",
            "description": "",
            "description_tooltip": null,
            "layout": "IPY_MODEL_1b4190f8292d490d98c60a2afe4fabba",
            "placeholder": "​",
            "style": "IPY_MODEL_8e5265f5abfa46fe8b61f868f373e5bc",
            "value": "tokenizer.json: 100%"
          }
        },
        "ae23bbf274b543a5a90382ceac8fbcae": {
          "model_module": "@jupyter-widgets/controls",
          "model_name": "FloatProgressModel",
          "model_module_version": "1.5.0",
          "state": {
            "_dom_classes": [],
            "_model_module": "@jupyter-widgets/controls",
            "_model_module_version": "1.5.0",
            "_model_name": "FloatProgressModel",
            "_view_count": null,
            "_view_module": "@jupyter-widgets/controls",
            "_view_module_version": "1.5.0",
            "_view_name": "ProgressView",
            "bar_style": "success",
            "description": "",
            "description_tooltip": null,
            "layout": "IPY_MODEL_bc3efaeb404b49ccafdb2a3e23851e68",
            "max": 466062,
            "min": 0,
            "orientation": "horizontal",
            "style": "IPY_MODEL_6ee518d8a676492397c302779fc006d8",
            "value": 466062
          }
        },
        "895e140cdcf4435a9a6e9edce865af98": {
          "model_module": "@jupyter-widgets/controls",
          "model_name": "HTMLModel",
          "model_module_version": "1.5.0",
          "state": {
            "_dom_classes": [],
            "_model_module": "@jupyter-widgets/controls",
            "_model_module_version": "1.5.0",
            "_model_name": "HTMLModel",
            "_view_count": null,
            "_view_module": "@jupyter-widgets/controls",
            "_view_module_version": "1.5.0",
            "_view_name": "HTMLView",
            "description": "",
            "description_tooltip": null,
            "layout": "IPY_MODEL_dc0eb3f6315743f9875098a86110c946",
            "placeholder": "​",
            "style": "IPY_MODEL_d1c88db5df3742dea8d5c4bdbd2eecbd",
            "value": " 466k/466k [00:00&lt;00:00, 11.9MB/s]"
          }
        },
        "68ec754ed170496186001e38455e89da": {
          "model_module": "@jupyter-widgets/base",
          "model_name": "LayoutModel",
          "model_module_version": "1.2.0",
          "state": {
            "_model_module": "@jupyter-widgets/base",
            "_model_module_version": "1.2.0",
            "_model_name": "LayoutModel",
            "_view_count": null,
            "_view_module": "@jupyter-widgets/base",
            "_view_module_version": "1.2.0",
            "_view_name": "LayoutView",
            "align_content": null,
            "align_items": null,
            "align_self": null,
            "border": null,
            "bottom": null,
            "display": null,
            "flex": null,
            "flex_flow": null,
            "grid_area": null,
            "grid_auto_columns": null,
            "grid_auto_flow": null,
            "grid_auto_rows": null,
            "grid_column": null,
            "grid_gap": null,
            "grid_row": null,
            "grid_template_areas": null,
            "grid_template_columns": null,
            "grid_template_rows": null,
            "height": null,
            "justify_content": null,
            "justify_items": null,
            "left": null,
            "margin": null,
            "max_height": null,
            "max_width": null,
            "min_height": null,
            "min_width": null,
            "object_fit": null,
            "object_position": null,
            "order": null,
            "overflow": null,
            "overflow_x": null,
            "overflow_y": null,
            "padding": null,
            "right": null,
            "top": null,
            "visibility": null,
            "width": null
          }
        },
        "1b4190f8292d490d98c60a2afe4fabba": {
          "model_module": "@jupyter-widgets/base",
          "model_name": "LayoutModel",
          "model_module_version": "1.2.0",
          "state": {
            "_model_module": "@jupyter-widgets/base",
            "_model_module_version": "1.2.0",
            "_model_name": "LayoutModel",
            "_view_count": null,
            "_view_module": "@jupyter-widgets/base",
            "_view_module_version": "1.2.0",
            "_view_name": "LayoutView",
            "align_content": null,
            "align_items": null,
            "align_self": null,
            "border": null,
            "bottom": null,
            "display": null,
            "flex": null,
            "flex_flow": null,
            "grid_area": null,
            "grid_auto_columns": null,
            "grid_auto_flow": null,
            "grid_auto_rows": null,
            "grid_column": null,
            "grid_gap": null,
            "grid_row": null,
            "grid_template_areas": null,
            "grid_template_columns": null,
            "grid_template_rows": null,
            "height": null,
            "justify_content": null,
            "justify_items": null,
            "left": null,
            "margin": null,
            "max_height": null,
            "max_width": null,
            "min_height": null,
            "min_width": null,
            "object_fit": null,
            "object_position": null,
            "order": null,
            "overflow": null,
            "overflow_x": null,
            "overflow_y": null,
            "padding": null,
            "right": null,
            "top": null,
            "visibility": null,
            "width": null
          }
        },
        "8e5265f5abfa46fe8b61f868f373e5bc": {
          "model_module": "@jupyter-widgets/controls",
          "model_name": "DescriptionStyleModel",
          "model_module_version": "1.5.0",
          "state": {
            "_model_module": "@jupyter-widgets/controls",
            "_model_module_version": "1.5.0",
            "_model_name": "DescriptionStyleModel",
            "_view_count": null,
            "_view_module": "@jupyter-widgets/base",
            "_view_module_version": "1.2.0",
            "_view_name": "StyleView",
            "description_width": ""
          }
        },
        "bc3efaeb404b49ccafdb2a3e23851e68": {
          "model_module": "@jupyter-widgets/base",
          "model_name": "LayoutModel",
          "model_module_version": "1.2.0",
          "state": {
            "_model_module": "@jupyter-widgets/base",
            "_model_module_version": "1.2.0",
            "_model_name": "LayoutModel",
            "_view_count": null,
            "_view_module": "@jupyter-widgets/base",
            "_view_module_version": "1.2.0",
            "_view_name": "LayoutView",
            "align_content": null,
            "align_items": null,
            "align_self": null,
            "border": null,
            "bottom": null,
            "display": null,
            "flex": null,
            "flex_flow": null,
            "grid_area": null,
            "grid_auto_columns": null,
            "grid_auto_flow": null,
            "grid_auto_rows": null,
            "grid_column": null,
            "grid_gap": null,
            "grid_row": null,
            "grid_template_areas": null,
            "grid_template_columns": null,
            "grid_template_rows": null,
            "height": null,
            "justify_content": null,
            "justify_items": null,
            "left": null,
            "margin": null,
            "max_height": null,
            "max_width": null,
            "min_height": null,
            "min_width": null,
            "object_fit": null,
            "object_position": null,
            "order": null,
            "overflow": null,
            "overflow_x": null,
            "overflow_y": null,
            "padding": null,
            "right": null,
            "top": null,
            "visibility": null,
            "width": null
          }
        },
        "6ee518d8a676492397c302779fc006d8": {
          "model_module": "@jupyter-widgets/controls",
          "model_name": "ProgressStyleModel",
          "model_module_version": "1.5.0",
          "state": {
            "_model_module": "@jupyter-widgets/controls",
            "_model_module_version": "1.5.0",
            "_model_name": "ProgressStyleModel",
            "_view_count": null,
            "_view_module": "@jupyter-widgets/base",
            "_view_module_version": "1.2.0",
            "_view_name": "StyleView",
            "bar_color": null,
            "description_width": ""
          }
        },
        "dc0eb3f6315743f9875098a86110c946": {
          "model_module": "@jupyter-widgets/base",
          "model_name": "LayoutModel",
          "model_module_version": "1.2.0",
          "state": {
            "_model_module": "@jupyter-widgets/base",
            "_model_module_version": "1.2.0",
            "_model_name": "LayoutModel",
            "_view_count": null,
            "_view_module": "@jupyter-widgets/base",
            "_view_module_version": "1.2.0",
            "_view_name": "LayoutView",
            "align_content": null,
            "align_items": null,
            "align_self": null,
            "border": null,
            "bottom": null,
            "display": null,
            "flex": null,
            "flex_flow": null,
            "grid_area": null,
            "grid_auto_columns": null,
            "grid_auto_flow": null,
            "grid_auto_rows": null,
            "grid_column": null,
            "grid_gap": null,
            "grid_row": null,
            "grid_template_areas": null,
            "grid_template_columns": null,
            "grid_template_rows": null,
            "height": null,
            "justify_content": null,
            "justify_items": null,
            "left": null,
            "margin": null,
            "max_height": null,
            "max_width": null,
            "min_height": null,
            "min_width": null,
            "object_fit": null,
            "object_position": null,
            "order": null,
            "overflow": null,
            "overflow_x": null,
            "overflow_y": null,
            "padding": null,
            "right": null,
            "top": null,
            "visibility": null,
            "width": null
          }
        },
        "d1c88db5df3742dea8d5c4bdbd2eecbd": {
          "model_module": "@jupyter-widgets/controls",
          "model_name": "DescriptionStyleModel",
          "model_module_version": "1.5.0",
          "state": {
            "_model_module": "@jupyter-widgets/controls",
            "_model_module_version": "1.5.0",
            "_model_name": "DescriptionStyleModel",
            "_view_count": null,
            "_view_module": "@jupyter-widgets/base",
            "_view_module_version": "1.2.0",
            "_view_name": "StyleView",
            "description_width": ""
          }
        }
      }
    }
  },
  "cells": [
    {
      "cell_type": "markdown",
      "source": [
        "**Étape 1 : Préparer l'environnement de travail**"
      ],
      "metadata": {
        "id": "MXqjOL-ppT9R"
      }
    },
    {
      "cell_type": "code",
      "execution_count": 3,
      "metadata": {
        "colab": {
          "base_uri": "https://localhost:8080/"
        },
        "id": "iJTn5bv0pBxF",
        "outputId": "91a9499d-22e4-4dd2-8abe-5e13324e39cf"
      },
      "outputs": [
        {
          "output_type": "stream",
          "name": "stdout",
          "text": [
            "Collecting datasets\n",
            "  Downloading datasets-3.1.0-py3-none-any.whl.metadata (20 kB)\n",
            "Requirement already satisfied: transformers in /usr/local/lib/python3.10/dist-packages (4.46.3)\n",
            "Requirement already satisfied: torch in /usr/local/lib/python3.10/dist-packages (2.5.1+cu121)\n",
            "Requirement already satisfied: torchvision in /usr/local/lib/python3.10/dist-packages (0.20.1+cu121)\n",
            "Requirement already satisfied: scikit-learn in /usr/local/lib/python3.10/dist-packages (1.5.2)\n",
            "Requirement already satisfied: tqdm in /usr/local/lib/python3.10/dist-packages (4.66.6)\n",
            "Requirement already satisfied: filelock in /usr/local/lib/python3.10/dist-packages (from datasets) (3.16.1)\n",
            "Requirement already satisfied: numpy>=1.17 in /usr/local/lib/python3.10/dist-packages (from datasets) (1.26.4)\n",
            "Requirement already satisfied: pyarrow>=15.0.0 in /usr/local/lib/python3.10/dist-packages (from datasets) (17.0.0)\n",
            "Collecting dill<0.3.9,>=0.3.0 (from datasets)\n",
            "  Downloading dill-0.3.8-py3-none-any.whl.metadata (10 kB)\n",
            "Requirement already satisfied: pandas in /usr/local/lib/python3.10/dist-packages (from datasets) (2.2.2)\n",
            "Requirement already satisfied: requests>=2.32.2 in /usr/local/lib/python3.10/dist-packages (from datasets) (2.32.3)\n",
            "Collecting xxhash (from datasets)\n",
            "  Downloading xxhash-3.5.0-cp310-cp310-manylinux_2_17_x86_64.manylinux2014_x86_64.whl.metadata (12 kB)\n",
            "Collecting multiprocess<0.70.17 (from datasets)\n",
            "  Downloading multiprocess-0.70.16-py310-none-any.whl.metadata (7.2 kB)\n",
            "Collecting fsspec<=2024.9.0,>=2023.1.0 (from fsspec[http]<=2024.9.0,>=2023.1.0->datasets)\n",
            "  Downloading fsspec-2024.9.0-py3-none-any.whl.metadata (11 kB)\n",
            "Requirement already satisfied: aiohttp in /usr/local/lib/python3.10/dist-packages (from datasets) (3.11.9)\n",
            "Requirement already satisfied: huggingface-hub>=0.23.0 in /usr/local/lib/python3.10/dist-packages (from datasets) (0.26.3)\n",
            "Requirement already satisfied: packaging in /usr/local/lib/python3.10/dist-packages (from datasets) (24.2)\n",
            "Requirement already satisfied: pyyaml>=5.1 in /usr/local/lib/python3.10/dist-packages (from datasets) (6.0.2)\n",
            "Requirement already satisfied: regex!=2019.12.17 in /usr/local/lib/python3.10/dist-packages (from transformers) (2024.9.11)\n",
            "Requirement already satisfied: tokenizers<0.21,>=0.20 in /usr/local/lib/python3.10/dist-packages (from transformers) (0.20.3)\n",
            "Requirement already satisfied: safetensors>=0.4.1 in /usr/local/lib/python3.10/dist-packages (from transformers) (0.4.5)\n",
            "Requirement already satisfied: typing-extensions>=4.8.0 in /usr/local/lib/python3.10/dist-packages (from torch) (4.12.2)\n",
            "Requirement already satisfied: networkx in /usr/local/lib/python3.10/dist-packages (from torch) (3.4.2)\n",
            "Requirement already satisfied: jinja2 in /usr/local/lib/python3.10/dist-packages (from torch) (3.1.4)\n",
            "Requirement already satisfied: sympy==1.13.1 in /usr/local/lib/python3.10/dist-packages (from torch) (1.13.1)\n",
            "Requirement already satisfied: mpmath<1.4,>=1.1.0 in /usr/local/lib/python3.10/dist-packages (from sympy==1.13.1->torch) (1.3.0)\n",
            "Requirement already satisfied: pillow!=8.3.*,>=5.3.0 in /usr/local/lib/python3.10/dist-packages (from torchvision) (11.0.0)\n",
            "Requirement already satisfied: scipy>=1.6.0 in /usr/local/lib/python3.10/dist-packages (from scikit-learn) (1.13.1)\n",
            "Requirement already satisfied: joblib>=1.2.0 in /usr/local/lib/python3.10/dist-packages (from scikit-learn) (1.4.2)\n",
            "Requirement already satisfied: threadpoolctl>=3.1.0 in /usr/local/lib/python3.10/dist-packages (from scikit-learn) (3.5.0)\n",
            "Requirement already satisfied: aiohappyeyeballs>=2.3.0 in /usr/local/lib/python3.10/dist-packages (from aiohttp->datasets) (2.4.4)\n",
            "Requirement already satisfied: aiosignal>=1.1.2 in /usr/local/lib/python3.10/dist-packages (from aiohttp->datasets) (1.3.1)\n",
            "Requirement already satisfied: async-timeout<6.0,>=4.0 in /usr/local/lib/python3.10/dist-packages (from aiohttp->datasets) (4.0.3)\n",
            "Requirement already satisfied: attrs>=17.3.0 in /usr/local/lib/python3.10/dist-packages (from aiohttp->datasets) (24.2.0)\n",
            "Requirement already satisfied: frozenlist>=1.1.1 in /usr/local/lib/python3.10/dist-packages (from aiohttp->datasets) (1.5.0)\n",
            "Requirement already satisfied: multidict<7.0,>=4.5 in /usr/local/lib/python3.10/dist-packages (from aiohttp->datasets) (6.1.0)\n",
            "Requirement already satisfied: propcache>=0.2.0 in /usr/local/lib/python3.10/dist-packages (from aiohttp->datasets) (0.2.1)\n",
            "Requirement already satisfied: yarl<2.0,>=1.17.0 in /usr/local/lib/python3.10/dist-packages (from aiohttp->datasets) (1.18.3)\n",
            "Requirement already satisfied: charset-normalizer<4,>=2 in /usr/local/lib/python3.10/dist-packages (from requests>=2.32.2->datasets) (3.4.0)\n",
            "Requirement already satisfied: idna<4,>=2.5 in /usr/local/lib/python3.10/dist-packages (from requests>=2.32.2->datasets) (3.10)\n",
            "Requirement already satisfied: urllib3<3,>=1.21.1 in /usr/local/lib/python3.10/dist-packages (from requests>=2.32.2->datasets) (2.2.3)\n",
            "Requirement already satisfied: certifi>=2017.4.17 in /usr/local/lib/python3.10/dist-packages (from requests>=2.32.2->datasets) (2024.8.30)\n",
            "Requirement already satisfied: MarkupSafe>=2.0 in /usr/local/lib/python3.10/dist-packages (from jinja2->torch) (3.0.2)\n",
            "Requirement already satisfied: python-dateutil>=2.8.2 in /usr/local/lib/python3.10/dist-packages (from pandas->datasets) (2.8.2)\n",
            "Requirement already satisfied: pytz>=2020.1 in /usr/local/lib/python3.10/dist-packages (from pandas->datasets) (2024.2)\n",
            "Requirement already satisfied: tzdata>=2022.7 in /usr/local/lib/python3.10/dist-packages (from pandas->datasets) (2024.2)\n",
            "Requirement already satisfied: six>=1.5 in /usr/local/lib/python3.10/dist-packages (from python-dateutil>=2.8.2->pandas->datasets) (1.16.0)\n",
            "Downloading datasets-3.1.0-py3-none-any.whl (480 kB)\n",
            "\u001b[2K   \u001b[90m━━━━━━━━━━━━━━━━━━━━━━━━━━━━━━━━━━━━━━━━\u001b[0m \u001b[32m480.6/480.6 kB\u001b[0m \u001b[31m24.5 MB/s\u001b[0m eta \u001b[36m0:00:00\u001b[0m\n",
            "\u001b[?25hDownloading dill-0.3.8-py3-none-any.whl (116 kB)\n",
            "\u001b[2K   \u001b[90m━━━━━━━━━━━━━━━━━━━━━━━━━━━━━━━━━━━━━━━━\u001b[0m \u001b[32m116.3/116.3 kB\u001b[0m \u001b[31m8.7 MB/s\u001b[0m eta \u001b[36m0:00:00\u001b[0m\n",
            "\u001b[?25hDownloading fsspec-2024.9.0-py3-none-any.whl (179 kB)\n",
            "\u001b[2K   \u001b[90m━━━━━━━━━━━━━━━━━━━━━━━━━━━━━━━━━━━━━━━━\u001b[0m \u001b[32m179.3/179.3 kB\u001b[0m \u001b[31m11.9 MB/s\u001b[0m eta \u001b[36m0:00:00\u001b[0m\n",
            "\u001b[?25hDownloading multiprocess-0.70.16-py310-none-any.whl (134 kB)\n",
            "\u001b[2K   \u001b[90m━━━━━━━━━━━━━━━━━━━━━━━━━━━━━━━━━━━━━━━━\u001b[0m \u001b[32m134.8/134.8 kB\u001b[0m \u001b[31m9.6 MB/s\u001b[0m eta \u001b[36m0:00:00\u001b[0m\n",
            "\u001b[?25hDownloading xxhash-3.5.0-cp310-cp310-manylinux_2_17_x86_64.manylinux2014_x86_64.whl (194 kB)\n",
            "\u001b[2K   \u001b[90m━━━━━━━━━━━━━━━━━━━━━━━━━━━━━━━━━━━━━━━━\u001b[0m \u001b[32m194.1/194.1 kB\u001b[0m \u001b[31m14.9 MB/s\u001b[0m eta \u001b[36m0:00:00\u001b[0m\n",
            "\u001b[?25hInstalling collected packages: xxhash, fsspec, dill, multiprocess, datasets\n",
            "  Attempting uninstall: fsspec\n",
            "    Found existing installation: fsspec 2024.10.0\n",
            "    Uninstalling fsspec-2024.10.0:\n",
            "      Successfully uninstalled fsspec-2024.10.0\n",
            "\u001b[31mERROR: pip's dependency resolver does not currently take into account all the packages that are installed. This behaviour is the source of the following dependency conflicts.\n",
            "gcsfs 2024.10.0 requires fsspec==2024.10.0, but you have fsspec 2024.9.0 which is incompatible.\u001b[0m\u001b[31m\n",
            "\u001b[0mSuccessfully installed datasets-3.1.0 dill-0.3.8 fsspec-2024.9.0 multiprocess-0.70.16 xxhash-3.5.0\n"
          ]
        }
      ],
      "source": [
        "!pip install datasets transformers torch torchvision scikit-learn tqdm\n"
      ]
    },
    {
      "cell_type": "markdown",
      "source": [
        "**Chargement des données**"
      ],
      "metadata": {
        "id": "Gc9USrjX0BHi"
      }
    },
    {
      "cell_type": "code",
      "source": [
        "import pandas as pd\n",
        "\n",
        "# Chemin vers le fichier téléversé\n",
        "file_path = \"/content/coarse-and-fine-grained-ner-dataset.csv\"\n",
        "\n",
        "\n",
        "# Charger les données\n",
        "data = pd.read_csv(file_path)\n",
        "\n",
        "# Afficher un aperçu des données\n",
        "print(data.head())"
      ],
      "metadata": {
        "colab": {
          "base_uri": "https://localhost:8080/"
        },
        "id": "9exnXunUceTh",
        "outputId": "a5dbda24-8d73-4a4c-e97a-b6d948107b6d"
      },
      "execution_count": 6,
      "outputs": [
        {
          "output_type": "stream",
          "name": "stdout",
          "text": [
            "                                                Text  \\\n",
            "0   grandes feuilles opposées, oblongues-elliptiq...   \n",
            "1   feuilles opposées, groupées à l'extrémité des...   \n",
            "2   feuilles opposées, obovées oblongues, arrondi...   \n",
            "3   arbustes  petites feuilles opposées, groupées...   \n",
            "4   arbustes  feuilles opposées ou alternes, obla...   \n",
            "\n",
            "                                      Organ Entities  \\\n",
            "0  ['bouton', 'pédicelle', 'corolle', 'tube', 'fe...   \n",
            "1  ['limbe', 'style', 'filets', 'rameaux', 'sépal...   \n",
            "2  ['corolle', 'limbe', 'ovaire', 'lobes', 'base'...   \n",
            "3  ['anthères', 'pétales', 'tube', 'feuilles', 's...   \n",
            "4  ['base', 'nervure', 'feuilles', 'arbustes', 'l...   \n",
            "\n",
            "                                 Descriptor Entities  \\\n",
            "0  ['fermée', 'pubes-cents', 'cunéiformes', 'vent...   \n",
            "1  ['elliptiques', '1 cm de longueur', 'extrorses...   \n",
            "2  ['cunéiforme', '10,5 mm de longueur', 'long', ...   \n",
            "3  ['secondaires', 'accusé', 'saillantes', 'apicu...   \n",
            "4  ['proéminente', 'décurrente', 'alternes', 'obl...   \n",
            "\n",
            "                           Coarse-grained Annotation  \\\n",
            "0  [(650, 661, 'DESCRIPTEUR'), (968, 977, 'DESCRI...   \n",
            "1  [(609, 618, 'DESCRIPTEUR'), (129, 144, 'DESCRI...   \n",
            "2  [(60, 64, 'ORGANE'), (196, 205, 'DESCRIPTEUR')...   \n",
            "3  [(949, 959, 'DESCRIPTEUR'), (88, 105, 'DESCRIP...   \n",
            "4  [(140, 150, 'DESCRIPTEUR'), (32, 40, 'DESCRIPT...   \n",
            "\n",
            "                             Fine-grained Annotation  \n",
            "0  [(650, 661, 'DESCRIPTEUR'), (395, 407, 'DISPOS...  \n",
            "1  [(609, 618, 'DESCRIPTEUR'), (73, 80, 'FORME'),...  \n",
            "2  [(60, 64, 'ORGANE'), (180, 187, 'ORGANE'), (11...  \n",
            "3  [(949, 959, 'DESCRIPTEUR'), (88, 105, 'DESCRIP...  \n",
            "4  [(42, 54, 'FORME'), (119, 129, 'FORME'), (1, 9...  \n"
          ]
        }
      ]
    },
    {
      "cell_type": "code",
      "source": [
        "# Afficher les colonnes\n",
        "print(data.columns)\n",
        "\n",
        "# Afficher quelques lignes\n",
        "print(data.sample(5))\n"
      ],
      "metadata": {
        "colab": {
          "base_uri": "https://localhost:8080/"
        },
        "id": "rJl8awjO0PFd",
        "outputId": "a31a5774-75ec-474d-8fa7-e6bd35189208"
      },
      "execution_count": 7,
      "outputs": [
        {
          "output_type": "stream",
          "name": "stdout",
          "text": [
            "Index(['Text', 'Organ Entities', 'Descriptor Entities',\n",
            "       'Coarse-grained Annotation', 'Fine-grained Annotation'],\n",
            "      dtype='object')\n",
            "                                                  Text  \\\n",
            "808   & tirel : a, rameau florifère ; b, bractée ; ...   \n",
            "749   herbe annuelle parfois un peu vivace, pubérul...   \n",
            "604   sous-arbrisseau ou arbuste de 0,5-2 m, entièr...   \n",
            "222   sous-arbrisseau ou arbuste jusqu'à 2 m de hau...   \n",
            "566   feuilles échelonnées le long des tiges, à ent...   \n",
            "\n",
            "                                        Organ Entities  \\\n",
            "808  ['fleur', 'étamine', 'étamine', 'rameau', 'fle...   \n",
            "749  ['silicules', 'bords', 'étamines', 'feuilles',...   \n",
            "604  ['inflorescences', 'styles', 'limbe', 'grappes...   \n",
            "222  ['écorce', 'inflorescences', 'fleurs', 'limbe'...   \n",
            "566  ['rameau', 'cymes', 'sinus', 'fleurs', 'base',...   \n",
            "\n",
            "                                   Descriptor Entities  \\\n",
            "808  ['florifère', 'longitudinale', 'dorsale', 'sté...   \n",
            "749  ['pennatifides', 'nombreuses', 'ascendantes', ...   \n",
            "604  ['obtus', 'parcheminé', 'courts', 'oblongs', '...   \n",
            "222  ['16 mm de diamètre', 'terminales', 'variable'...   \n",
            "566  ['elliptique-lancéolé', 'vert', 'sessiles', '2...   \n",
            "\n",
            "                             Coarse-grained Annotation  \\\n",
            "808  [(272, 279, 'DESCRIPTEUR'), (373, 382, 'ORGANE...   \n",
            "749  [(113, 123, 'DESCRIPTEUR'), (477, 490, 'DESCRI...   \n",
            "604  [(463, 467, 'ORGANE'), (1219, 1225, 'DESCRIPTE...   \n",
            "222  [(1508, 1516, 'ORGANE'), (505, 513, 'DESCRIPTE...   \n",
            "566  [(933, 941, 'ORGANE'), (1761, 1768, 'ORGANE'),...   \n",
            "\n",
            "                               Fine-grained Annotation  \n",
            "808  [(272, 279, 'DESCRIPTEUR'), (373, 382, 'ORGANE...  \n",
            "749  [(113, 123, 'DESCRIPTEUR'), (296, 308, 'FORME'...  \n",
            "604  [(463, 467, 'ORGANE'), (1219, 1225, 'DESCRIPTE...  \n",
            "222  [(140, 147, 'FORME'), (1508, 1516, 'ORGANE'), ...  \n",
            "566  [(933, 941, 'ORGANE'), (1761, 1768, 'ORGANE'),...  \n"
          ]
        }
      ]
    },
    {
      "cell_type": "markdown",
      "source": [
        "**1. Aperçu du Dataset**"
      ],
      "metadata": {
        "id": "muQFUwmn00Du"
      }
    },
    {
      "cell_type": "code",
      "source": [
        "# Taille du dataset\n",
        "print(f\"Taille du dataset : {data.shape}\")\n",
        "\n",
        "# Exemple de quelques lignes\n",
        "print(data.head())\n",
        "\n",
        "# Statistiques de base\n",
        "print(data.describe(include='all'))\n"
      ],
      "metadata": {
        "colab": {
          "base_uri": "https://localhost:8080/"
        },
        "id": "x5HpsowO0WSJ",
        "outputId": "186b2fc1-16ce-4b94-fdaa-55805719a2a1"
      },
      "execution_count": 8,
      "outputs": [
        {
          "output_type": "stream",
          "name": "stdout",
          "text": [
            "Taille du dataset : (838, 5)\n",
            "                                                Text  \\\n",
            "0   grandes feuilles opposées, oblongues-elliptiq...   \n",
            "1   feuilles opposées, groupées à l'extrémité des...   \n",
            "2   feuilles opposées, obovées oblongues, arrondi...   \n",
            "3   arbustes  petites feuilles opposées, groupées...   \n",
            "4   arbustes  feuilles opposées ou alternes, obla...   \n",
            "\n",
            "                                      Organ Entities  \\\n",
            "0  ['bouton', 'pédicelle', 'corolle', 'tube', 'fe...   \n",
            "1  ['limbe', 'style', 'filets', 'rameaux', 'sépal...   \n",
            "2  ['corolle', 'limbe', 'ovaire', 'lobes', 'base'...   \n",
            "3  ['anthères', 'pétales', 'tube', 'feuilles', 's...   \n",
            "4  ['base', 'nervure', 'feuilles', 'arbustes', 'l...   \n",
            "\n",
            "                                 Descriptor Entities  \\\n",
            "0  ['fermée', 'pubes-cents', 'cunéiformes', 'vent...   \n",
            "1  ['elliptiques', '1 cm de longueur', 'extrorses...   \n",
            "2  ['cunéiforme', '10,5 mm de longueur', 'long', ...   \n",
            "3  ['secondaires', 'accusé', 'saillantes', 'apicu...   \n",
            "4  ['proéminente', 'décurrente', 'alternes', 'obl...   \n",
            "\n",
            "                           Coarse-grained Annotation  \\\n",
            "0  [(650, 661, 'DESCRIPTEUR'), (968, 977, 'DESCRI...   \n",
            "1  [(609, 618, 'DESCRIPTEUR'), (129, 144, 'DESCRI...   \n",
            "2  [(60, 64, 'ORGANE'), (196, 205, 'DESCRIPTEUR')...   \n",
            "3  [(949, 959, 'DESCRIPTEUR'), (88, 105, 'DESCRIP...   \n",
            "4  [(140, 150, 'DESCRIPTEUR'), (32, 40, 'DESCRIPT...   \n",
            "\n",
            "                             Fine-grained Annotation  \n",
            "0  [(650, 661, 'DESCRIPTEUR'), (395, 407, 'DISPOS...  \n",
            "1  [(609, 618, 'DESCRIPTEUR'), (73, 80, 'FORME'),...  \n",
            "2  [(60, 64, 'ORGANE'), (180, 187, 'ORGANE'), (11...  \n",
            "3  [(949, 959, 'DESCRIPTEUR'), (88, 105, 'DESCRIP...  \n",
            "4  [(42, 54, 'FORME'), (119, 129, 'FORME'), (1, 9...  \n",
            "                                                     Text Organ Entities  \\\n",
            "count                                                 838            838   \n",
            "unique                                                836            833   \n",
            "top      arbuste de 3 m env  indûment de fins poils hy...      ['arbre']   \n",
            "freq                                                    2              3   \n",
            "\n",
            "       Descriptor Entities                          Coarse-grained Annotation  \\\n",
            "count                  838                                                838   \n",
            "unique                 826                                                836   \n",
            "top                     []  [(366, 373, 'DESCRIPTEUR'), (641, 646, 'DESCRI...   \n",
            "freq                     9                                                  2   \n",
            "\n",
            "                                  Fine-grained Annotation  \n",
            "count                                                 838  \n",
            "unique                                                836  \n",
            "top     [(424, 435, 'SURFACE'), (732, 744, 'FORME'), (...  \n",
            "freq                                                    2  \n"
          ]
        }
      ]
    },
    {
      "cell_type": "markdown",
      "source": [
        "**2. Distribution des Longueurs des Textes**"
      ],
      "metadata": {
        "id": "VxFeKy8W0-pd"
      }
    },
    {
      "cell_type": "code",
      "source": [
        "# Calculer la longueur de chaque phrase\n",
        "data['Text_Length'] = data['Text'].apply(lambda x: len(x.split()))\n",
        "\n",
        "# Afficher les statistiques\n",
        "print(data['Text_Length'].describe())\n",
        "\n",
        "# Visualiser la distribution des longueurs\n",
        "import matplotlib.pyplot as plt\n",
        "\n",
        "plt.hist(data['Text_Length'], bins=20, color='blue', alpha=0.7)\n",
        "plt.title('Distribution des longueurs des textes')\n",
        "plt.xlabel('Nombre de tokens')\n",
        "plt.ylabel('Nombre de phrases')\n",
        "plt.show()\n"
      ],
      "metadata": {
        "colab": {
          "base_uri": "https://localhost:8080/",
          "height": 628
        },
        "id": "4es94ZUx06_8",
        "outputId": "2b96798f-bd66-4c2e-afe2-56a49026ff26"
      },
      "execution_count": 9,
      "outputs": [
        {
          "output_type": "stream",
          "name": "stdout",
          "text": [
            "count    838.000000\n",
            "mean     201.811456\n",
            "std      128.492529\n",
            "min        5.000000\n",
            "25%      108.000000\n",
            "50%      189.000000\n",
            "75%      265.000000\n",
            "max      985.000000\n",
            "Name: Text_Length, dtype: float64\n"
          ]
        },
        {
          "output_type": "display_data",
          "data": {
            "text/plain": [
              "<Figure size 640x480 with 1 Axes>"
            ],
            "image/png": "[encoded data removed]"
          },
          "metadata": {}
        }
      ]
    },
    {
      "cell_type": "markdown",
      "source": [
        "**3. Distribution des Entités**"
      ],
      "metadata": {
        "id": "weqAn3yJ1QPV"
      }
    },
    {
      "cell_type": "code",
      "source": [
        "from collections import Counter\n",
        "\n",
        "# Compter les entités dans Coarse-grained Annotation\n",
        "entity_counts = Counter()\n",
        "\n",
        "for annotations in data['Coarse-grained Annotation']:\n",
        "    entities = eval(annotations)  # Convertir la chaîne en liste\n",
        "    for _, _, label in entities:\n",
        "        entity_counts[label] += 1\n",
        "\n",
        "# Afficher la répartition\n",
        "print(\"Répartition des entités :\", entity_counts)\n",
        "\n",
        "# Visualiser les entités\n",
        "plt.bar(entity_counts.keys(), entity_counts.values(), color='green', alpha=0.7)\n",
        "plt.title('Répartition des entités')\n",
        "plt.xlabel('Type d\\'entité')\n",
        "plt.ylabel('Nombre d\\'occurrences')\n",
        "plt.xticks(rotation=45)\n",
        "plt.show()\n"
      ],
      "metadata": {
        "colab": {
          "base_uri": "https://localhost:8080/",
          "height": 554
        },
        "id": "68fPGHtQ1CUY",
        "outputId": "d4f5c581-9baa-4e51-e3d0-9625183ccbd5"
      },
      "execution_count": 10,
      "outputs": [
        {
          "output_type": "stream",
          "name": "stdout",
          "text": [
            "Répartition des entités : Counter({'ORGANE': 22251, 'DESCRIPTEUR': 18543})\n"
          ]
        },
        {
          "output_type": "display_data",
          "data": {
            "text/plain": [
              "<Figure size 640x480 with 1 Axes>"
            ],
            "image/png": "[encoded data removed]"
          },
          "metadata": {}
        }
      ]
    },
    {
      "cell_type": "markdown",
      "source": [
        "**4. Exemple d'Annotations**"
      ],
      "metadata": {
        "id": "U4AX3WDx1dXB"
      }
    },
    {
      "cell_type": "code",
      "source": [
        "# Exemple d'une phrase et ses annotations\n",
        "example_row = data.iloc[0]\n",
        "print(\"Texte :\", example_row['Text'])\n",
        "print(\"Annotations :\", eval(example_row['Coarse-grained Annotation']))\n"
      ],
      "metadata": {
        "colab": {
          "base_uri": "https://localhost:8080/"
        },
        "id": "kcH8v8qd1V72",
        "outputId": "9921dc39-1af8-4973-a9b3-acdb37ffc757"
      },
      "execution_count": 11,
      "outputs": [
        {
          "output_type": "stream",
          "name": "stdout",
          "text": [
            "Texte :  grandes feuilles opposées, oblongues-elliptiques ou obovées-elliptiques, arrondies au sommet, obtuses ou cunéiformes à la base  limbe glabre, mesurant jusqu'à 20 cm de longueur sur 12 cm de largeur  nervure médiane proéminente dessous, un peu saillante dessus  nervures secondaires, 5 à 10 paires, incurvées, réunies en arceaux assez loin de la marge, saillantes dessous, bien marquées dessus, anastomosées à un réseau de nervilles à grosses mailles irrégulières, finement saillant dessus  pétiole 5-20 mm  fleurs blanches fasciculées sur le vieux bois  pédicelle 4-6 mm, glabre ou légèrement pubescent  galice : 4 sépales (2 + 2) de 2,5 mm, un peu pubes-cents extérieurement  corolle à 8 lobes de 3 mm; tube 2 mm  ëtamines 8, insérées à la gorge; filets 3 mm  ovaire velu, à 4 loges, prolongé d'un long style glabre  dans le bouton la corolle, étroitement fermée, laisse poindre très apparemment le style  fruits inconnus  le spécimen type renferme une seule graine fusiforme non carénée, de 2 cm long, 0,6 large, 0,6 épaisseur, à cicatrice oblongue coupant toute la face ventrale, à bords crénelés\n",
            "Annotations : [(650, 661, 'DESCRIPTEUR'), (968, 977, 'DESCRIPTEUR'), (616, 623, 'ORGANE'), (1086, 1091, 'ORGANE'), (1033, 1042, 'ORGANE'), (299, 308, 'DESCRIPTEUR'), (1092, 1100, 'DESCRIPTEUR'), (95, 102, 'DESCRIPTEUR'), (53, 72, 'DESCRIPTEUR'), (160, 177, 'DESCRIPTEUR'), (901, 906, 'ORGANE'), (508, 514, 'ORGANE'), (827, 833, 'ORGANE'), (908, 914, 'ORGANE'), (18, 26, 'DESCRIPTEUR'), (858, 864, 'DESCRIPTEUR'), (9, 17, 'ORGANE'), (749, 755, 'ORGANE'), (549, 553, 'ORGANE'), (346, 351, 'ORGANE'), (200, 207, 'ORGANE'), (982, 989, 'DESCRIPTEUR'), (690, 695, 'ORGANE'), (129, 134, 'ORGANE'), (811, 817, 'DESCRIPTEUR'), (135, 141, 'DESCRIPTEUR'), (395, 407, 'DESCRIPTEUR'), (123, 127, 'ORGANE'), (594, 603, 'DESCRIPTEUR'), (555, 564, 'ORGANE'), (216, 227, 'DESCRIPTEUR'), (762, 768, 'ORGANE'), (182, 198, 'DESCRIPTEUR'), (769, 773, 'DESCRIPTEUR'), (106, 117, 'DESCRIPTEUR'), (837, 844, 'ORGANE'), (244, 253, 'DESCRIPTEUR'), (961, 967, 'ORGANE'), (28, 49, 'DESCRIPTEUR'), (524, 535, 'DESCRIPTEUR'), (423, 432, 'ORGANE'), (1074, 1082, 'DESCRIPTEUR'), (705, 709, 'ORGANE'), (779, 784, 'ORGANE'), (805, 810, 'ORGANE'), (413, 419, 'ORGANE'), (678, 685, 'ORGANE'), (728, 736, 'DESCRIPTEUR'), (271, 282, 'DESCRIPTEUR'), (491, 498, 'ORGANE'), (573, 579, 'DESCRIPTEUR'), (866, 872, 'ORGANE'), (515, 523, 'DESCRIPTEUR')]\n"
          ]
        }
      ]
    },
    {
      "cell_type": "markdown",
      "source": [
        "**5. Vérification des Données**"
      ],
      "metadata": {
        "id": "Py3FcfIn1qdo"
      }
    },
    {
      "cell_type": "code",
      "source": [
        "# Vérifier les textes vides\n",
        "missing_texts = data[data['Text'].isnull()]\n",
        "print(f\"Nombre de textes vides : {len(missing_texts)}\")\n",
        "\n",
        "# Vérifier les annotations vides\n",
        "missing_annotations = data[data['Coarse-grained Annotation'].isnull()]\n",
        "print(f\"Nombre d'annotations vides : {len(missing_annotations)}\")\n"
      ],
      "metadata": {
        "colab": {
          "base_uri": "https://localhost:8080/"
        },
        "id": "4O3rVXJx1hw5",
        "outputId": "f5c397b2-ca07-464d-ea24-a2405e5b787c"
      },
      "execution_count": 12,
      "outputs": [
        {
          "output_type": "stream",
          "name": "stdout",
          "text": [
            "Nombre de textes vides : 0\n",
            "Nombre d'annotations vides : 0\n"
          ]
        }
      ]
    },
    {
      "cell_type": "markdown",
      "source": [
        "**6. Distribution des Longueurs des Entités**"
      ],
      "metadata": {
        "id": "KpYv9R3x10FB"
      }
    },
    {
      "cell_type": "code",
      "source": [
        "entity_lengths = []\n",
        "\n",
        "for annotations in data['Coarse-grained Annotation']:\n",
        "    entities = eval(annotations)\n",
        "    for start, end, _ in entities:\n",
        "        entity_lengths.append(end - start)\n",
        "\n",
        "# Afficher les statistiques\n",
        "print(pd.Series(entity_lengths).describe())\n",
        "\n",
        "# Visualiser la distribution des longueurs des entités\n",
        "plt.hist(entity_lengths, bins=20, color='purple', alpha=0.7)\n",
        "plt.title('Distribution des longueurs des entités')\n",
        "plt.xlabel('Longueur (en caractères)')\n",
        "plt.ylabel('Nombre d\\'entités')\n",
        "plt.show()\n"
      ],
      "metadata": {
        "colab": {
          "base_uri": "https://localhost:8080/",
          "height": 629
        },
        "id": "KDuRdRRL1uzK",
        "outputId": "8ee75813-eaa0-4159-dc10-14975a24b4d7"
      },
      "execution_count": 13,
      "outputs": [
        {
          "output_type": "stream",
          "name": "stdout",
          "text": [
            "count    40794.000000\n",
            "mean         7.701329\n",
            "std          2.995699\n",
            "min          3.000000\n",
            "25%          6.000000\n",
            "50%          7.000000\n",
            "75%          9.000000\n",
            "max         27.000000\n",
            "dtype: float64\n"
          ]
        },
        {
          "output_type": "display_data",
          "data": {
            "text/plain": [
              "<Figure size 640x480 with 1 Axes>"
            ],
            "image/png": "[encoded data removed]"
          },
          "metadata": {}
        }
      ]
    },
    {
      "cell_type": "markdown",
      "source": [
        "**Préparation des Données**"
      ],
      "metadata": {
        "id": "hiNtOrPR2i1H"
      }
    },
    {
      "cell_type": "code",
      "source": [
        "sentences = []\n",
        "tags = []\n",
        "\n",
        "# Parcourir les lignes du dataset\n",
        "for _, row in data.iterrows():\n",
        "    text = row['Text']  # Texte brut\n",
        "    annotations = eval(row['Coarse-grained Annotation'])  # Annotations\n",
        "\n",
        "    # Diviser le texte en tokens (mots)\n",
        "    tokens = text.split()  # Séparation par espaces\n",
        "    token_tags = ['O'] * len(tokens)  # Initialiser toutes les étiquettes à \"O\"\n",
        "\n",
        "    # Appliquer les annotations\n",
        "    for start, end, label in annotations:\n",
        "        for i, token in enumerate(tokens):\n",
        "            # Calculer les positions du token dans le texte\n",
        "            token_start = text.find(token)\n",
        "            token_end = token_start + len(token)\n",
        "\n",
        "            # Vérifier si le token correspond à une entité annotée\n",
        "            if start <= token_start < end:\n",
        "                if token_tags[i] == 'O':  # Si le token n'a pas encore d'étiquette\n",
        "                    token_tags[i] = f\"B-{label}\"  # Début de l'entité\n",
        "                else:\n",
        "                    token_tags[i] = f\"I-{label}\"  # Intérieur de l'entité\n",
        "\n",
        "    sentences.append(tokens)\n",
        "    tags.append(token_tags)\n",
        "\n",
        "# Exemple d'une phrase et ses étiquettes\n",
        "print(\"Exemple de tokens :\", sentences[0])\n",
        "print(\"Exemple de tags :\", tags[0])\n"
      ],
      "metadata": {
        "colab": {
          "base_uri": "https://localhost:8080/"
        },
        "id": "_6zzwzLs14sd",
        "outputId": "7f2f073c-37eb-4287-b594-38d0ef0b3c5e"
      },
      "execution_count": 14,
      "outputs": [
        {
          "output_type": "stream",
          "name": "stdout",
          "text": [
            "Exemple de tokens : ['grandes', 'feuilles', 'opposées,', 'oblongues-elliptiques', 'ou', 'obovées-elliptiques,', 'arrondies', 'au', 'sommet,', 'obtuses', 'ou', 'cunéiformes', 'à', 'la', 'base', 'limbe', 'glabre,', 'mesurant', \"jusqu'à\", '20', 'cm', 'de', 'longueur', 'sur', '12', 'cm', 'de', 'largeur', 'nervure', 'médiane', 'proéminente', 'dessous,', 'un', 'peu', 'saillante', 'dessus', 'nervures', 'secondaires,', '5', 'à', '10', 'paires,', 'incurvées,', 'réunies', 'en', 'arceaux', 'assez', 'loin', 'de', 'la', 'marge,', 'saillantes', 'dessous,', 'bien', 'marquées', 'dessus,', 'anastomosées', 'à', 'un', 'réseau', 'de', 'nervilles', 'à', 'grosses', 'mailles', 'irrégulières,', 'finement', 'saillant', 'dessus', 'pétiole', '5-20', 'mm', 'fleurs', 'blanches', 'fasciculées', 'sur', 'le', 'vieux', 'bois', 'pédicelle', '4-6', 'mm,', 'glabre', 'ou', 'légèrement', 'pubescent', 'galice', ':', '4', 'sépales', '(2', '+', '2)', 'de', '2,5', 'mm,', 'un', 'peu', 'pubes-cents', 'extérieurement', 'corolle', 'à', '8', 'lobes', 'de', '3', 'mm;', 'tube', '2', 'mm', 'ëtamines', '8,', 'insérées', 'à', 'la', 'gorge;', 'filets', '3', 'mm', 'ovaire', 'velu,', 'à', '4', 'loges,', 'prolongé', \"d'un\", 'long', 'style', 'glabre', 'dans', 'le', 'bouton', 'la', 'corolle,', 'étroitement', 'fermée,', 'laisse', 'poindre', 'très', 'apparemment', 'le', 'style', 'fruits', 'inconnus', 'le', 'spécimen', 'type', 'renferme', 'une', 'seule', 'graine', 'fusiforme', 'non', 'carénée,', 'de', '2', 'cm', 'long,', '0,6', 'large,', '0,6', 'épaisseur,', 'à', 'cicatrice', 'oblongue', 'coupant', 'toute', 'la', 'face', 'ventrale,', 'à', 'bords', 'crénelés']\n",
            "Exemple de tags : ['O', 'B-ORGANE', 'B-DESCRIPTEUR', 'B-DESCRIPTEUR', 'O', 'B-DESCRIPTEUR', 'O', 'O', 'O', 'B-DESCRIPTEUR', 'O', 'B-DESCRIPTEUR', 'O', 'O', 'B-ORGANE', 'B-ORGANE', 'B-DESCRIPTEUR', 'O', 'O', 'B-DESCRIPTEUR', 'B-DESCRIPTEUR', 'O', 'B-DESCRIPTEUR', 'O', 'B-DESCRIPTEUR', 'B-DESCRIPTEUR', 'O', 'B-DESCRIPTEUR', 'B-ORGANE', 'O', 'B-DESCRIPTEUR', 'O', 'B-DESCRIPTEUR', 'O', 'B-DESCRIPTEUR', 'O', 'O', 'B-DESCRIPTEUR', 'O', 'O', 'O', 'O', 'B-DESCRIPTEUR', 'O', 'B-DESCRIPTEUR', 'O', 'O', 'O', 'O', 'O', 'B-ORGANE', 'O', 'O', 'O', 'O', 'O', 'B-DESCRIPTEUR', 'O', 'B-DESCRIPTEUR', 'B-ORGANE', 'O', 'B-ORGANE', 'O', 'O', 'O', 'O', 'O', 'B-DESCRIPTEUR', 'O', 'B-ORGANE', 'O', 'O', 'B-ORGANE', 'B-DESCRIPTEUR', 'B-DESCRIPTEUR', 'O', 'B-ORGANE', 'O', 'B-ORGANE', 'B-ORGANE', 'O', 'O', 'B-DESCRIPTEUR', 'O', 'O', 'B-DESCRIPTEUR', 'O', 'O', 'O', 'B-ORGANE', 'O', 'O', 'O', 'O', 'O', 'O', 'B-DESCRIPTEUR', 'O', 'B-DESCRIPTEUR', 'O', 'B-ORGANE', 'O', 'O', 'B-ORGANE', 'O', 'O', 'O', 'B-ORGANE', 'B-DESCRIPTEUR', 'O', 'O', 'O', 'B-DESCRIPTEUR', 'O', 'O', 'O', 'B-ORGANE', 'O', 'O', 'B-ORGANE', 'B-DESCRIPTEUR', 'O', 'O', 'B-ORGANE', 'O', 'O', 'B-DESCRIPTEUR', 'B-ORGANE', 'B-DESCRIPTEUR', 'O', 'B-ORGANE', 'B-ORGANE', 'O', 'B-ORGANE', 'O', 'B-DESCRIPTEUR', 'B-ORGANE', 'O', 'O', 'O', 'B-ORGANE', 'B-ORGANE', 'B-ORGANE', 'O', 'B-ORGANE', 'O', 'O', 'O', 'O', 'O', 'B-ORGANE', 'B-DESCRIPTEUR', 'O', 'B-DESCRIPTEUR', 'O', 'B-DESCRIPTEUR', 'B-DESCRIPTEUR', 'O', 'O', 'O', 'O', 'O', 'O', 'B-ORGANE', 'B-DESCRIPTEUR', 'O', 'O', 'O', 'O', 'B-DESCRIPTEUR', 'O', 'B-ORGANE', 'B-DESCRIPTEUR']\n"
          ]
        }
      ]
    },
    {
      "cell_type": "markdown",
      "source": [
        "**Vérification des Alignements**"
      ],
      "metadata": {
        "id": "n23TRC1Y26b8"
      }
    },
    {
      "cell_type": "code",
      "source": [
        "for idx, (sentence, tag) in enumerate(zip(sentences, tags)):\n",
        "    assert len(sentence) == len(tag), f\"Problème d'alignement à la phrase {idx}\"\n",
        "print(\"Tous les tokens et tags sont alignés correctement.\")\n"
      ],
      "metadata": {
        "colab": {
          "base_uri": "https://localhost:8080/"
        },
        "id": "8UmRSt7O2ml3",
        "outputId": "aed9e10f-ab13-4b03-c265-ffa85f66a272"
      },
      "execution_count": 15,
      "outputs": [
        {
          "output_type": "stream",
          "name": "stdout",
          "text": [
            "Tous les tokens et tags sont alignés correctement.\n"
          ]
        }
      ]
    },
    {
      "cell_type": "markdown",
      "source": [
        "**Sauvegarder les Données Prétraitées**"
      ],
      "metadata": {
        "id": "Xw_NxC0t3DV5"
      }
    },
    {
      "cell_type": "code",
      "source": [
        "import os\n",
        "import pickle\n",
        "\n",
        "# Créer un répertoire pour les données prétraitées\n",
        "processed_dir = \"ner_project/data/processed\"\n",
        "os.makedirs(processed_dir, exist_ok=True)\n",
        "\n",
        "# Sauvegarder les sentences et les tags\n",
        "with open(f\"{processed_dir}/sentences.pkl\", \"wb\") as f:\n",
        "    pickle.dump(sentences, f)\n",
        "with open(f\"{processed_dir}/tags.pkl\", \"wb\") as f:\n",
        "    pickle.dump(tags, f)\n",
        "\n",
        "print(\"Données sauvegardées avec succès dans le répertoire processed.\")\n"
      ],
      "metadata": {
        "colab": {
          "base_uri": "https://localhost:8080/"
        },
        "id": "Z4wSLRjl2-3T",
        "outputId": "b5cbfd39-29d7-431f-9c6b-9edc5e27576d"
      },
      "execution_count": 16,
      "outputs": [
        {
          "output_type": "stream",
          "name": "stdout",
          "text": [
            "Données sauvegardées avec succès dans le répertoire processed.\n"
          ]
        }
      ]
    },
    {
      "cell_type": "markdown",
      "source": [
        "**Préparer les Étiquettes (Tags)**"
      ],
      "metadata": {
        "id": "1DxQMjkf3WcY"
      }
    },
    {
      "cell_type": "code",
      "source": [
        "# Extraire toutes les étiquettes uniques\n",
        "unique_tags = set(tag for tag_list in tags for tag in tag_list)\n",
        "tag2id = {tag: idx for idx, tag in enumerate(sorted(unique_tags))}\n",
        "id2tag = {idx: tag for tag, idx in tag2id.items()}\n",
        "\n",
        "# Afficher le mapping\n",
        "print(\"Mapping des étiquettes :\", tag2id)\n",
        "\n",
        "# Transformer les tags en IDs\n",
        "tags_as_ids = [[tag2id[tag] for tag in tag_list] for tag_list in tags]\n"
      ],
      "metadata": {
        "colab": {
          "base_uri": "https://localhost:8080/"
        },
        "id": "0FNq4n0g3HvT",
        "outputId": "3aca5850-f50b-40c2-da4b-66df8d0b29a6"
      },
      "execution_count": 17,
      "outputs": [
        {
          "output_type": "stream",
          "name": "stdout",
          "text": [
            "Mapping des étiquettes : {'B-DESCRIPTEUR': 0, 'B-ORGANE': 1, 'I-DESCRIPTEUR': 2, 'I-ORGANE': 3, 'O': 4}\n"
          ]
        }
      ]
    },
    {
      "cell_type": "markdown",
      "source": [
        "**Gestion des Textes Longs**"
      ],
      "metadata": {
        "id": "gdwoZKPi3iIO"
      }
    },
    {
      "cell_type": "code",
      "source": [
        "max_len = 512\n",
        "truncated_sentences = [sentence[:max_len] for sentence in sentences]\n",
        "truncated_tags = [tag_list[:max_len] for tag_list in tags_as_ids]\n",
        "\n",
        "print(f\"Nombre de phrases après troncature : {len(truncated_sentences)}\")\n"
      ],
      "metadata": {
        "colab": {
          "base_uri": "https://localhost:8080/"
        },
        "id": "PbgWuojP3ar7",
        "outputId": "6c9952ed-50f1-47a2-ecf3-afd66912a1c3"
      },
      "execution_count": 18,
      "outputs": [
        {
          "output_type": "stream",
          "name": "stdout",
          "text": [
            "Nombre de phrases après troncature : 838\n"
          ]
        }
      ]
    },
    {
      "cell_type": "markdown",
      "source": [
        "**Préparer pour le Modèle**"
      ],
      "metadata": {
        "id": "F3bwkOru3r21"
      }
    },
    {
      "cell_type": "code",
      "source": [
        "def pad_sequences(sequences, pad_token, max_len=None):\n",
        "    # Déterminer la longueur maximale\n",
        "    max_len = max_len if max_len else max(len(seq) for seq in sequences)\n",
        "\n",
        "    # Ajouter le padding\n",
        "    padded_sequences = [\n",
        "        seq + [pad_token] * (max_len - len(seq)) for seq in sequences\n",
        "    ]\n",
        "    return padded_sequences, max_len\n",
        "\n",
        "# Ajouter du padding aux phrases et étiquettes\n",
        "padded_sentences, max_len = pad_sequences(truncated_sentences, pad_token=\"<PAD>\")\n",
        "padded_tags, _ = pad_sequences(truncated_tags, pad_token=tag2id[\"O\"], max_len=max_len)\n",
        "\n",
        "print(f\"Longueur maximale après padding : {max_len}\")\n",
        "print(f\"Exemple de phrase paddée : {padded_sentences[0]}\")\n",
        "print(f\"Exemple d'étiquettes paddées : {padded_tags[0]}\")\n"
      ],
      "metadata": {
        "colab": {
          "base_uri": "https://localhost:8080/"
        },
        "id": "GtsI4-2z3mb3",
        "outputId": "67f263ef-3095-4bfe-9a0e-83929b5c435c"
      },
      "execution_count": 19,
      "outputs": [
        {
          "output_type": "stream",
          "name": "stdout",
          "text": [
            "Longueur maximale après padding : 512\n",
            "Exemple de phrase paddée : ['grandes', 'feuilles', 'opposées,', 'oblongues-elliptiques', 'ou', 'obovées-elliptiques,', 'arrondies', 'au', 'sommet,', 'obtuses', 'ou', 'cunéiformes', 'à', 'la', 'base', 'limbe', 'glabre,', 'mesurant', \"jusqu'à\", '20', 'cm', 'de', 'longueur', 'sur', '12', 'cm', 'de', 'largeur', 'nervure', 'médiane', 'proéminente', 'dessous,', 'un', 'peu', 'saillante', 'dessus', 'nervures', 'secondaires,', '5', 'à', '10', 'paires,', 'incurvées,', 'réunies', 'en', 'arceaux', 'assez', 'loin', 'de', 'la', 'marge,', 'saillantes', 'dessous,', 'bien', 'marquées', 'dessus,', 'anastomosées', 'à', 'un', 'réseau', 'de', 'nervilles', 'à', 'grosses', 'mailles', 'irrégulières,', 'finement', 'saillant', 'dessus', 'pétiole', '5-20', 'mm', 'fleurs', 'blanches', 'fasciculées', 'sur', 'le', 'vieux', 'bois', 'pédicelle', '4-6', 'mm,', 'glabre', 'ou', 'légèrement', 'pubescent', 'galice', ':', '4', 'sépales', '(2', '+', '2)', 'de', '2,5', 'mm,', 'un', 'peu', 'pubes-cents', 'extérieurement', 'corolle', 'à', '8', 'lobes', 'de', '3', 'mm;', 'tube', '2', 'mm', 'ëtamines', '8,', 'insérées', 'à', 'la', 'gorge;', 'filets', '3', 'mm', 'ovaire', 'velu,', 'à', '4', 'loges,', 'prolongé', \"d'un\", 'long', 'style', 'glabre', 'dans', 'le', 'bouton', 'la', 'corolle,', 'étroitement', 'fermée,', 'laisse', 'poindre', 'très', 'apparemment', 'le', 'style', 'fruits', 'inconnus', 'le', 'spécimen', 'type', 'renferme', 'une', 'seule', 'graine', 'fusiforme', 'non', 'carénée,', 'de', '2', 'cm', 'long,', '0,6', 'large,', '0,6', 'épaisseur,', 'à', 'cicatrice', 'oblongue', 'coupant', 'toute', 'la', 'face', 'ventrale,', 'à', 'bords', 'crénelés', '<PAD>', '<PAD>', '<PAD>', '<PAD>', '<PAD>', '<PAD>', '<PAD>', '<PAD>', '<PAD>', '<PAD>', '<PAD>', '<PAD>', '<PAD>', '<PAD>', '<PAD>', '<PAD>', '<PAD>', '<PAD>', '<PAD>', '<PAD>', '<PAD>', '<PAD>', '<PAD>', '<PAD>', '<PAD>', '<PAD>', '<PAD>', '<PAD>', '<PAD>', '<PAD>', '<PAD>', '<PAD>', '<PAD>', '<PAD>', '<PAD>', '<PAD>', '<PAD>', '<PAD>', '<PAD>', '<PAD>', '<PAD>', '<PAD>', '<PAD>', '<PAD>', '<PAD>', '<PAD>', '<PAD>', '<PAD>', '<PAD>', '<PAD>', '<PAD>', '<PAD>', '<PAD>', '<PAD>', '<PAD>', '<PAD>', '<PAD>', '<PAD>', '<PAD>', '<PAD>', '<PAD>', '<PAD>', '<PAD>', '<PAD>', '<PAD>', '<PAD>', '<PAD>', '<PAD>', '<PAD>', '<PAD>', '<PAD>', '<PAD>', '<PAD>', '<PAD>', '<PAD>', '<PAD>', '<PAD>', '<PAD>', '<PAD>', '<PAD>', '<PAD>', '<PAD>', '<PAD>', '<PAD>', '<PAD>', '<PAD>', '<PAD>', '<PAD>', '<PAD>', '<PAD>', '<PAD>', '<PAD>', '<PAD>', '<PAD>', '<PAD>', '<PAD>', '<PAD>', '<PAD>', '<PAD>', '<PAD>', '<PAD>', '<PAD>', '<PAD>', '<PAD>', '<PAD>', '<PAD>', '<PAD>', '<PAD>', '<PAD>', '<PAD>', '<PAD>', '<PAD>', '<PAD>', '<PAD>', '<PAD>', '<PAD>', '<PAD>', '<PAD>', '<PAD>', '<PAD>', '<PAD>', '<PAD>', '<PAD>', '<PAD>', '<PAD>', '<PAD>', '<PAD>', '<PAD>', '<PAD>', '<PAD>', '<PAD>', '<PAD>', '<PAD>', '<PAD>', '<PAD>', '<PAD>', '<PAD>', '<PAD>', '<PAD>', '<PAD>', '<PAD>', '<PAD>', '<PAD>', '<PAD>', '<PAD>', '<PAD>', '<PAD>', '<PAD>', '<PAD>', '<PAD>', '<PAD>', '<PAD>', '<PAD>', '<PAD>', '<PAD>', '<PAD>', '<PAD>', '<PAD>', '<PAD>', '<PAD>', '<PAD>', '<PAD>', '<PAD>', '<PAD>', '<PAD>', '<PAD>', '<PAD>', '<PAD>', '<PAD>', '<PAD>', '<PAD>', '<PAD>', '<PAD>', '<PAD>', '<PAD>', '<PAD>', '<PAD>', '<PAD>', '<PAD>', '<PAD>', '<PAD>', '<PAD>', '<PAD>', '<PAD>', '<PAD>', '<PAD>', '<PAD>', '<PAD>', '<PAD>', '<PAD>', '<PAD>', '<PAD>', '<PAD>', '<PAD>', '<PAD>', '<PAD>', '<PAD>', '<PAD>', '<PAD>', '<PAD>', '<PAD>', '<PAD>', '<PAD>', '<PAD>', '<PAD>', '<PAD>', '<PAD>', '<PAD>', '<PAD>', '<PAD>', '<PAD>', '<PAD>', '<PAD>', '<PAD>', '<PAD>', '<PAD>', '<PAD>', '<PAD>', '<PAD>', '<PAD>', '<PAD>', '<PAD>', '<PAD>', '<PAD>', '<PAD>', '<PAD>', '<PAD>', '<PAD>', '<PAD>', '<PAD>', '<PAD>', '<PAD>', '<PAD>', '<PAD>', '<PAD>', '<PAD>', '<PAD>', '<PAD>', '<PAD>', '<PAD>', '<PAD>', '<PAD>', '<PAD>', '<PAD>', '<PAD>', '<PAD>', '<PAD>', '<PAD>', '<PAD>', '<PAD>', '<PAD>', '<PAD>', '<PAD>', '<PAD>', '<PAD>', '<PAD>', '<PAD>', '<PAD>', '<PAD>', '<PAD>', '<PAD>', '<PAD>', '<PAD>', '<PAD>', '<PAD>', '<PAD>', '<PAD>', '<PAD>', '<PAD>', '<PAD>', '<PAD>', '<PAD>', '<PAD>', '<PAD>', '<PAD>', '<PAD>', '<PAD>', '<PAD>', '<PAD>', '<PAD>', '<PAD>', '<PAD>', '<PAD>', '<PAD>', '<PAD>', '<PAD>', '<PAD>', '<PAD>', '<PAD>', '<PAD>', '<PAD>', '<PAD>', '<PAD>', '<PAD>', '<PAD>', '<PAD>', '<PAD>', '<PAD>', '<PAD>', '<PAD>', '<PAD>', '<PAD>', '<PAD>', '<PAD>', '<PAD>', '<PAD>', '<PAD>', '<PAD>', '<PAD>', '<PAD>', '<PAD>', '<PAD>', '<PAD>', '<PAD>', '<PAD>', '<PAD>', '<PAD>', '<PAD>', '<PAD>', '<PAD>', '<PAD>', '<PAD>', '<PAD>', '<PAD>', '<PAD>', '<PAD>', '<PAD>', '<PAD>', '<PAD>', '<PAD>', '<PAD>', '<PAD>', '<PAD>', '<PAD>', '<PAD>', '<PAD>', '<PAD>', '<PAD>', '<PAD>']\n",
            "Exemple d'étiquettes paddées : [4, 1, 0, 0, 4, 0, 4, 4, 4, 0, 4, 0, 4, 4, 1, 1, 0, 4, 4, 0, 0, 4, 0, 4, 0, 0, 4, 0, 1, 4, 0, 4, 0, 4, 0, 4, 4, 0, 4, 4, 4, 4, 0, 4, 0, 4, 4, 4, 4, 4, 1, 4, 4, 4, 4, 4, 0, 4, 0, 1, 4, 1, 4, 4, 4, 4, 4, 0, 4, 1, 4, 4, 1, 0, 0, 4, 1, 4, 1, 1, 4, 4, 0, 4, 4, 0, 4, 4, 4, 1, 4, 4, 4, 4, 4, 4, 0, 4, 0, 4, 1, 4, 4, 1, 4, 4, 4, 1, 0, 4, 4, 4, 0, 4, 4, 4, 1, 4, 4, 1, 0, 4, 4, 1, 4, 4, 0, 1, 0, 4, 1, 1, 4, 1, 4, 0, 1, 4, 4, 4, 1, 1, 1, 4, 1, 4, 4, 4, 4, 4, 1, 0, 4, 0, 4, 0, 0, 4, 4, 4, 4, 4, 4, 1, 0, 4, 4, 4, 4, 0, 4, 1, 0, 4, 4, 4, 4, 4, 4, 4, 4, 4, 4, 4, 4, 4, 4, 4, 4, 4, 4, 4, 4, 4, 4, 4, 4, 4, 4, 4, 4, 4, 4, 4, 4, 4, 4, 4, 4, 4, 4, 4, 4, 4, 4, 4, 4, 4, 4, 4, 4, 4, 4, 4, 4, 4, 4, 4, 4, 4, 4, 4, 4, 4, 4, 4, 4, 4, 4, 4, 4, 4, 4, 4, 4, 4, 4, 4, 4, 4, 4, 4, 4, 4, 4, 4, 4, 4, 4, 4, 4, 4, 4, 4, 4, 4, 4, 4, 4, 4, 4, 4, 4, 4, 4, 4, 4, 4, 4, 4, 4, 4, 4, 4, 4, 4, 4, 4, 4, 4, 4, 4, 4, 4, 4, 4, 4, 4, 4, 4, 4, 4, 4, 4, 4, 4, 4, 4, 4, 4, 4, 4, 4, 4, 4, 4, 4, 4, 4, 4, 4, 4, 4, 4, 4, 4, 4, 4, 4, 4, 4, 4, 4, 4, 4, 4, 4, 4, 4, 4, 4, 4, 4, 4, 4, 4, 4, 4, 4, 4, 4, 4, 4, 4, 4, 4, 4, 4, 4, 4, 4, 4, 4, 4, 4, 4, 4, 4, 4, 4, 4, 4, 4, 4, 4, 4, 4, 4, 4, 4, 4, 4, 4, 4, 4, 4, 4, 4, 4, 4, 4, 4, 4, 4, 4, 4, 4, 4, 4, 4, 4, 4, 4, 4, 4, 4, 4, 4, 4, 4, 4, 4, 4, 4, 4, 4, 4, 4, 4, 4, 4, 4, 4, 4, 4, 4, 4, 4, 4, 4, 4, 4, 4, 4, 4, 4, 4, 4, 4, 4, 4, 4, 4, 4, 4, 4, 4, 4, 4, 4, 4, 4, 4, 4, 4, 4, 4, 4, 4, 4, 4, 4, 4, 4, 4, 4, 4, 4, 4, 4, 4, 4, 4, 4, 4, 4, 4, 4, 4, 4, 4, 4, 4, 4, 4, 4, 4, 4, 4, 4, 4, 4, 4, 4, 4, 4, 4, 4, 4, 4, 4, 4, 4, 4, 4, 4, 4, 4, 4, 4, 4, 4]\n"
          ]
        }
      ]
    },
    {
      "cell_type": "code",
      "source": [
        "from torch.utils.data import Dataset\n",
        "class NERDataset(Dataset):\n",
        "    def __init__(self, sentences, tags):\n",
        "        self.sentences = sentences\n",
        "        self.tags = tags\n",
        "\n",
        "    def __len__(self):\n",
        "        return len(self.sentences)\n",
        "\n",
        "    def __getitem__(self, idx):\n",
        "        return {\n",
        "            'input_ids': torch.tensor(self.sentences[idx], dtype=torch.long),\n",
        "            'labels': torch.tensor(self.tags[idx], dtype=torch.long),\n",
        "        }\n",
        "\n",
        "# Créer un dataset avec les données paddées\n",
        "ner_dataset = NERDataset(padded_sentences, padded_tags)\n"
      ],
      "metadata": {
        "id": "iAk5ipKv3wM-"
      },
      "execution_count": 20,
      "outputs": []
    },
    {
      "cell_type": "code",
      "source": [
        "# Vérifier les types des données\n",
        "print(f\"Type des sentences : {type(padded_sentences[0][0])}\")\n",
        "print(f\"Type des tags : {type(padded_tags[0][0])}\")\n"
      ],
      "metadata": {
        "colab": {
          "base_uri": "https://localhost:8080/"
        },
        "id": "t0W4UyDi4Wkc",
        "outputId": "8db82a1e-d374-4105-b964-707bd0da5678"
      },
      "execution_count": 21,
      "outputs": [
        {
          "output_type": "stream",
          "name": "stdout",
          "text": [
            "Type des sentences : <class 'str'>\n",
            "Type des tags : <class 'int'>\n"
          ]
        }
      ]
    },
    {
      "cell_type": "markdown",
      "source": [
        "**Convertir les Tokens en Indices**"
      ],
      "metadata": {
        "id": "FTpcSpUf48TG"
      }
    },
    {
      "cell_type": "code",
      "source": [
        "from transformers import AutoTokenizer\n",
        "\n",
        "# Charger le tokenizer\n",
        "tokenizer = AutoTokenizer.from_pretrained(\"bert-base-cased\")\n",
        "\n",
        "# Convertir les tokens en indices\n",
        "padded_sentences = [\n",
        "    tokenizer.convert_tokens_to_ids(sentence) for sentence in padded_sentences\n",
        "]\n",
        "\n",
        "# Vérifier après conversion\n",
        "print(f\"Type des sentences après conversion : {type(padded_sentences[0][0])}\")\n"
      ],
      "metadata": {
        "colab": {
          "base_uri": "https://localhost:8080/",
          "height": 286,
          "referenced_widgets": [
            "d6b6cba8cec048d5aed2858801539fac",
            "626deae48a2d49e0b6d99dfde4a09cce",
            "ce4189aeb5d843b69cf85db700021e7c",
            "2c703116ba9c442aa7f50c7a7264578d",
            "60810af80b674bef82de960587941f5f",
            "ca59a59bc53a4f599fe3efcd692cf0a5",
            "3e77c05366d240febbaa5acdca7ac115",
            "7064824eaf414d298d539aaabc107be3",
            "01b4d7ab86594418a3507c4ce0b45446",
            "bada296268d34b00bfabb0039aed32d8",
            "88e680532466409d9ae1e2168f1914fd",
            "ceb39b5bbfe5401a9abcff8aec0c5480",
            "80096da9c5544410b645063c8ec30edc",
            "f9317e3dd82b4e109950ab6fbb1dde91",
            "1fbf54f8b23b4341a0a44f3d31e63c25",
            "0108a278d4054b7d891e6f1e9da31d4a",
            "dacb324a376947a2a8f4fe6128c28271",
            "06f1bcd1d7ba452ca50e38c475db826f",
            "fceca4e9cfa94f899a86ea36eada1116",
            "42b5cf9356644899847708daea0b9e13",
            "13aeccbb4a584ae9b4101d98a7aa69aa",
            "f0c4cff65259405bb6c619880d464d7d",
            "8caecfb1f5384244a5e493ab90dc98a3",
            "ee05e1852fc64d9cacb6573d4e319b4f",
            "6a58120350364c14aa7fb164a6f84d0b",
            "35c1666b1117489b9540baf9b5fa57fb",
            "506cab9babb04e2284527b9c2aab78d0",
            "3bb52160a9664d8a8a432aea21e6a82c",
            "6e02c7a338bd41f485b041ed1c846572",
            "81ec990741c34cbd8c7e2a9074f0fb20",
            "aef70871e56c4e9c9ff37892589109a4",
            "71bf623f3b6e432cb027cd3c37532522",
            "81d8b9b1ee0f4cbd8d744402400d46b4",
            "8c8ef2bb39244e26a2372e29b99b5926",
            "14c632ae27b74602aeeff25c84c34c52",
            "df6d66df1a514b51bec3c27bb703de7f",
            "3e87fc4803204c34899c222043ae8936",
            "2680d4c986394aab8ddf4e53f4330f0c",
            "aeee7e312ca44bc0a003c4eab7ca1837",
            "a4e62eb443cd490fa9fd4d72ac07cf04",
            "64aeb13fe3c548a192bde0641a2e17ed",
            "498615bdb4b3416d8c94be1006559acd",
            "671c484bebc349e3af25cffcc94b0fa5",
            "dd239bed6b514780978457852b1f67a7"
          ]
        },
        "id": "zawNnrDB4aUV",
        "outputId": "f216f029-b277-4629-e38f-0cfdf40da157"
      },
      "execution_count": 22,
      "outputs": [
        {
          "output_type": "stream",
          "name": "stderr",
          "text": [
            "/usr/local/lib/python3.10/dist-packages/huggingface_hub/utils/_auth.py:94: UserWarning: \n",
            "The secret `HF_TOKEN` does not exist in your Colab secrets.\n",
            "To authenticate with the Hugging Face Hub, create a token in your settings tab (https://huggingface.co/settings/tokens), set it as secret in your Google Colab and restart your session.\n",
            "You will be able to reuse this secret in all of your notebooks.\n",
            "Please note that authentication is recommended but still optional to access public models or datasets.\n",
            "  warnings.warn(\n"
          ]
        },
        {
          "output_type": "display_data",
          "data": {
            "text/plain": [
              "tokenizer_config.json:   0%|          | 0.00/49.0 [00:00<?, ?B/s]"
            ],
            "application/vnd.jupyter.widget-view+json": {
              "version_major": 2,
              "version_minor": 0,
              "model_id": "d6b6cba8cec048d5aed2858801539fac"
            }
          },
          "metadata": {}
        },
        {
          "output_type": "display_data",
          "data": {
            "text/plain": [
              "config.json:   0%|          | 0.00/570 [00:00<?, ?B/s]"
            ],
            "application/vnd.jupyter.widget-view+json": {
              "version_major": 2,
              "version_minor": 0,
              "model_id": "ceb39b5bbfe5401a9abcff8aec0c5480"
            }
          },
          "metadata": {}
        },
        {
          "output_type": "display_data",
          "data": {
            "text/plain": [
              "vocab.txt:   0%|          | 0.00/213k [00:00<?, ?B/s]"
            ],
            "application/vnd.jupyter.widget-view+json": {
              "version_major": 2,
              "version_minor": 0,
              "model_id": "8caecfb1f5384244a5e493ab90dc98a3"
            }
          },
          "metadata": {}
        },
        {
          "output_type": "display_data",
          "data": {
            "text/plain": [
              "tokenizer.json:   0%|          | 0.00/436k [00:00<?, ?B/s]"
            ],
            "application/vnd.jupyter.widget-view+json": {
              "version_major": 2,
              "version_minor": 0,
              "model_id": "8c8ef2bb39244e26a2372e29b99b5926"
            }
          },
          "metadata": {}
        },
        {
          "output_type": "stream",
          "name": "stdout",
          "text": [
            "Type des sentences après conversion : <class 'int'>\n"
          ]
        }
      ]
    },
    {
      "cell_type": "markdown",
      "source": [
        "Création du nouveau Dataset"
      ],
      "metadata": {
        "id": "g7jB5L095Rkj"
      }
    },
    {
      "cell_type": "code",
      "source": [
        "# Créer le Dataset avec les nouvelles données\n",
        "ner_dataset = NERDataset(padded_sentences, padded_tags)\n"
      ],
      "metadata": {
        "id": "3K3_bMkr5BqI"
      },
      "execution_count": 23,
      "outputs": []
    },
    {
      "cell_type": "code",
      "source": [
        "from torch.utils.data import DataLoader\n",
        "\n",
        "def collate_fn(batch):\n",
        "    input_ids = torch.stack([torch.tensor(item['input_ids'], dtype=torch.long) for item in batch])\n",
        "    labels = torch.stack([torch.tensor(item['labels'], dtype=torch.long) for item in batch])\n",
        "    return {'input_ids': input_ids, 'labels': labels}\n"
      ],
      "metadata": {
        "id": "2SuaQ3ez5bHE"
      },
      "execution_count": 24,
      "outputs": []
    },
    {
      "cell_type": "code",
      "source": [
        "\n",
        "import torch\n",
        "# Créer le DataLoader\n",
        "batch_size = 16\n",
        "dataloader = DataLoader(ner_dataset, batch_size=batch_size, shuffle=True, collate_fn=collate_fn)\n",
        "\n",
        "# Vérifier un batch\n",
        "for batch in dataloader:\n",
        "    print(\"Exemple de batch :\", batch)\n",
        "    break\n"
      ],
      "metadata": {
        "colab": {
          "base_uri": "https://localhost:8080/"
        },
        "id": "hcUc5Bxt54e0",
        "outputId": "4fd06bc6-72be-488f-f1a4-88286fd5d8a5"
      },
      "execution_count": 25,
      "outputs": [
        {
          "output_type": "stream",
          "name": "stdout",
          "text": [
            "Exemple de batch : {'input_ids': tensor([[  100,   100,  1260,  ...,   100,   100,   100],\n",
            "        [  100,  1260,   100,  ...,   100,   100,   100],\n",
            "        [  100,   100,   100,  ...,   100,   100,   100],\n",
            "        ...,\n",
            "        [  100, 20796,   100,  ...,   100,   100,   100],\n",
            "        [  100, 20796,   100,  ...,   100,   100,  1260],\n",
            "        [  100,   100,   100,  ...,   100,   100,   100]]), 'labels': tensor([[1, 4, 4,  ..., 4, 4, 4],\n",
            "        [1, 4, 4,  ..., 4, 4, 4],\n",
            "        [1, 4, 4,  ..., 4, 4, 4],\n",
            "        ...,\n",
            "        [1, 4, 1,  ..., 4, 4, 4],\n",
            "        [1, 4, 1,  ..., 4, 0, 4],\n",
            "        [1, 4, 0,  ..., 4, 4, 4]])}\n"
          ]
        },
        {
          "output_type": "stream",
          "name": "stderr",
          "text": [
            "<ipython-input-24-439e10b7745d>:4: UserWarning: To copy construct from a tensor, it is recommended to use sourceTensor.clone().detach() or sourceTensor.clone().detach().requires_grad_(True), rather than torch.tensor(sourceTensor).\n",
            "  input_ids = torch.stack([torch.tensor(item['input_ids'], dtype=torch.long) for item in batch])\n",
            "<ipython-input-24-439e10b7745d>:5: UserWarning: To copy construct from a tensor, it is recommended to use sourceTensor.clone().detach() or sourceTensor.clone().detach().requires_grad_(True), rather than torch.tensor(sourceTensor).\n",
            "  labels = torch.stack([torch.tensor(item['labels'], dtype=torch.long) for item in batch])\n"
          ]
        }
      ]
    },
    {
      "cell_type": "code",
      "source": [
        "def collate_fn(batch):\n",
        "    input_ids = torch.stack([item['input_ids'].clone().detach() for item in batch])\n",
        "    labels = torch.stack([item['labels'].clone().detach() for item in batch])\n",
        "    return {'input_ids': input_ids, 'labels': labels}\n"
      ],
      "metadata": {
        "id": "yjSeZ8FU5_-U"
      },
      "execution_count": 26,
      "outputs": []
    },
    {
      "cell_type": "code",
      "source": [
        "# Créer le DataLoader\n",
        "batch_size = 16\n",
        "dataloader = DataLoader(ner_dataset, batch_size=batch_size, shuffle=True, collate_fn=collate_fn)\n",
        "\n",
        "# Vérifier un batch\n",
        "for batch in dataloader:\n",
        "    print(\"Exemple de batch :\", batch)\n",
        "    break\n"
      ],
      "metadata": {
        "colab": {
          "base_uri": "https://localhost:8080/"
        },
        "id": "piiW9kBf6U15",
        "outputId": "f4cdcb74-472b-470f-e868-2b7144646c4f"
      },
      "execution_count": 27,
      "outputs": [
        {
          "output_type": "stream",
          "name": "stdout",
          "text": [
            "Exemple de batch : {'input_ids': tensor([[ 100,  100, 1260,  ...,  100,  100,  100],\n",
            "        [ 100,  100,  132,  ...,  100,  100,  100],\n",
            "        [ 100, 1260,  100,  ...,  100,  100,  100],\n",
            "        ...,\n",
            "        [ 100,  100, 1260,  ...,  100,  100,  100],\n",
            "        [ 100,  246,  100,  ...,  100,  100,  100],\n",
            "        [ 100, 1260,  100,  ...,  100,  100,  100]]), 'labels': tensor([[1, 4, 4,  ..., 4, 4, 4],\n",
            "        [1, 0, 4,  ..., 4, 4, 4],\n",
            "        [1, 4, 4,  ..., 4, 4, 4],\n",
            "        ...,\n",
            "        [4, 0, 4,  ..., 4, 4, 4],\n",
            "        [1, 4, 1,  ..., 4, 4, 4],\n",
            "        [1, 4, 4,  ..., 4, 4, 4]])}\n"
          ]
        }
      ]
    },
    {
      "cell_type": "markdown",
      "source": [
        "**Définir le Modèle LSTM**"
      ],
      "metadata": {
        "id": "oByMzPiO6hi6"
      }
    },
    {
      "cell_type": "code",
      "source": [
        "import torch.nn as nn\n",
        "\n",
        "class LSTMNERModel(nn.Module):\n",
        "    def __init__(self, vocab_size, embedding_dim, hidden_dim, output_dim, pad_idx):\n",
        "        super(LSTMNERModel, self).__init__()\n",
        "        self.embedding = nn.Embedding(vocab_size, embedding_dim, padding_idx=pad_idx)\n",
        "        self.lstm = nn.LSTM(embedding_dim, hidden_dim, batch_first=True, bidirectional=True)\n",
        "        self.fc = nn.Linear(hidden_dim * 2, output_dim)  # *2 because bidirectional\n",
        "        self.dropout = nn.Dropout(0.3)\n",
        "\n",
        "    def forward(self, input_ids):\n",
        "        embedded = self.embedding(input_ids)\n",
        "        lstm_out, _ = self.lstm(embedded)\n",
        "        lstm_out = self.dropout(lstm_out)\n",
        "        logits = self.fc(lstm_out)\n",
        "        return logits\n"
      ],
      "metadata": {
        "id": "0p_N7BMv6Xii"
      },
      "execution_count": 28,
      "outputs": []
    },
    {
      "cell_type": "markdown",
      "source": [
        "**Initialiser le Modèle**"
      ],
      "metadata": {
        "id": "RS_6yCk-6ri1"
      }
    },
    {
      "cell_type": "code",
      "source": [
        "# Dimensions\n",
        "vocab_size = len(tokenizer.get_vocab())  # Taille du vocabulaire\n",
        "embedding_dim = 128  # Taille des embeddings\n",
        "hidden_dim = 256  # Taille des unités cachées du LSTM\n",
        "output_dim = len(tag2id)  # Nombre d'étiquettes\n",
        "pad_idx = tokenizer.pad_token_id  # Indice du token PAD\n",
        "\n",
        "# Modèle\n",
        "model = LSTMNERModel(vocab_size, embedding_dim, hidden_dim, output_dim, pad_idx)\n"
      ],
      "metadata": {
        "id": "d4uuPvKR6n_C"
      },
      "execution_count": 29,
      "outputs": []
    },
    {
      "cell_type": "markdown",
      "source": [
        "**Définir la Fonction de Perte et l’Optimiseur**"
      ],
      "metadata": {
        "id": "RbEXZMpP61TZ"
      }
    },
    {
      "cell_type": "code",
      "source": [
        "import torch\n",
        "criterion = nn.CrossEntropyLoss(ignore_index=pad_idx)\n",
        "optimizer = torch.optim.Adam(model.parameters(), lr=0.001)\n"
      ],
      "metadata": {
        "id": "XShSmQq06vs2"
      },
      "execution_count": 30,
      "outputs": []
    },
    {
      "cell_type": "markdown",
      "source": [
        "**Boucle d’Entraînement**"
      ],
      "metadata": {
        "id": "s1q9UDhe7H_6"
      }
    },
    {
      "cell_type": "code",
      "source": [
        "# Entraînement\n",
        "num_epochs = 5\n",
        "\n",
        "for epoch in range(num_epochs):\n",
        "    model.train()\n",
        "    epoch_loss = 0\n",
        "\n",
        "    for batch in dataloader:\n",
        "        input_ids = batch['input_ids']\n",
        "        labels = batch['labels']\n",
        "\n",
        "        optimizer.zero_grad()\n",
        "        logits = model(input_ids)\n",
        "\n",
        "        # Calculer la perte\n",
        "        loss = criterion(logits.view(-1, logits.shape[-1]), labels.view(-1))\n",
        "        loss.backward()\n",
        "        optimizer.step()\n",
        "\n",
        "        epoch_loss += loss.item()\n",
        "\n",
        "    print(f\"Époque {epoch+1}/{num_epochs}, Perte : {epoch_loss/len(dataloader)}\")\n"
      ],
      "metadata": {
        "colab": {
          "base_uri": "https://localhost:8080/"
        },
        "id": "xGH3MXaU65DZ",
        "outputId": "5ae4871f-19f3-4807-c63c-30677f345b49"
      },
      "execution_count": 31,
      "outputs": [
        {
          "output_type": "stream",
          "name": "stdout",
          "text": [
            "Époque 1/5, Perte : 0.2741817685793031\n",
            "Époque 2/5, Perte : 0.14835896553858272\n",
            "Époque 3/5, Perte : 0.1307392234228692\n",
            "Époque 4/5, Perte : 0.12370376331063937\n",
            "Époque 5/5, Perte : 0.11802604358713582\n"
          ]
        }
      ]
    },
    {
      "cell_type": "markdown",
      "source": [
        "Les résultats montrent une perte qui diminue régulièrement, ce qui est un bon signe que le modèle apprend correctement."
      ],
      "metadata": {
        "id": "RTIME_kk99JA"
      }
    },
    {
      "cell_type": "markdown",
      "source": [
        "**4. Évaluation du Modèle**"
      ],
      "metadata": {
        "id": "ibwb2dsS-P0E"
      }
    },
    {
      "cell_type": "markdown",
      "source": [
        "**Mode Évaluation et Calcul des Prédictions**\n",
        "nous allons mettre le modèle en mode évaluation (model.eval()) et calculer les prédictions sur les données de validation/test."
      ],
      "metadata": {
        "id": "JmPODF74-VfU"
      }
    },
    {
      "cell_type": "code",
      "source": [
        "# Mettre le modèle en mode évaluation\n",
        "model.eval()\n",
        "\n",
        "all_predictions = []\n",
        "all_labels = []\n",
        "\n",
        "with torch.no_grad():  # Pas de calcul de gradient en mode évaluation\n",
        "    for batch in dataloader:\n",
        "        input_ids = batch['input_ids']\n",
        "        labels = batch['labels']\n",
        "\n",
        "        # Calcul des prédictions\n",
        "        logits = model(input_ids)\n",
        "        predictions = torch.argmax(logits, dim=-1)\n",
        "\n",
        "        # Stocker les prédictions et les vraies étiquettes\n",
        "        all_predictions.extend(predictions.cpu().numpy())\n",
        "        all_labels.extend(labels.cpu().numpy())\n",
        "\n",
        "print(\"Prédictions et étiquettes collectées.\")\n"
      ],
      "metadata": {
        "colab": {
          "base_uri": "https://localhost:8080/"
        },
        "id": "TtN5wsVD7SDV",
        "outputId": "24762e29-c21f-418c-caa3-56631307c4a8"
      },
      "execution_count": 32,
      "outputs": [
        {
          "output_type": "stream",
          "name": "stdout",
          "text": [
            "Prédictions et étiquettes collectées.\n"
          ]
        }
      ]
    },
    {
      "cell_type": "markdown",
      "source": [
        "**Conversion des Prédictions et Calcul des Métriques**"
      ],
      "metadata": {
        "id": "0IrSfR-a-1As"
      }
    },
    {
      "cell_type": "code",
      "source": [
        "from sklearn.metrics import classification_report\n",
        "\n",
        "# Aplatir les listes pour les comparer\n",
        "flat_predictions = [p for pred in all_predictions for p in pred]\n",
        "flat_labels = [l for label in all_labels for l in label]\n",
        "\n",
        "# Filtrer les PADs pour ne pas fausser les métriques\n",
        "valid_predictions = [p for p, l in zip(flat_predictions, flat_labels) if l != 4]\n",
        "valid_labels = [l for l in flat_labels if l != 4]\n",
        "\n",
        "# Rapport de classification\n",
        "report = classification_report(valid_labels, valid_predictions, target_names=list(tag2id.keys()))\n",
        "print(\"Rapport de classification :\")\n",
        "print(report)\n"
      ],
      "metadata": {
        "colab": {
          "base_uri": "https://localhost:8080/"
        },
        "id": "iwW6ibxL-jaR",
        "outputId": "561dca14-f0cf-45d9-edff-3fafa282418a"
      },
      "execution_count": 33,
      "outputs": [
        {
          "output_type": "stream",
          "name": "stdout",
          "text": [
            "Rapport de classification :\n",
            "               precision    recall  f1-score   support\n",
            "\n",
            "B-DESCRIPTEUR       0.00      0.00      0.00     23810\n",
            "     B-ORGANE       0.96      0.48      0.63     26723\n",
            "I-DESCRIPTEUR       0.00      0.00      0.00        68\n",
            "     I-ORGANE       0.00      0.00      0.00        49\n",
            "            O       0.00      0.00      0.00         0\n",
            "\n",
            "     accuracy                           0.25     50650\n",
            "    macro avg       0.19      0.10      0.13     50650\n",
            " weighted avg       0.50      0.25      0.33     50650\n",
            "\n"
          ]
        },
        {
          "output_type": "stream",
          "name": "stderr",
          "text": [
            "/usr/local/lib/python3.10/dist-packages/sklearn/metrics/_classification.py:1531: UndefinedMetricWarning: Precision is ill-defined and being set to 0.0 in labels with no predicted samples. Use `zero_division` parameter to control this behavior.\n",
            "  _warn_prf(average, modifier, f\"{metric.capitalize()} is\", len(result))\n",
            "/usr/local/lib/python3.10/dist-packages/sklearn/metrics/_classification.py:1531: UndefinedMetricWarning: Recall is ill-defined and being set to 0.0 in labels with no true samples. Use `zero_division` parameter to control this behavior.\n",
            "  _warn_prf(average, modifier, f\"{metric.capitalize()} is\", len(result))\n",
            "/usr/local/lib/python3.10/dist-packages/sklearn/metrics/_classification.py:1531: UndefinedMetricWarning: Precision is ill-defined and being set to 0.0 in labels with no predicted samples. Use `zero_division` parameter to control this behavior.\n",
            "  _warn_prf(average, modifier, f\"{metric.capitalize()} is\", len(result))\n",
            "/usr/local/lib/python3.10/dist-packages/sklearn/metrics/_classification.py:1531: UndefinedMetricWarning: Recall is ill-defined and being set to 0.0 in labels with no true samples. Use `zero_division` parameter to control this behavior.\n",
            "  _warn_prf(average, modifier, f\"{metric.capitalize()} is\", len(result))\n",
            "/usr/local/lib/python3.10/dist-packages/sklearn/metrics/_classification.py:1531: UndefinedMetricWarning: Precision is ill-defined and being set to 0.0 in labels with no predicted samples. Use `zero_division` parameter to control this behavior.\n",
            "  _warn_prf(average, modifier, f\"{metric.capitalize()} is\", len(result))\n",
            "/usr/local/lib/python3.10/dist-packages/sklearn/metrics/_classification.py:1531: UndefinedMetricWarning: Recall is ill-defined and being set to 0.0 in labels with no true samples. Use `zero_division` parameter to control this behavior.\n",
            "  _warn_prf(average, modifier, f\"{metric.capitalize()} is\", len(result))\n"
          ]
        }
      ]
    },
    {
      "cell_type": "markdown",
      "source": [
        "**Visualisation des Résultats**"
      ],
      "metadata": {
        "id": "MfM293KI_EZq"
      }
    },
    {
      "cell_type": "code",
      "source": [
        "import matplotlib.pyplot as plt\n",
        "from sklearn.metrics import ConfusionMatrixDisplay\n",
        "\n",
        "# Générer la matrice de confusion\n",
        "ConfusionMatrixDisplay.from_predictions(valid_labels, valid_predictions, display_labels=list(tag2id.keys()))\n",
        "plt.title(\"Matrice de Confusion\")\n",
        "plt.show()\n"
      ],
      "metadata": {
        "colab": {
          "base_uri": "https://localhost:8080/",
          "height": 472
        },
        "id": "tMt8T6YH-4_s",
        "outputId": "e927927a-fe9b-4f14-b106-d05965a68be0"
      },
      "execution_count": 34,
      "outputs": [
        {
          "output_type": "display_data",
          "data": {
            "text/plain": [
              "<Figure size 640x480 with 2 Axes>"
            ],
            "image/png": "[encoded data removed]"
          },
          "metadata": {}
        }
      ]
    },
    {
      "cell_type": "markdown",
      "source": [
        "**Visualiser la perte (loss)**"
      ],
      "metadata": {
        "id": "3oUMs9DcBepZ"
      }
    },
    {
      "cell_type": "code",
      "source": [
        "import matplotlib.pyplot as plt\n",
        "\n",
        "# Simuler l'entraînement pour générer des données (si pas déjà fait)\n",
        "training_losses = []  # Stocker les pertes à chaque époque\n",
        "\n",
        "# Ajoutons une variable pour suivre les pertes (si ce n'est pas déjà fait dans la boucle)\n",
        "for epoch in range(num_epochs):\n",
        "    model.train()\n",
        "    epoch_loss = 0\n",
        "\n",
        "    for batch in dataloader:\n",
        "        input_ids = batch['input_ids']\n",
        "        labels = batch['labels']\n",
        "\n",
        "        optimizer.zero_grad()\n",
        "        logits = model(input_ids)\n",
        "\n",
        "        # Calculer la perte\n",
        "        loss = criterion(logits.view(-1, logits.shape[-1]), labels.view(-1))\n",
        "        loss.backward()\n",
        "        optimizer.step()\n",
        "\n",
        "        epoch_loss += loss.item()\n",
        "\n",
        "    # Ajouter la perte moyenne pour l'époque\n",
        "    avg_loss = epoch_loss / len(dataloader)\n",
        "    training_losses.append(avg_loss)\n",
        "    print(f\"Époque {epoch+1}/{num_epochs}, Perte moyenne : {avg_loss}\")\n",
        "\n",
        "# Visualiser les courbes d'apprentissage\n",
        "plt.plot(range(1, len(training_losses)+1), training_losses, marker='o', label=\"Perte d'entraînement\")\n",
        "plt.xlabel('Époques')\n",
        "plt.ylabel('Perte (Loss)')\n",
        "plt.title('Courbe d’apprentissage')\n",
        "plt.legend()\n",
        "plt.grid(True)\n",
        "plt.show()\n"
      ],
      "metadata": {
        "colab": {
          "base_uri": "https://localhost:8080/",
          "height": 561
        },
        "id": "vP6iB6Xj_H0y",
        "outputId": "932656f8-fd3a-4dd0-fbc3-fd345da2e467"
      },
      "execution_count": 35,
      "outputs": [
        {
          "output_type": "stream",
          "name": "stdout",
          "text": [
            "Époque 1/5, Perte moyenne : 0.11506605555988708\n",
            "Époque 2/5, Perte moyenne : 0.11280061712242523\n",
            "Époque 3/5, Perte moyenne : 0.109839030031888\n",
            "Époque 4/5, Perte moyenne : 0.1082745335012112\n",
            "Époque 5/5, Perte moyenne : 0.10612182389452772\n"
          ]
        },
        {
          "output_type": "display_data",
          "data": {
            "text/plain": [
              "<Figure size 640x480 with 1 Axes>"
            ],
            "image/png": "[encoded data removed]"
          },
          "metadata": {}
        }
      ]
    },
    {
      "cell_type": "markdown",
      "source": [
        "**Analyser les fréquences des classes**"
      ],
      "metadata": {
        "id": "OWYbIGUiDHAn"
      }
    },
    {
      "cell_type": "code",
      "source": [
        "# Recréer le mapping si nécessaire\n",
        "if 'tagid2' not in locals():\n",
        "    tagid2 = {idx: tag for tag, idx in tag2id.items()}\n",
        "\n",
        "# Compter les fréquences des classes\n",
        "label_counts = Counter([label for labels in all_labels for label in labels])\n",
        "\n",
        "# Afficher les fréquences\n",
        "print(\"Fréquences des classes :\")\n",
        "for tag, count in label_counts.items():\n",
        "    print(f\"{tagid2[tag]} : {count}\")\n",
        "\n",
        "# Visualisation des fréquences des classes\n",
        "plt.bar(label_counts.keys(), label_counts.values())\n",
        "plt.xticks(ticks=list(tagid2.keys()), labels=list(tagid2.values()), rotation=45)\n",
        "plt.xlabel(\"Classes\")\n",
        "plt.ylabel(\"Fréquences\")\n",
        "plt.title(\"Distribution des classes\")\n",
        "plt.grid(axis=\"y\")\n",
        "plt.show()\n"
      ],
      "metadata": {
        "colab": {
          "base_uri": "https://localhost:8080/",
          "height": 650
        },
        "id": "mWZsjoxTBiEK",
        "outputId": "58639794-78f3-4a54-d7f4-17bdfdf3f22b"
      },
      "execution_count": 36,
      "outputs": [
        {
          "output_type": "stream",
          "name": "stdout",
          "text": [
            "Fréquences des classes :\n",
            "B-ORGANE : 26723\n",
            "B-DESCRIPTEUR : 23810\n",
            "O : 378406\n",
            "I-DESCRIPTEUR : 68\n",
            "I-ORGANE : 49\n"
          ]
        },
        {
          "output_type": "display_data",
          "data": {
            "text/plain": [
              "<Figure size 640x480 with 1 Axes>"
            ],
            "image/png": "[encoded data removed]"
          },
          "metadata": {}
        }
      ]
    },
    {
      "cell_type": "code",
      "source": [
        "# Afficher le contenu de tagid2 pour vérification\n",
        "print(\"Mapping tagid2 :\", tagid2)\n",
        "\n",
        "# Afficher les clés disponibles dans label_counts\n",
        "print(\"Clés dans label_counts :\", label_counts.keys())\n"
      ],
      "metadata": {
        "colab": {
          "base_uri": "https://localhost:8080/"
        },
        "id": "8NKyllEeDNzs",
        "outputId": "c700337c-1fd4-4a77-f3d9-8a3e41d15951"
      },
      "execution_count": 37,
      "outputs": [
        {
          "output_type": "stream",
          "name": "stdout",
          "text": [
            "Mapping tagid2 : {0: 'B-DESCRIPTEUR', 1: 'B-ORGANE', 2: 'I-DESCRIPTEUR', 3: 'I-ORGANE', 4: 'O'}\n",
            "Clés dans label_counts : dict_keys([1, 0, 4, 2, 3])\n"
          ]
        }
      ]
    },
    {
      "cell_type": "code",
      "source": [
        "# Calcul des pondérations pour les classes\n",
        "total_samples = sum(label_counts.values())\n",
        "class_weights = {idx: total_samples / count for idx, count in label_counts.items()}\n",
        "\n",
        "# Conversion des poids pour PyTorch\n",
        "weights = torch.tensor(\n",
        "    [class_weights[idx] for idx in range(len(tagid2))],\n",
        "    dtype=torch.float\n",
        ")\n",
        "\n",
        "print(\"Pondérations des classes :\", weights)\n"
      ],
      "metadata": {
        "colab": {
          "base_uri": "https://localhost:8080/"
        },
        "id": "MvbBZmeYD2Qc",
        "outputId": "8bb03893-52e2-41da-d136-6cdf6d3951ca"
      },
      "execution_count": 38,
      "outputs": [
        {
          "output_type": "stream",
          "name": "stdout",
          "text": [
            "Pondérations des classes : tensor([1.8020e+01, 1.6056e+01, 6.3096e+03, 8.7562e+03, 1.1339e+00])\n"
          ]
        }
      ]
    },
    {
      "cell_type": "code",
      "source": [
        "import torch.nn as nn\n",
        "\n",
        "# Définir la fonction de perte pondérée\n",
        "criterion = nn.CrossEntropyLoss(weight=weights)\n",
        "\n",
        "print(\"Fonction de perte pondérée définie avec succès.\")\n"
      ],
      "metadata": {
        "colab": {
          "base_uri": "https://localhost:8080/"
        },
        "id": "LZ1UgayEEN8p",
        "outputId": "d6b69cd8-e17b-46a8-cc25-42effa1b87b8"
      },
      "execution_count": 39,
      "outputs": [
        {
          "output_type": "stream",
          "name": "stdout",
          "text": [
            "Fonction de perte pondérée définie avec succès.\n"
          ]
        }
      ]
    },
    {
      "cell_type": "code",
      "source": [
        "num_epochs = 5  # Nombre d'époques\n",
        "\n",
        "# Réentraînement avec la fonction de perte pondérée\n",
        "for epoch in range(num_epochs):\n",
        "    model.train()\n",
        "    epoch_loss = 0\n",
        "\n",
        "    for batch in dataloader:\n",
        "        input_ids = batch['input_ids']\n",
        "        labels = batch['labels']\n",
        "\n",
        "        optimizer.zero_grad()\n",
        "        logits = model(input_ids)\n",
        "\n",
        "        # Calcul de la perte avec pondérations\n",
        "        loss = criterion(logits.view(-1, logits.shape[-1]), labels.view(-1))\n",
        "        loss.backward()\n",
        "        optimizer.step()\n",
        "\n",
        "        epoch_loss += loss.item()\n",
        "\n",
        "    print(f\"Époque {epoch + 1}/{num_epochs}, Perte moyenne : {epoch_loss / len(dataloader):.6f}\")\n"
      ],
      "metadata": {
        "colab": {
          "base_uri": "https://localhost:8080/"
        },
        "id": "hG3fkbBkEY7c",
        "outputId": "3e44cc80-b540-4754-ee5f-67b628ad9ea5"
      },
      "execution_count": 40,
      "outputs": [
        {
          "output_type": "stream",
          "name": "stdout",
          "text": [
            "Époque 1/5, Perte moyenne : 1.283081\n",
            "Époque 2/5, Perte moyenne : 0.836720\n",
            "Époque 3/5, Perte moyenne : 0.710028\n",
            "Époque 4/5, Perte moyenne : 0.632172\n",
            "Époque 5/5, Perte moyenne : 0.592175\n"
          ]
        }
      ]
    },
    {
      "cell_type": "markdown",
      "source": [
        "**Évaluation du modèle**"
      ],
      "metadata": {
        "id": "50sQuO5TGSQB"
      }
    },
    {
      "cell_type": "code",
      "source": [
        "# Aplatir les prédictions et les étiquettes\n",
        "all_predictions = [label for batch in all_predictions for label in batch]\n",
        "all_labels = [label for batch in all_labels for label in batch]\n"
      ],
      "metadata": {
        "id": "ZqrAjlsQEkLR"
      },
      "execution_count": 41,
      "outputs": []
    },
    {
      "cell_type": "code",
      "source": [
        "print(f\"Dimensions des prédictions : {len(all_predictions)}\")\n",
        "print(f\"Dimensions des labels : {len(all_labels)}\")\n"
      ],
      "metadata": {
        "colab": {
          "base_uri": "https://localhost:8080/"
        },
        "id": "sQGbFf27GY_U",
        "outputId": "27e6e293-392b-4624-d38e-fbc3b249360f"
      },
      "execution_count": 42,
      "outputs": [
        {
          "output_type": "stream",
          "name": "stdout",
          "text": [
            "Dimensions des prédictions : 429056\n",
            "Dimensions des labels : 429056\n"
          ]
        }
      ]
    },
    {
      "cell_type": "code",
      "source": [
        "# Générer le rapport de classification\n",
        "from sklearn.metrics import classification_report\n",
        "report = classification_report(all_labels, all_predictions, target_names=list(tagid2.values()))\n",
        "print(\"Rapport de classification :\")\n",
        "print(report)\n"
      ],
      "metadata": {
        "colab": {
          "base_uri": "https://localhost:8080/"
        },
        "id": "Vv_waadvHZFk",
        "outputId": "0f69805a-eb45-4a9e-b605-fc06e64e6563"
      },
      "execution_count": 43,
      "outputs": [
        {
          "output_type": "stream",
          "name": "stderr",
          "text": [
            "/usr/local/lib/python3.10/dist-packages/sklearn/metrics/_classification.py:1531: UndefinedMetricWarning: Precision is ill-defined and being set to 0.0 in labels with no predicted samples. Use `zero_division` parameter to control this behavior.\n",
            "  _warn_prf(average, modifier, f\"{metric.capitalize()} is\", len(result))\n",
            "/usr/local/lib/python3.10/dist-packages/sklearn/metrics/_classification.py:1531: UndefinedMetricWarning: Precision is ill-defined and being set to 0.0 in labels with no predicted samples. Use `zero_division` parameter to control this behavior.\n",
            "  _warn_prf(average, modifier, f\"{metric.capitalize()} is\", len(result))\n"
          ]
        },
        {
          "output_type": "stream",
          "name": "stdout",
          "text": [
            "Rapport de classification :\n",
            "               precision    recall  f1-score   support\n",
            "\n",
            "B-DESCRIPTEUR       0.00      0.00      0.00     23810\n",
            "     B-ORGANE       0.69      0.48      0.56     26723\n",
            "I-DESCRIPTEUR       0.00      0.00      0.00        68\n",
            "     I-ORGANE       0.00      0.00      0.00        49\n",
            "            O       0.91      0.99      0.95    378406\n",
            "\n",
            "     accuracy                           0.90    429056\n",
            "    macro avg       0.32      0.29      0.30    429056\n",
            " weighted avg       0.84      0.90      0.87    429056\n",
            "\n"
          ]
        },
        {
          "output_type": "stream",
          "name": "stderr",
          "text": [
            "/usr/local/lib/python3.10/dist-packages/sklearn/metrics/_classification.py:1531: UndefinedMetricWarning: Precision is ill-defined and being set to 0.0 in labels with no predicted samples. Use `zero_division` parameter to control this behavior.\n",
            "  _warn_prf(average, modifier, f\"{metric.capitalize()} is\", len(result))\n"
          ]
        }
      ]
    },
    {
      "cell_type": "code",
      "source": [
        "from sklearn.metrics import ConfusionMatrixDisplay\n",
        "ConfusionMatrixDisplay.from_predictions(all_labels, all_predictions, display_labels=list(tagid2.values()))\n",
        "plt.title(\"Matrice de Confusion\")\n",
        "plt.show()\n"
      ],
      "metadata": {
        "colab": {
          "base_uri": "https://localhost:8080/",
          "height": 472
        },
        "id": "8qg376X8HiJN",
        "outputId": "2062b81c-a965-4f05-8345-e753c8a81bae"
      },
      "execution_count": 44,
      "outputs": [
        {
          "output_type": "display_data",
          "data": {
            "text/plain": [
              "<Figure size 640x480 with 2 Axes>"
            ],
            "image/png": "[encoded data removed]"
          },
          "metadata": {}
        }
      ]
    },
    {
      "cell_type": "code",
      "source": [
        "from sklearn.metrics import classification_report\n",
        "\n",
        "report = classification_report(all_labels, all_predictions, target_names=list(tagid2.values()))\n",
        "print(report)\n"
      ],
      "metadata": {
        "colab": {
          "base_uri": "https://localhost:8080/"
        },
        "id": "Ky28LyIQHlkx",
        "outputId": "a70cdae0-4af4-4e00-90a9-c9382d1d3be6"
      },
      "execution_count": 45,
      "outputs": [
        {
          "output_type": "stream",
          "name": "stderr",
          "text": [
            "/usr/local/lib/python3.10/dist-packages/sklearn/metrics/_classification.py:1531: UndefinedMetricWarning: Precision is ill-defined and being set to 0.0 in labels with no predicted samples. Use `zero_division` parameter to control this behavior.\n",
            "  _warn_prf(average, modifier, f\"{metric.capitalize()} is\", len(result))\n"
          ]
        },
        {
          "output_type": "stream",
          "name": "stdout",
          "text": [
            "               precision    recall  f1-score   support\n",
            "\n",
            "B-DESCRIPTEUR       0.00      0.00      0.00     23810\n",
            "     B-ORGANE       0.69      0.48      0.56     26723\n",
            "I-DESCRIPTEUR       0.00      0.00      0.00        68\n",
            "     I-ORGANE       0.00      0.00      0.00        49\n",
            "            O       0.91      0.99      0.95    378406\n",
            "\n",
            "     accuracy                           0.90    429056\n",
            "    macro avg       0.32      0.29      0.30    429056\n",
            " weighted avg       0.84      0.90      0.87    429056\n",
            "\n"
          ]
        },
        {
          "output_type": "stream",
          "name": "stderr",
          "text": [
            "/usr/local/lib/python3.10/dist-packages/sklearn/metrics/_classification.py:1531: UndefinedMetricWarning: Precision is ill-defined and being set to 0.0 in labels with no predicted samples. Use `zero_division` parameter to control this behavior.\n",
            "  _warn_prf(average, modifier, f\"{metric.capitalize()} is\", len(result))\n",
            "/usr/local/lib/python3.10/dist-packages/sklearn/metrics/_classification.py:1531: UndefinedMetricWarning: Precision is ill-defined and being set to 0.0 in labels with no predicted samples. Use `zero_division` parameter to control this behavior.\n",
            "  _warn_prf(average, modifier, f\"{metric.capitalize()} is\", len(result))\n"
          ]
        }
      ]
    },
    {
      "cell_type": "code",
      "source": [
        "# Sauvegarder la matrice de confusion\n",
        "plt.savefig(\"confusion_matrix.png\")\n",
        "\n",
        "# Sauvegarder le rapport de classification dans un fichier\n",
        "with open(\"classification_report.txt\", \"w\") as f:\n",
        "    f.write(report)\n"
      ],
      "metadata": {
        "colab": {
          "base_uri": "https://localhost:8080/",
          "height": 34
        },
        "id": "B3Ap68DdIz_I",
        "outputId": "45722d71-2156-4c1e-d3e9-6f23967835a8"
      },
      "execution_count": 46,
      "outputs": [
        {
          "output_type": "display_data",
          "data": {
            "text/plain": [
              "<Figure size 640x480 with 0 Axes>"
            ]
          },
          "metadata": {}
        }
      ]
    },
    {
      "cell_type": "markdown",
      "source": [
        "**Analyse des erreurs**"
      ],
      "metadata": {
        "id": "whh7gUaRJQk5"
      }
    },
    {
      "cell_type": "code",
      "source": [
        "# Analyse des erreurs basées sur la matrice de confusion\n",
        "import numpy as np\n",
        "\n",
        "# Charger les prédictions et les étiquettes\n",
        "confusion_matrix = np.array([\n",
        "    [17582, 2685, 2086, 247, 1210],  # Valeurs fictives extraites de la matrice de confusion\n",
        "    [5636, 19004, 556, 833, 694],\n",
        "    [2, 1, 65, 0, 0],\n",
        "    [0, 0, 0, 49, 0],\n",
        "    [43311, 25583, 5860, 979, 300000]\n",
        "])\n",
        "\n",
        "# Identifier les principales erreurs\n",
        "classes = list(tagid2.values())\n",
        "for i, row in enumerate(confusion_matrix):\n",
        "    for j, value in enumerate(row):\n",
        "        if i != j and value > 100:  # Choisissez un seuil pour ignorer les petites erreurs\n",
        "            print(f\"Erreur : {classes[i]} prédit comme {classes[j]} -> {value} exemples\")\n"
      ],
      "metadata": {
        "colab": {
          "base_uri": "https://localhost:8080/"
        },
        "id": "IauiMe9ZI7WS",
        "outputId": "f7b66122-6dad-4508-91b2-efcb7181fe4d"
      },
      "execution_count": 47,
      "outputs": [
        {
          "output_type": "stream",
          "name": "stdout",
          "text": [
            "Erreur : B-DESCRIPTEUR prédit comme B-ORGANE -> 2685 exemples\n",
            "Erreur : B-DESCRIPTEUR prédit comme I-DESCRIPTEUR -> 2086 exemples\n",
            "Erreur : B-DESCRIPTEUR prédit comme I-ORGANE -> 247 exemples\n",
            "Erreur : B-DESCRIPTEUR prédit comme O -> 1210 exemples\n",
            "Erreur : B-ORGANE prédit comme B-DESCRIPTEUR -> 5636 exemples\n",
            "Erreur : B-ORGANE prédit comme I-DESCRIPTEUR -> 556 exemples\n",
            "Erreur : B-ORGANE prédit comme I-ORGANE -> 833 exemples\n",
            "Erreur : B-ORGANE prédit comme O -> 694 exemples\n",
            "Erreur : O prédit comme B-DESCRIPTEUR -> 43311 exemples\n",
            "Erreur : O prédit comme B-ORGANE -> 25583 exemples\n",
            "Erreur : O prédit comme I-DESCRIPTEUR -> 5860 exemples\n",
            "Erreur : O prédit comme I-ORGANE -> 979 exemples\n"
          ]
        }
      ]
    },
    {
      "cell_type": "markdown",
      "source": [
        "**Visualisation des poids des classes**"
      ],
      "metadata": {
        "id": "IdKcEOvsJbOJ"
      }
    },
    {
      "cell_type": "code",
      "source": [
        "# Visualiser les pondérations des classes\n",
        "import matplotlib.pyplot as plt\n",
        "\n",
        "plt.bar(classes, weights.numpy())\n",
        "plt.xlabel(\"Classes\")\n",
        "plt.ylabel(\"Poids\")\n",
        "plt.title(\"Pondérations des classes\")\n",
        "plt.show()\n"
      ],
      "metadata": {
        "colab": {
          "base_uri": "https://localhost:8080/",
          "height": 472
        },
        "id": "4fLUc56mJUsG",
        "outputId": "896683b4-77d4-4ad3-bae2-9cc9de243d13"
      },
      "execution_count": 48,
      "outputs": [
        {
          "output_type": "display_data",
          "data": {
            "text/plain": [
              "<Figure size 640x480 with 1 Axes>"
            ],
            "image/png": "[encoded data removed]"
          },
          "metadata": {}
        }
      ]
    },
    {
      "cell_type": "markdown",
      "source": [
        "Finaliser et exporter le modèle"
      ],
      "metadata": {
        "id": "uDyKF8q2Jpy_"
      }
    },
    {
      "cell_type": "code",
      "source": [
        "# Sauvegarder le modèle entraîné\n",
        "torch.save(model.state_dict(), \"model_weights.pth\")\n",
        "print(\"Modèle sauvegardé avec succès.\")\n"
      ],
      "metadata": {
        "colab": {
          "base_uri": "https://localhost:8080/"
        },
        "id": "qqAGGgAgJfLa",
        "outputId": "69c36a8e-3c9d-40eb-9ec9-5dc73db31a39"
      },
      "execution_count": 49,
      "outputs": [
        {
          "output_type": "stream",
          "name": "stdout",
          "text": [
            "Modèle sauvegardé avec succès.\n"
          ]
        }
      ]
    },
    {
      "cell_type": "markdown",
      "source": [
        "Déployer ou tester un exemple de prédiction"
      ],
      "metadata": {
        "id": "rBIjTulRJ0LI"
      }
    },
    {
      "cell_type": "code",
      "source": [
        "# Exemple de test\n",
        "input_example = [\"Exemple de texte pour prédiction\"]\n",
        "input_ids = tokenizer(input_example, padding=True, truncation=True, return_tensors=\"pt\")['input_ids']\n",
        "\n",
        "model.eval()\n",
        "with torch.no_grad():\n",
        "    logits = model(input_ids)\n",
        "    predictions = torch.argmax(logits, dim=-1)\n",
        "    print(f\"Prédictions : {predictions}\")\n"
      ],
      "metadata": {
        "colab": {
          "base_uri": "https://localhost:8080/"
        },
        "id": "SnRCl-0tJuLi",
        "outputId": "895cee80-3912-4cfa-a795-b73ac581ff54"
      },
      "execution_count": 50,
      "outputs": [
        {
          "output_type": "stream",
          "name": "stdout",
          "text": [
            "Prédictions : tensor([[1, 3, 3, 3, 4, 0, 4, 4, 1, 4, 1, 3]])\n"
          ]
        }
      ]
    },
    {
      "cell_type": "code",
      "source": [
        "# Convertir le modèle en TorchScript pour déploiement\n",
        "scripted_model = torch.jit.script(model)\n",
        "scripted_model.save(\"scripted_model.pt\")\n",
        "\n",
        "print(\"Modèle exporté au format TorchScript avec succès.\")\n"
      ],
      "metadata": {
        "colab": {
          "base_uri": "https://localhost:8080/"
        },
        "id": "_fmtp76rJ4Yd",
        "outputId": "caa1531a-1f65-4bd6-fd8f-0d4ed246d76b"
      },
      "execution_count": 51,
      "outputs": [
        {
          "output_type": "stream",
          "name": "stdout",
          "text": [
            "Modèle exporté au format TorchScript avec succès.\n"
          ]
        }
      ]
    },
    {
      "cell_type": "code",
      "source": [
        "pip install flask torch transformers\n"
      ],
      "metadata": {
        "colab": {
          "base_uri": "https://localhost:8080/"
        },
        "id": "R13zpg4BKN1v",
        "outputId": "f55add41-5031-4760-d2a2-08a76c338403"
      },
      "execution_count": 52,
      "outputs": [
        {
          "output_type": "stream",
          "name": "stdout",
          "text": [
            "Requirement already satisfied: flask in /usr/local/lib/python3.10/dist-packages (3.0.3)\n",
            "Requirement already satisfied: torch in /usr/local/lib/python3.10/dist-packages (2.5.1+cu121)\n",
            "Requirement already satisfied: transformers in /usr/local/lib/python3.10/dist-packages (4.46.3)\n",
            "Requirement already satisfied: Werkzeug>=3.0.0 in /usr/local/lib/python3.10/dist-packages (from flask) (3.1.3)\n",
            "Requirement already satisfied: Jinja2>=3.1.2 in /usr/local/lib/python3.10/dist-packages (from flask) (3.1.4)\n",
            "Requirement already satisfied: itsdangerous>=2.1.2 in /usr/local/lib/python3.10/dist-packages (from flask) (2.2.0)\n",
            "Requirement already satisfied: click>=8.1.3 in /usr/local/lib/python3.10/dist-packages (from flask) (8.1.7)\n",
            "Requirement already satisfied: blinker>=1.6.2 in /usr/local/lib/python3.10/dist-packages (from flask) (1.9.0)\n",
            "Requirement already satisfied: filelock in /usr/local/lib/python3.10/dist-packages (from torch) (3.16.1)\n",
            "Requirement already satisfied: typing-extensions>=4.8.0 in /usr/local/lib/python3.10/dist-packages (from torch) (4.12.2)\n",
            "Requirement already satisfied: networkx in /usr/local/lib/python3.10/dist-packages (from torch) (3.4.2)\n",
            "Requirement already satisfied: fsspec in /usr/local/lib/python3.10/dist-packages (from torch) (2024.9.0)\n",
            "Requirement already satisfied: sympy==1.13.1 in /usr/local/lib/python3.10/dist-packages (from torch) (1.13.1)\n",
            "Requirement already satisfied: mpmath<1.4,>=1.1.0 in /usr/local/lib/python3.10/dist-packages (from sympy==1.13.1->torch) (1.3.0)\n",
            "Requirement already satisfied: huggingface-hub<1.0,>=0.23.2 in /usr/local/lib/python3.10/dist-packages (from transformers) (0.26.3)\n",
            "Requirement already satisfied: numpy>=1.17 in /usr/local/lib/python3.10/dist-packages (from transformers) (1.26.4)\n",
            "Requirement already satisfied: packaging>=20.0 in /usr/local/lib/python3.10/dist-packages (from transformers) (24.2)\n",
            "Requirement already satisfied: pyyaml>=5.1 in /usr/local/lib/python3.10/dist-packages (from transformers) (6.0.2)\n",
            "Requirement already satisfied: regex!=2019.12.17 in /usr/local/lib/python3.10/dist-packages (from transformers) (2024.9.11)\n",
            "Requirement already satisfied: requests in /usr/local/lib/python3.10/dist-packages (from transformers) (2.32.3)\n",
            "Requirement already satisfied: tokenizers<0.21,>=0.20 in /usr/local/lib/python3.10/dist-packages (from transformers) (0.20.3)\n",
            "Requirement already satisfied: safetensors>=0.4.1 in /usr/local/lib/python3.10/dist-packages (from transformers) (0.4.5)\n",
            "Requirement already satisfied: tqdm>=4.27 in /usr/local/lib/python3.10/dist-packages (from transformers) (4.66.6)\n",
            "Requirement already satisfied: MarkupSafe>=2.0 in /usr/local/lib/python3.10/dist-packages (from Jinja2>=3.1.2->flask) (3.0.2)\n",
            "Requirement already satisfied: charset-normalizer<4,>=2 in /usr/local/lib/python3.10/dist-packages (from requests->transformers) (3.4.0)\n",
            "Requirement already satisfied: idna<4,>=2.5 in /usr/local/lib/python3.10/dist-packages (from requests->transformers) (3.10)\n",
            "Requirement already satisfied: urllib3<3,>=1.21.1 in /usr/local/lib/python3.10/dist-packages (from requests->transformers) (2.2.3)\n",
            "Requirement already satisfied: certifi>=2017.4.17 in /usr/local/lib/python3.10/dist-packages (from requests->transformers) (2024.8.30)\n"
          ]
        }
      ]
    },
    {
      "cell_type": "code",
      "source": [
        "!pip install flask flask-ngrok\n"
      ],
      "metadata": {
        "colab": {
          "base_uri": "https://localhost:8080/"
        },
        "id": "OmwKuO2EKgtJ",
        "outputId": "7732f6e4-e08e-420a-a7c4-2ac784ac73d7"
      },
      "execution_count": 53,
      "outputs": [
        {
          "output_type": "stream",
          "name": "stdout",
          "text": [
            "Requirement already satisfied: flask in /usr/local/lib/python3.10/dist-packages (3.0.3)\n",
            "Collecting flask-ngrok\n",
            "  Downloading flask_ngrok-0.0.25-py3-none-any.whl.metadata (1.8 kB)\n",
            "Requirement already satisfied: Werkzeug>=3.0.0 in /usr/local/lib/python3.10/dist-packages (from flask) (3.1.3)\n",
            "Requirement already satisfied: Jinja2>=3.1.2 in /usr/local/lib/python3.10/dist-packages (from flask) (3.1.4)\n",
            "Requirement already satisfied: itsdangerous>=2.1.2 in /usr/local/lib/python3.10/dist-packages (from flask) (2.2.0)\n",
            "Requirement already satisfied: click>=8.1.3 in /usr/local/lib/python3.10/dist-packages (from flask) (8.1.7)\n",
            "Requirement already satisfied: blinker>=1.6.2 in /usr/local/lib/python3.10/dist-packages (from flask) (1.9.0)\n",
            "Requirement already satisfied: requests in /usr/local/lib/python3.10/dist-packages (from flask-ngrok) (2.32.3)\n",
            "Requirement already satisfied: MarkupSafe>=2.0 in /usr/local/lib/python3.10/dist-packages (from Jinja2>=3.1.2->flask) (3.0.2)\n",
            "Requirement already satisfied: charset-normalizer<4,>=2 in /usr/local/lib/python3.10/dist-packages (from requests->flask-ngrok) (3.4.0)\n",
            "Requirement already satisfied: idna<4,>=2.5 in /usr/local/lib/python3.10/dist-packages (from requests->flask-ngrok) (3.10)\n",
            "Requirement already satisfied: urllib3<3,>=1.21.1 in /usr/local/lib/python3.10/dist-packages (from requests->flask-ngrok) (2.2.3)\n",
            "Requirement already satisfied: certifi>=2017.4.17 in /usr/local/lib/python3.10/dist-packages (from requests->flask-ngrok) (2024.8.30)\n",
            "Downloading flask_ngrok-0.0.25-py3-none-any.whl (3.1 kB)\n",
            "Installing collected packages: flask-ngrok\n",
            "Successfully installed flask-ngrok-0.0.25\n"
          ]
        }
      ]
    },
    {
      "cell_type": "code",
      "source": [
        "from flask import Flask, request, jsonify\n",
        "import torch\n",
        "from transformers import AutoTokenizer\n",
        "\n",
        "# Charger le modèle et le tokenizer\n",
        "model = torch.jit.load(\"scripted_model.pt\")  # Assurez-vous que le modèle est sauvegardé\n",
        "model.eval()\n",
        "tokenizer = AutoTokenizer.from_pretrained(\"bert-base-uncased\")  # Remplacez par votre modèle\n",
        "\n",
        "app = Flask(__name__)\n",
        "\n",
        "@app.route('/predict', methods=['POST'])\n",
        "def predict():\n",
        "    try:\n",
        "        data = request.json\n",
        "        text = data['text']\n",
        "\n",
        "        # Tokeniser le texte\n",
        "        inputs = tokenizer(text, padding=True, truncation=True, return_tensors=\"pt\")\n",
        "        with torch.no_grad():\n",
        "            logits = model(inputs['input_ids'])\n",
        "            predictions = torch.argmax(logits, dim=-1)\n",
        "\n",
        "        return jsonify({'predictions': predictions.tolist()})\n",
        "    except Exception as e:\n",
        "        return jsonify({'error': str(e)}), 500\n"
      ],
      "metadata": {
        "colab": {
          "base_uri": "https://localhost:8080/",
          "height": 145,
          "referenced_widgets": [
            "8779b742f53b43f3b822eb9c8c4474bd",
            "a292ccffe1ed4d0ba47fb0503cbc31ed",
            "f53ec23d964f4d20a9f5904f151bea2a",
            "6f0d2f30cf594fa5ae1ad0ae32860364",
            "1bb9c3443120456882af06f11414b5ab",
            "4ab7c55f0d5149e8897fa442446f0d35",
            "552002a3a8ae4cde86edd9d7f825cb6b",
            "c25a8cce803c4235bab6adf60304aa30",
            "2cf9bf985eaf40aaa82950621529966f",
            "0238e08cf6cf40cfa449728cf79748fc",
            "da4f4a8c20bc4a408ec37ab040208cfe",
            "e2b17f12fd0c4cce9b92ee7af3413d8b",
            "af564a96f4e048aa93b8c5a05091bd1e",
            "a4987cc652274cee94a123c20abc1541",
            "0b983301c6254efcbd014087a2000f5e",
            "c5c25c45a2cd44a1ab8719de1b33a4de",
            "2bf5e8034d55468592cc84d67d427665",
            "92cb8d62381f4aa08f0438a457ad5288",
            "6fcda3b4ca964e24a17479d287216ec5",
            "3c114709f3be4dc182a514ab5fcf0f85",
            "4c1c44d8cc7d4984a67662af75c49ddb",
            "3c4988fb77694ab0bcb6bd72166f66e8",
            "8c075f2c870442fc85576def09d9ae8c",
            "2e4708c9ba8344cb938477d9f6dfde8c",
            "eee16f32215b44fbafa9cd7e5777db40",
            "41eba3fa84444211ab277e8c850c7ceb",
            "307ee5b1e25c4db982083d509861fd9f",
            "8717bb84f5f849c3bc6d3bbdc23ec59c",
            "2eb7cdb58c314ffe8d517b2d81a82df5",
            "2f547d6360c747a2aa9d81b8f812363d",
            "b554986a7d2648d9a3a538e3882b7c65",
            "975ff9da99c84c7189dedd8f1a894e8a",
            "f342fbf6894b4b0999046b4d675a1559",
            "03023085748a4e5a86a73e93c450eb13",
            "4c725ed8c9dd4d80b205f81b0ea64493",
            "ae23bbf274b543a5a90382ceac8fbcae",
            "895e140cdcf4435a9a6e9edce865af98",
            "68ec754ed170496186001e38455e89da",
            "1b4190f8292d490d98c60a2afe4fabba",
            "8e5265f5abfa46fe8b61f868f373e5bc",
            "bc3efaeb404b49ccafdb2a3e23851e68",
            "6ee518d8a676492397c302779fc006d8",
            "dc0eb3f6315743f9875098a86110c946",
            "d1c88db5df3742dea8d5c4bdbd2eecbd"
          ]
        },
        "id": "U5X1gS15K6L5",
        "outputId": "d8a672c1-87da-4c3c-b1c0-a461afc05fb3"
      },
      "execution_count": 54,
      "outputs": [
        {
          "output_type": "display_data",
          "data": {
            "text/plain": [
              "tokenizer_config.json:   0%|          | 0.00/48.0 [00:00<?, ?B/s]"
            ],
            "application/vnd.jupyter.widget-view+json": {
              "version_major": 2,
              "version_minor": 0,
              "model_id": "8779b742f53b43f3b822eb9c8c4474bd"
            }
          },
          "metadata": {}
        },
        {
          "output_type": "display_data",
          "data": {
            "text/plain": [
              "config.json:   0%|          | 0.00/570 [00:00<?, ?B/s]"
            ],
            "application/vnd.jupyter.widget-view+json": {
              "version_major": 2,
              "version_minor": 0,
              "model_id": "e2b17f12fd0c4cce9b92ee7af3413d8b"
            }
          },
          "metadata": {}
        },
        {
          "output_type": "display_data",
          "data": {
            "text/plain": [
              "vocab.txt:   0%|          | 0.00/232k [00:00<?, ?B/s]"
            ],
            "application/vnd.jupyter.widget-view+json": {
              "version_major": 2,
              "version_minor": 0,
              "model_id": "8c075f2c870442fc85576def09d9ae8c"
            }
          },
          "metadata": {}
        },
        {
          "output_type": "display_data",
          "data": {
            "text/plain": [
              "tokenizer.json:   0%|          | 0.00/466k [00:00<?, ?B/s]"
            ],
            "application/vnd.jupyter.widget-view+json": {
              "version_major": 2,
              "version_minor": 0,
              "model_id": "03023085748a4e5a86a73e93c450eb13"
            }
          },
          "metadata": {}
        }
      ]
    },
    {
      "cell_type": "code",
      "source": [
        "from flask_ngrok import run_with_ngrok\n",
        "\n",
        "# Lancer le serveur Flask avec ngrok\n",
        "run_with_ngrok(app)  # Expose l'API via ngrok\n",
        "app.run()\n"
      ],
      "metadata": {
        "colab": {
          "base_uri": "https://localhost:8080/"
        },
        "id": "jwBDrl3WK_mp",
        "outputId": "23210602-6bc6-4cd7-cf87-afe32887589c"
      },
      "execution_count": 55,
      "outputs": [
        {
          "output_type": "stream",
          "name": "stdout",
          "text": [
            " * Serving Flask app '__main__'\n",
            " * Debug mode: off\n"
          ]
        },
        {
          "output_type": "stream",
          "name": "stderr",
          "text": [
            "INFO:werkzeug:\u001b[31m\u001b[1mWARNING: This is a development server. Do not use it in a production deployment. Use a production WSGI server instead.\u001b[0m\n",
            " * Running on http://127.0.0.1:5000\n",
            "INFO:werkzeug:\u001b[33mPress CTRL+C to quit\u001b[0m\n",
            "Exception in thread Thread-11:\n",
            "Traceback (most recent call last):\n",
            "  File \"/usr/local/lib/python3.10/dist-packages/urllib3/connection.py\", line 199, in _new_conn\n",
            "    sock = connection.create_connection(\n",
            "  File \"/usr/local/lib/python3.10/dist-packages/urllib3/util/connection.py\", line 85, in create_connection\n",
            "    raise err\n",
            "  File \"/usr/local/lib/python3.10/dist-packages/urllib3/util/connection.py\", line 73, in create_connection\n",
            "    sock.connect(sa)\n",
            "ConnectionRefusedError: [Errno 111] Connection refused\n",
            "\n",
            "The above exception was the direct cause of the following exception:\n",
            "\n",
            "Traceback (most recent call last):\n",
            "  File \"/usr/local/lib/python3.10/dist-packages/urllib3/connectionpool.py\", line 789, in urlopen\n",
            "    response = self._make_request(\n",
            "  File \"/usr/local/lib/python3.10/dist-packages/urllib3/connectionpool.py\", line 495, in _make_request\n",
            "    conn.request(\n",
            "  File \"/usr/local/lib/python3.10/dist-packages/urllib3/connection.py\", line 441, in request\n",
            "    self.endheaders()\n",
            "  File \"/usr/lib/python3.10/http/client.py\", line 1278, in endheaders\n",
            "    self._send_output(message_body, encode_chunked=encode_chunked)\n",
            "  File \"/usr/lib/python3.10/http/client.py\", line 1038, in _send_output\n",
            "    self.send(msg)\n",
            "  File \"/usr/lib/python3.10/http/client.py\", line 976, in send\n",
            "    self.connect()\n",
            "  File \"/usr/local/lib/python3.10/dist-packages/urllib3/connection.py\", line 279, in connect\n",
            "    self.sock = self._new_conn()\n",
            "  File \"/usr/local/lib/python3.10/dist-packages/urllib3/connection.py\", line 214, in _new_conn\n",
            "    raise NewConnectionError(\n",
            "urllib3.exceptions.NewConnectionError: <urllib3.connection.HTTPConnection object at 0x7c84fb5a1b70>: Failed to establish a new connection: [Errno 111] Connection refused\n",
            "\n",
            "The above exception was the direct cause of the following exception:\n",
            "\n",
            "Traceback (most recent call last):\n",
            "  File \"/usr/local/lib/python3.10/dist-packages/requests/adapters.py\", line 667, in send\n",
            "    resp = conn.urlopen(\n",
            "  File \"/usr/local/lib/python3.10/dist-packages/urllib3/connectionpool.py\", line 843, in urlopen\n",
            "    retries = retries.increment(\n",
            "  File \"/usr/local/lib/python3.10/dist-packages/urllib3/util/retry.py\", line 519, in increment\n",
            "    raise MaxRetryError(_pool, url, reason) from reason  # type: ignore[arg-type]\n",
            "urllib3.exceptions.MaxRetryError: HTTPConnectionPool(host='localhost', port=4040): Max retries exceeded with url: /api/tunnels (Caused by NewConnectionError('<urllib3.connection.HTTPConnection object at 0x7c84fb5a1b70>: Failed to establish a new connection: [Errno 111] Connection refused'))\n",
            "\n",
            "During handling of the above exception, another exception occurred:\n",
            "\n",
            "Traceback (most recent call last):\n",
            "  File \"/usr/lib/python3.10/threading.py\", line 1016, in _bootstrap_inner\n",
            "    self.run()\n",
            "  File \"/usr/lib/python3.10/threading.py\", line 1378, in run\n",
            "    self.function(*self.args, **self.kwargs)\n",
            "  File \"/usr/local/lib/python3.10/dist-packages/flask_ngrok.py\", line 70, in start_ngrok\n",
            "    ngrok_address = _run_ngrok()\n",
            "  File \"/usr/local/lib/python3.10/dist-packages/flask_ngrok.py\", line 35, in _run_ngrok\n",
            "    tunnel_url = requests.get(localhost_url).text  # Get the tunnel information\n",
            "  File \"/usr/local/lib/python3.10/dist-packages/requests/api.py\", line 73, in get\n",
            "    return request(\"get\", url, params=params, **kwargs)\n",
            "  File \"/usr/local/lib/python3.10/dist-packages/requests/api.py\", line 59, in request\n",
            "    return session.request(method=method, url=url, **kwargs)\n",
            "  File \"/usr/local/lib/python3.10/dist-packages/requests/sessions.py\", line 589, in request\n",
            "    resp = self.send(prep, **send_kwargs)\n",
            "  File \"/usr/local/lib/python3.10/dist-packages/requests/sessions.py\", line 703, in send\n",
            "    r = adapter.send(request, **kwargs)\n",
            "  File \"/usr/local/lib/python3.10/dist-packages/requests/adapters.py\", line 700, in send\n",
            "    raise ConnectionError(e, request=request)\n",
            "requests.exceptions.ConnectionError: HTTPConnectionPool(host='localhost', port=4040): Max retries exceeded with url: /api/tunnels (Caused by NewConnectionError('<urllib3.connection.HTTPConnection object at 0x7c84fb5a1b70>: Failed to establish a new connection: [Errno 111] Connection refused'))\n"
          ]
        }
      ]
    },
    {
      "cell_type": "markdown",
      "source": [
        "**Testing**"
      ],
      "metadata": {
        "id": "oh8zUPXoYJ0o"
      }
    },
    {
      "cell_type": "code",
      "source": [
        "import torch\n",
        "from sklearn.metrics import classification_report\n",
        "\n",
        "# Example label mapping (replace with your actual mapping)\n",
        "label_map = {0: \"O\", 1: \"B-PER\", 2: \"I-PER\", 3: \"B-LOC\", 4: \"I-LOC\", 5: \"B-ORG\", 6: \"I-ORG\"}\n",
        "\n",
        "# Assuming `test_data` is a dictionary containing your test sentences and labels\n",
        "# Example of test_data format:\n",
        "# test_data = {'sentences': [['word1', 'word2'], ['word3', 'word4']], 'labels': [[0, 1], [2, 3]]}\n",
        "\n",
        "# Assuming `predictions` is a list of predicted labels for each sentence\n",
        "# Example of predictions format:\n",
        "# predictions = [[0, 1], [2, 3]]\n",
        "\n",
        "# Initialize lists to store true labels and predicted labels\n",
        "true_labels = []\n",
        "predicted_labels = []\n",
        "\n",
        "# Loop over your test data\n",
        "for sentence_idx, sentence in enumerate(test_data['sentences']):\n",
        "    # Get the true labels for the current sentence\n",
        "    sentence_labels = test_data['labels'][sentence_idx]\n",
        "\n",
        "    # Get the predicted labels for the current sentence\n",
        "    sentence_predictions = predictions[sentence_idx]\n",
        "\n",
        "    # Check if the sentence_predictions is a single label (not a list)\n",
        "    if isinstance(sentence_predictions, int):\n",
        "        # If it's a single label, we treat it as a single word prediction for the entire sentence\n",
        "        predicted_labels.extend([sentence_predictions] * len(sentence_labels))\n",
        "    else:\n",
        "        # If it's a list, extend with all the predicted labels\n",
        "        predicted_labels.extend(sentence_predictions)\n",
        "\n",
        "    # Append true labels\n",
        "    true_labels.extend(sentence_labels)\n",
        "\n",
        "# Convert integer labels to string format using the label map\n",
        "true_labels_str = [label_map[label] if isinstance(label, int) else label for label in true_labels]\n",
        "predicted_labels_str = [label_map[label] if isinstance(label, int) else label for label in predicted_labels]\n",
        "\n",
        "# Ensure that the lengths are consistent\n",
        "print(f\"Number of True Labels: {len(true_labels_str)}\")\n",
        "print(f\"Number of Predicted Labels: {len(predicted_labels_str)}\")\n",
        "\n",
        "# If lengths match, generate the classification report\n",
        "if len(true_labels_str) == len(predicted_labels_str):\n",
        "    report = classification_report(true_labels_str, predicted_labels_str)\n",
        "    print(report)\n",
        "else:\n",
        "    print(f\"Error: Mismatched number of labels. True: {len(true_labels_str)}, Predicted: {len(predicted_labels_str)}\")\n"
      ],
      "metadata": {
        "colab": {
          "base_uri": "https://localhost:8080/"
        },
        "id": "S64bY1M3TdZe",
        "outputId": "d1ef5607-33f4-4198-d9c9-a2ef2a46654c"
      },
      "execution_count": 88,
      "outputs": [
        {
          "output_type": "stream",
          "name": "stdout",
          "text": [
            "Number of True Labels: 9\n",
            "Number of Predicted Labels: 9\n",
            "              precision    recall  f1-score   support\n",
            "\n",
            "       B-LOC       0.00      0.00      0.00         1\n",
            "       B-ORG       0.00      0.00      0.00         1\n",
            "       B-PER       0.22      1.00      0.36         2\n",
            "       I-LOC       0.00      0.00      0.00         1\n",
            "           O       0.00      0.00      0.00         4\n",
            "\n",
            "    accuracy                           0.22         9\n",
            "   macro avg       0.04      0.20      0.07         9\n",
            "weighted avg       0.05      0.22      0.08         9\n",
            "\n"
          ]
        },
        {
          "output_type": "stream",
          "name": "stderr",
          "text": [
            "/usr/local/lib/python3.10/dist-packages/sklearn/metrics/_classification.py:1531: UndefinedMetricWarning: Precision is ill-defined and being set to 0.0 in labels with no predicted samples. Use `zero_division` parameter to control this behavior.\n",
            "  _warn_prf(average, modifier, f\"{metric.capitalize()} is\", len(result))\n",
            "/usr/local/lib/python3.10/dist-packages/sklearn/metrics/_classification.py:1531: UndefinedMetricWarning: Precision is ill-defined and being set to 0.0 in labels with no predicted samples. Use `zero_division` parameter to control this behavior.\n",
            "  _warn_prf(average, modifier, f\"{metric.capitalize()} is\", len(result))\n",
            "/usr/local/lib/python3.10/dist-packages/sklearn/metrics/_classification.py:1531: UndefinedMetricWarning: Precision is ill-defined and being set to 0.0 in labels with no predicted samples. Use `zero_division` parameter to control this behavior.\n",
            "  _warn_prf(average, modifier, f\"{metric.capitalize()} is\", len(result))\n"
          ]
        }
      ]
    },
    {
      "cell_type": "code",
      "source": [
        "with torch.no_grad():\n",
        "    outputs = model(input_ids)  # This step runs the model on test data\n",
        "    predictions = torch.argmax(outputs, dim=-1).tolist()  # Get predictions\n"
      ],
      "metadata": {
        "id": "xvCYhm6XRZ18"
      },
      "execution_count": 70,
      "outputs": []
    }
  ]
}